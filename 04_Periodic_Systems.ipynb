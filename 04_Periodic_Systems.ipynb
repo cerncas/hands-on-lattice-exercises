{
 "cells": [
  {
   "cell_type": "markdown",
   "metadata": {
    "editable": true,
    "slideshow": {
     "slide_type": "slide"
    },
    "tags": []
   },
   "source": [
    "---\n",
    "\n",
    "# Periodic systems\n",
    "\n",
    "Exercises for periodic systems, like an accelerator ring (exercises 18-27).\n",
    "\n",
    "---"
   ]
  },
  {
   "cell_type": "code",
   "execution_count": 1,
   "metadata": {},
   "outputs": [],
   "source": [
    "# Import custom tracking functions and useful libraries\n",
    "from tracking_library import *\n",
    "\n",
    "# Set up plotting\n",
    "%matplotlib inline\n",
    "params = {'legend.fontsize': 'x-large',\n",
    "          'figure.figsize': (15, 5),\n",
    "         'axes.labelsize': 'x-large',\n",
    "         'axes.titlesize':'x-large',\n",
    "         'xtick.labelsize':'x-large',\n",
    "         'ytick.labelsize':'x-large'}\n",
    "plt.rcParams.update(params)"
   ]
  },
  {
   "cell_type": "markdown",
   "metadata": {},
   "source": [
    "### Exercise 18\n",
    "Try to find an initial beam matrix sigma0 by **try and error** that reproduces itself at the end of the beam line (5 FODO cells). You will quickly realise that this is extremely difficult if not impossible. \n",
    "\n",
    "**Hint 1**: (optional) you might want to use an **interactive plot** - see in the previous exercises how to make one\n",
    "\n",
    "**Hint 2**: try, but **don't waist to much time with try and error** approaches (that's not your job as accelerator physicist!), and **move on** to the next exercise..."
   ]
  },
  {
   "cell_type": "markdown",
   "metadata": {},
   "source": [
    "#### SOLUTION"
   ]
  },
  {
   "cell_type": "code",
   "execution_count": 2,
   "metadata": {},
   "outputs": [],
   "source": [
    "# code here your solution...\n",
    "\n",
    "\n",
    "\n"
   ]
  },
  {
   "cell_type": "markdown",
   "metadata": {
    "slideshow": {
     "slide_type": "slide"
    }
   },
   "source": [
    "### Exercise 19\n",
    "\n",
    "Try to simplify the problem of previous exercise. **Recall** [Wolfgan's lecture](https://indico.cern.ch/event/1117526/contributions/4978192/):\n",
    "\n",
    "<p align=\"center\">\n",
    "<img src=./_img_exercises/slide_fodo_periodic.png width=\"60%\">\n",
    "</p>\n",
    "\n",
    "In a FODO cell the $\\beta$ function reaches a maximum (or a minimum) in the middle of the quadrupoles, i.e. the $\\alpha$ function is zero.\n",
    "If one models the FODO cell starting from the middle of a quadrupole (instead of the middle of a drift), then at least one parameter is fixed.\n",
    "\n",
    "Even better: one can use the equation form [Wolfgan's lecture](https://indico.cern.ch/event/1117526/contributions/4978192/) to find the theoretical solution.\n",
    "\n",
    "**Hint**: A half-quadrupole has double the focal length than a full quadrupole."
   ]
  },
  {
   "cell_type": "markdown",
   "metadata": {
    "slideshow": {
     "slide_type": "subslide"
    }
   },
   "source": [
    "#### SOLUTION"
   ]
  },
  {
   "cell_type": "code",
   "execution_count": 3,
   "metadata": {},
   "outputs": [],
   "source": [
    "# code here your solution...\n",
    "\n",
    "\n",
    "\n",
    "\n",
    "\n"
   ]
  },
  {
   "cell_type": "markdown",
   "metadata": {},
   "source": [
    "## General solution\n",
    "\n",
    "**Recall** [Wolfgan's lecture](https://indico.cern.ch/event/1117526/contributions/4978192/). In a periodic beam line, the transfer matrix assumes the form:\n",
    "\n",
    "\\begin{equation}\n",
    "M = \n",
    "    \\left[\n",
    "    \\begin{array}{cc}\n",
    "    \\cos(\\mu) + \\alpha_0 \\sin(\\mu)  & \\beta_0 \\sin(\\mu)\\\\\n",
    "    - \\gamma_0 \\sin(\\mu) & \\cos(\\mu) - \\alpha_0 \\sin(\\mu)\n",
    "    \\end{array}\n",
    "    \\right]\n",
    "\\end{equation}\n",
    "\n",
    "where $\\alpha_0$, $\\beta_0$, $\\gamma_0$ are the initial (and final) Twiss values and $\\mu$ is the phase advance (or tune, if we talk about a whole ring) of the associated beamline.\n",
    "From this expression, one can extract the periodic solution of any beamline, assuming it exists!\n",
    "\n",
    "Note: Since the determinant of $M$ must be one, then one can verify that the trace of the matrix R must be $|\\mathrm{Tr}(M)| \\le 2$ to ensure the existence of such a solution.\n",
    "\n",
    "This can be implemented in an useful function:"
   ]
  },
  {
   "cell_type": "code",
   "execution_count": 4,
   "metadata": {
    "editable": true,
    "slideshow": {
     "slide_type": "slide"
    },
    "tags": []
   },
   "outputs": [],
   "source": [
    "def twiss(beamline):\n",
    "    '''\n",
    "    Computes and returns the closed solution (if it exist!) Tune (Q) and Twiss parameters \n",
    "    beta, alpha, gamma of the given beamline.\n",
    "    '''\n",
    "\n",
    "    # first, compute the equivalent \"One-Turn-Map\", and extract its matrix:\n",
    "    OTM = getEquivalentElement(beamline)\n",
    "    R = OTM[0]['matrix']\n",
    "    \n",
    "    # check that this matrix is stable:\n",
    "    if np.abs(0.5*(R[0,0]+R[1,1])) > 1:\n",
    "        raise ValueError('This beamline is not stable!')\n",
    "    \n",
    "    # all relevant Twiss parameters can be extrcted from the matrix:\n",
    "    mu = np.arccos(0.5*(R[0,0]+R[1,1]))\n",
    "    if (R[0,1]<0): \n",
    "        mu = 2*np.pi-mu\n",
    "    Q = mu/(2*np.pi)\n",
    "    beta = R[0,1]/np.sin(mu)\n",
    "    alpha = (0.5*(R[0,0]-R[1,1]))/np.sin(mu)\n",
    "    gamma = (1+alpha**2)/beta\n",
    "    \n",
    "    return Q, beta, alpha, gamma"
   ]
  },
  {
   "cell_type": "markdown",
   "metadata": {},
   "source": [
    "### Exercise 20\n",
    "\n",
    "Let's go back to our initial FODO cell, starting from the middle of a drift.\n",
    "Find the range of focal lengths $f$ for which the FODO cells permit stable oscillations based on the newly introduced condition (i.e. $|Tr(R)| \\le 2$)"
   ]
  },
  {
   "cell_type": "markdown",
   "metadata": {},
   "source": [
    "#### SOLUTION\n"
   ]
  },
  {
   "cell_type": "code",
   "execution_count": 5,
   "metadata": {},
   "outputs": [],
   "source": [
    "# code here your solution...\n",
    "\n",
    "\n",
    "\n",
    "\n"
   ]
  },
  {
   "cell_type": "markdown",
   "metadata": {},
   "source": [
    "### Exercise 21\n",
    "\n",
    "Consider our usual FODO cell starting from the middle of a drift, and which allows for having a periodic solution (i.e. $f > L_{FODO}/4$)\n",
    "Compute the periodic $\\sigma_0$ matrix using the Twiss parameters obtain for the newly defined `twiss` function (assuming $\\epsilon=1$).\n",
    "\n",
    "Transport the periodic $\\Sigma$ matrix along the FODO and convince yourself that the $\\Sigma_s$ matrix at the end of the FODO is indeed equal to the one at the start, $\\Sigma_0$."
   ]
  },
  {
   "cell_type": "markdown",
   "metadata": {},
   "source": [
    "#### SOLUTION"
   ]
  },
  {
   "cell_type": "code",
   "execution_count": 6,
   "metadata": {},
   "outputs": [],
   "source": [
    "# code here your solution...\n",
    "\n",
    "\n",
    "\n"
   ]
  },
  {
   "cell_type": "markdown",
   "metadata": {},
   "source": [
    "### Exercise 22\n",
    "Write down the numerical values of initial beam matrix $\\Sigma_0$, then build a beam line made of $15$ consecutive cells by changing the definition of the lattice and then, using $\\Sigma_0$ with the noted-down numbers, prepare a plot of the beam sizes along the $15$ cells. \n",
    "Is this also periodic?"
   ]
  },
  {
   "cell_type": "markdown",
   "metadata": {},
   "source": [
    "#### SOLUTION"
   ]
  },
  {
   "cell_type": "code",
   "execution_count": 7,
   "metadata": {},
   "outputs": [],
   "source": [
    "# code here your solution...\n",
    "\n",
    "\n",
    "\n"
   ]
  },
  {
   "cell_type": "markdown",
   "metadata": {
    "slideshow": {
     "slide_type": "slide"
    }
   },
   "source": [
    "### Exercise 23\n",
    "\n",
    "Consider our usual FODO cell.\n",
    "Consider a single particle with some non-zero initial $x_0$ and/or $x_0'$, and plot the $x$, $x'$ coordinates at the end of each FODO cell for a beamline made of 100 cells. \n",
    "\n",
    "**Hint:** You should use both `getEquivalentElement` to obtain the single FODO cell element, and `transportParticles` function to track the particle over several of such a cell.\n",
    "\n",
    "**Hint:** use `plt.scatter(output['x'], output['px'])` to plot all phase-space coordinates."
   ]
  },
  {
   "cell_type": "markdown",
   "metadata": {
    "slideshow": {
     "slide_type": "subslide"
    }
   },
   "source": [
    "#### SOLUTIONS\n",
    "For plotting the trace space evolution of a particle we need to observe it turn-after-turn. The natural way to do that is to compress the beam line (in general composed by more than one element) in a single transformation: the one-turn-matrix, which can be computed using the `getEquivalentElement` function previously introduced."
   ]
  },
  {
   "cell_type": "code",
   "execution_count": 8,
   "metadata": {},
   "outputs": [],
   "source": [
    "# code here your solution...\n",
    "\n",
    "\n",
    "\n"
   ]
  },
  {
   "cell_type": "markdown",
   "metadata": {},
   "source": [
    "### Exercise 24 (optional)\n",
    "In the definition of FODO of the previous exercise, reverse the polarity of both quadrupoles and prepare a phase-space plot. How does it differ from the one in Exercise 18?"
   ]
  },
  {
   "cell_type": "markdown",
   "metadata": {},
   "source": [
    "#### SOLUTION"
   ]
  },
  {
   "cell_type": "code",
   "execution_count": 9,
   "metadata": {},
   "outputs": [],
   "source": [
    "# code here your solution...\n",
    "\n",
    "\n",
    "\n",
    "\n"
   ]
  },
  {
   "cell_type": "markdown",
   "metadata": {},
   "source": [
    "---\n",
    "\n",
    "## Ellipses ans Single Particle Emittance\n",
    "\n",
    "It turns out that our particle turn-after-turn stays on an ellipses: \n",
    "\n",
    "\\begin{equation}\n",
    "\\epsilon = \\gamma x^2 + 2 \\alpha x x' + \\beta x'\\,^2\n",
    "\\end{equation}\n",
    "\n",
    "where $(\\alpha, \\beta, \\gamma)$ are the periodic Twiss parameter! and $\\epsilon$, in this case, is the **single particle emittance**.\n",
    "\n",
    "Without entering in the implementation details, let's define two useful functions that can give us the single particle emittance (`particle_emittance(x, xp, beta, alpha)`) or to give us the coordinate in phase space for an ellipse with the given Twiss and emittance (`ellipse_points(emittance, beta, alpha, n_points = 100)`)"
   ]
  },
  {
   "cell_type": "code",
   "execution_count": 10,
   "metadata": {
    "editable": true,
    "slideshow": {
     "slide_type": "slide"
    },
    "tags": []
   },
   "outputs": [],
   "source": [
    "def particle_emittance(x, xp, beta, alpha):\n",
    "    '''Returns the single particle emittance for a given \n",
    "       x, xp particle coordinates and assumed beta and alpha parameters\n",
    "    '''\n",
    "    # compute gamma\n",
    "    gamma = (alpha**2 + 1)/beta\n",
    "    # compute and return the associated single particle emittance\n",
    "    epsilon = gamma*x**2 + 2*alpha*x*xp + beta*xp**2\n",
    "    return epsilon\n",
    "\n",
    "def ellipse_points(emittance, beta, alpha, n_points = 100):\n",
    "    ''' Returns the x,x' coordinates of an ellipse in phase space for \n",
    "        the given Twiss parameters (beta, gamma, emittance)\n",
    "    '''\n",
    "    # generate a uniform sampling of phases:\n",
    "    thetas = np.linspace(0, 2*np.pi, n_points)\n",
    "    # generate coordinates\n",
    "    x  = np.sqrt(emittance*beta)*np.cos(thetas)\n",
    "    xp = -np.sqrt(emittance/beta)*(alpha*np.cos(thetas)-np.sin(thetas))\n",
    "    # return them in our usual form\n",
    "    return np.array([x, xp])\n"
   ]
  },
  {
   "cell_type": "markdown",
   "metadata": {},
   "source": [
    "### Exercise 25\n",
    "\n",
    "Consider the usual FODO cell, repeated 100 times.\n",
    "Plot the trajectory, in phase space, of a particle with x=1 mm and xp=0 cell after cell.\n",
    "\n",
    "Using the functions you have now available, compute the expected periodic solution of our cell, and use this information to:\n",
    "\n",
    "- compute the single particle emittance\n",
    "- produce the coordinates in phase space of an ellipse with such an emittance\n",
    "\n",
    "Plot both the tracked particle coordinates and the ellipse in phase space: what do you observe?\n",
    "\n",
    "**Optional:** would you be able to predict the exact tracked particle coordinates only from the single cell?\n",
    "\n",
    "**Hint:** for this latter question, one needs to look carefully at the functions implementation details...\n"
   ]
  },
  {
   "cell_type": "code",
   "execution_count": 11,
   "metadata": {},
   "outputs": [],
   "source": [
    "# code here your solution...\n",
    "\n",
    "\n",
    "\n"
   ]
  },
  {
   "cell_type": "markdown",
   "metadata": {
    "slideshow": {
     "slide_type": "slide"
    }
   },
   "source": [
    "### Exercise 26\n",
    "Plot the position of the particle vs the number of turns. \n",
    "\n",
    "1. What do you observe?\n",
    "2. Can you infer the tune? \n",
    "3. How many turns (or FODO cells) are needed for the particle to complete one full oscillation?\n",
    "4. What changes if you start from a different initial coordinate?"
   ]
  },
  {
   "cell_type": "markdown",
   "metadata": {
    "slideshow": {
     "slide_type": "subslide"
    }
   },
   "source": [
    "#### SOLUTION"
   ]
  },
  {
   "cell_type": "code",
   "execution_count": 12,
   "metadata": {},
   "outputs": [],
   "source": [
    "# code here your solution...\n",
    "\n",
    "\n",
    "\n"
   ]
  },
  {
   "cell_type": "markdown",
   "metadata": {},
   "source": [
    "### Exercise 27\n",
    "\n",
    "Consider a single FODO cell of total length $L_{FODO}=2$ m. \n",
    "\n",
    "1. Can you find $f$ such that the FODO cell phase advance is $\\mu = \\pi/2$, i.e. 90 deg phase-advance?\n",
    "2. Repeat this cell 100 times, and plot the trajectory, in phase space, of a particle with x=1 mm and xp=0 cell after cell: what do you observe?\n",
    "3. (Optional) Show that the similar results are obtained irrespectively if you start your FODO from the middle of a quadrupole or of a drift.\n",
    "\n",
    "**Hint:** Look back at [Wolfgan's lecture](https://indico.cern.ch/event/1117526/contributions/4978192/):\n",
    "\n",
    "<p align=\"center\">\n",
    "<img src=./_img_exercises/slide_fodo_phase.png width=\"60%\">\n",
    "</p>\n",
    "\n",
    "and recall that $\\mathrm{Tr}(M) = 2 \\cos(\\mu)$. \n",
    "With some math, one can prove that:\n",
    "\n",
    "\\begin{equation}\n",
    "\\sin(\\mu/2) = \\frac{L_{FODO}}{4f}\n",
    "\\end{equation}\n",
    "\n"
   ]
  },
  {
   "cell_type": "markdown",
   "metadata": {},
   "source": [
    "#### SOLUTION"
   ]
  },
  {
   "cell_type": "code",
   "execution_count": 13,
   "metadata": {
    "editable": true,
    "slideshow": {
     "slide_type": "slide"
    },
    "tags": []
   },
   "outputs": [],
   "source": [
    "# code here your solution...\n",
    "\n",
    "\n",
    "\n",
    "\n"
   ]
  }
 ],
 "metadata": {
  "celltoolbar": "Slideshow",
  "kernelspec": {
   "display_name": "Python 3 (ipykernel)",
   "language": "python",
   "name": "python3"
  },
  "language_info": {
   "codemirror_mode": {
    "name": "ipython",
    "version": 3
   },
   "file_extension": ".py",
   "mimetype": "text/x-python",
   "name": "python",
   "nbconvert_exporter": "python",
   "pygments_lexer": "ipython3",
   "version": "3.9.18"
  },
  "vscode": {
   "interpreter": {
    "hash": "fbec5cc8bb1f13e0584b60d171916a07df7bc30ce2ee62338372c9d5be648ecd"
   }
  }
 },
 "nbformat": 4,
 "nbformat_minor": 4
}
