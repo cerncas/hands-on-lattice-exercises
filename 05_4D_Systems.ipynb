{
 "cells": [
  {
   "cell_type": "markdown",
   "metadata": {
    "editable": true,
    "slideshow": {
     "slide_type": "slide"
    },
    "tags": []
   },
   "source": [
    "# Fifth Hands-On Session\n",
    "---\n",
    "Tracking in both H & V planes:\n",
    "- Introducing the vertical plane: 4D matrices\n",
    "- Introucing coupling with a solenoid\n",
    "\n",
    "---\n",
    "\n",
    "The following exercises might not be addressed during the course, but we encourage you to explore them after the course.\n",
    "They are examples that show how one can extend our simple tools to investigate and better understand more complex systems."
   ]
  },
  {
   "cell_type": "markdown",
   "metadata": {
    "editable": true,
    "slideshow": {
     "slide_type": "slide"
    },
    "tags": []
   },
   "source": [
    "## 🐍 Python corner\n",
    "\n",
    "Let's import standard packages and settings. We'll be using:\n",
    "- `numpy` as `np`\n",
    "- `matplotlib.pyplot` as `plt`\n",
    "- functions `D`, `Q`, `transportParticles`, `getEquivalentElement`"
   ]
  },
  {
   "cell_type": "code",
   "execution_count": 2,
   "metadata": {
    "editable": true,
    "slideshow": {
     "slide_type": ""
    },
    "tags": []
   },
   "outputs": [
    {
     "name": "stdout",
     "output_type": "stream",
     "text": [
      "numpy is installed, version: 2.3.1\n",
      "scipy is installed, version: 1.15.3\n",
      "matplotlib is installed, version: 3.10.0\n",
      "-> Setup is OK! Have fun!\n"
     ]
    }
   ],
   "source": [
    "# Import custom tracking functions and useful libraries\n",
    "from tracking_library import *"
   ]
  },
  {
   "cell_type": "markdown",
   "metadata": {
    "editable": true,
    "slideshow": {
     "slide_type": "slide"
    },
    "tags": []
   },
   "source": [
    "## 📝 Exercise 5.1\n",
    "\n",
    "Edit the code in [tracking_library_advanced.py](./tracking_library_advanced.py), and in particular implement $4\\times4$ matrices for Drifts (`D4`), Quadrupoles (`Q4`), Bends (`B4`), where the third and fourth columns are associated with the vertical plane. Also update the `twiss` function, or define a new one (`twiss4D`), to handle the `4D` (uncoupled) case.\n",
    "\n",
    "> 👀 **HINT (Python)**: It is actually easier to implement first the functions inside your working notebook, so it easier to re-define them while debugging... Once you are happy, you can then \"store\" them in a separate library file for easier future use."
   ]
  },
  {
   "cell_type": "code",
   "execution_count": null,
   "metadata": {
    "editable": true,
    "slideshow": {
     "slide_type": "slide"
    },
    "tags": []
   },
   "outputs": [],
   "source": [
    "from tracking_library_advanced import B4, D4, Q4, twiss4D\n",
    "\n",
    "# Test it (after coding tracking_library_advanced)\n",
    "f = 2.0\n",
    "l_cell = 4\n",
    "l_drift = (l_cell) / 2\n",
    "fodo_lattice = Q4(f) + 10 * D4(l_drift / 10) + Q4(-f) + 10 * D4(l_drift / 10)\n",
    "(Qx, betax, alphax, gammax, Qy, betay, alphay, gammay) = twiss4D(fodo_lattice)\n",
    "print(\n",
    "    f\"\"\"\n",
    "The tune_x is: {Qx}\n",
    "The tune_y is: {Qy}\n",
    "The beta_x is: {betax} m\n",
    "The beta_y is: {betay} m\n",
    "\"\"\"\n",
    ")"
   ]
  },
  {
   "cell_type": "markdown",
   "metadata": {
    "editable": true,
    "slideshow": {
     "slide_type": "slide"
    },
    "tags": []
   },
   "source": [
    "## 📝 Exercise 5.2\n",
    "Start from a single FODO cell with 60 degrees/cell you used earlier. Insert sector bending magnets with a bending angle of $\\phi=10\\,$degrees in the center of the drift spaces. The bending magnets will spoil the phase advance in one plane. Now you have two phase advances and need to adjust both quadrupoles (by hand to 2 significant figures) such that it really is 60 degrees in both planes."
   ]
  },
  {
   "cell_type": "code",
   "execution_count": null,
   "metadata": {
    "editable": true,
    "slideshow": {
     "slide_type": ""
    },
    "tags": []
   },
   "outputs": [],
   "source": [
    "# your code here"
   ]
  },
  {
   "cell_type": "markdown",
   "metadata": {
    "editable": true,
    "slideshow": {
     "slide_type": "slide"
    },
    "tags": []
   },
   "source": [
    "## 📝 Exercise 5.3\n",
    "\n",
    "Use the result from exercise 40 and adjust the two quadrupoles such that the phase advance in the horizontal plane is 90 degrees, cell, while it remains 60 degrees/cell in the vertical plane. "
   ]
  },
  {
   "cell_type": "code",
   "execution_count": null,
   "metadata": {
    "editable": true,
    "slideshow": {
     "slide_type": ""
    },
    "tags": []
   },
   "outputs": [],
   "source": [
    "# your code here"
   ]
  },
  {
   "cell_type": "markdown",
   "metadata": {
    "editable": true,
    "slideshow": {
     "slide_type": "slide"
    },
    "tags": []
   },
   "source": [
    "## 📝 Exercise 5.4\n",
    "\n",
    "Prepare a beam line with eight FODO cells without bending magnets and with 60 degrees/cell phase advance in both planes. \n",
    "1. Prepare the periodic beam  matrix sigma0 (4x4, uncoupled) as the initial beam and plot both beam sizes along the beam line. \n",
    "2. Use sigma0 as the starting beam, but change the focal length of the second quadrupole by 10\\% and plot the beam sizes once again. Discuss you observations."
   ]
  },
  {
   "cell_type": "code",
   "execution_count": null,
   "metadata": {
    "editable": true,
    "slideshow": {
     "slide_type": ""
    },
    "tags": []
   },
   "outputs": [],
   "source": [
    "from tracking_library_advanced import transportSigmas4D\n",
    "\n",
    "# your code here, after having implemented the needed function..."
   ]
  },
  {
   "cell_type": "markdown",
   "metadata": {
    "editable": true,
    "slideshow": {
     "slide_type": "slide"
    },
    "tags": []
   },
   "source": [
    "## 📝 Exercise 5.5 (guided)\n",
    "From the lecture about betatron coupling identify the transfer matrix for a solenoid and write a function that receives the longitudinal magnetic field $B_s$ and the length of the solenoid as input and returns the transfer matrix.  Then extend the simulation code to handle solenoids. Finally, define a beam line where you place the solenoid in the middle of a FODO cell and follow a particle with initial condition $(x_0,x'_0,y_0,y'_0)=(10^{-3}\\,\\mathrm{m},0,0,0).$ What do you observe? Is the motion confined to the horizontal plane? "
   ]
  },
  {
   "cell_type": "markdown",
   "metadata": {
    "editable": true,
    "slideshow": {
     "slide_type": "subslide"
    },
    "tags": []
   },
   "source": [
    "#### SOLUTION\n",
    "One has to remember that the matrix is\n",
    "\\begin{equation}\n",
    "M_{\\text {SOLENOID}}=\\left(\\begin{array}{cccc}{C^{2}} & {\\frac{1}{K} S C} & {S C} & {\\frac{1}{K} S^{2}}\\\\\n",
    "{-K S C} & {C^{2}} & {-K S^{2}} & {S C}\\\\\n",
    "{-S C} & {-\\frac{1}{K} S^{2}} & {C^{2}} & {\\frac{1}{K} S C}\\\\\n",
    "{K S^{2}} & {-S C} & {-K S C} & {C^{2}}\n",
    "\\end{array}\\right)\n",
    "\\end{equation}\n",
    "where\n",
    "\\begin{equation}\n",
    "K=\\operatorname{sgn}(\\mathrm{q}) \\frac{B_{s}}{2(B \\rho)}\n",
    "\\end{equation}\n",
    "and\n",
    "\\begin{equation}\n",
    "\\begin{array}{l}{C=\\cos K L} \\\\ {S=\\sin K L}\\end{array}\n",
    "\\end{equation}"
   ]
  },
  {
   "cell_type": "code",
   "execution_count": null,
   "metadata": {
    "editable": true,
    "slideshow": {
     "slide_type": "subslide"
    },
    "tags": []
   },
   "outputs": [],
   "source": [
    "# Import solenoid element\n",
    "from tracking_library_advanced import solenoid"
   ]
  },
  {
   "cell_type": "code",
   "execution_count": null,
   "metadata": {
    "editable": true,
    "slideshow": {
     "slide_type": "slide"
    },
    "tags": []
   },
   "outputs": [],
   "source": [
    "# Import 4D transportParticle function\n",
    "from tracking_library_advanced import transportParticles4D\n",
    "\n",
    "# your code here"
   ]
  },
  {
   "cell_type": "markdown",
   "metadata": {
    "editable": true,
    "slideshow": {
     "slide_type": "slide"
    },
    "tags": []
   },
   "source": [
    "---\n",
    "## Well done! You did all exercises!\n",
    "\n",
    "=> Now **keep going** and explore other concepts that you have encountered during the lectures!\n",
    "\n",
    "---"
   ]
  }
 ],
 "metadata": {
  "celltoolbar": "Slideshow",
  "kernelspec": {
   "display_name": "Python 3 (ipykernel)",
   "language": "python",
   "name": "python3"
  },
  "language_info": {
   "codemirror_mode": {
    "name": "ipython",
    "version": 3
   },
   "file_extension": ".py",
   "mimetype": "text/x-python",
   "name": "python",
   "nbconvert_exporter": "python",
   "pygments_lexer": "ipython3",
   "version": "3.13.5"
  },
  "vscode": {
   "interpreter": {
    "hash": "fbec5cc8bb1f13e0584b60d171916a07df7bc30ce2ee62338372c9d5be648ecd"
   }
  }
 },
 "nbformat": 4,
 "nbformat_minor": 4
}
