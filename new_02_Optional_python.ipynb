{
 "cells": [
  {
   "cell_type": "markdown",
   "metadata": {},
   "source": [
    "---\n",
    "# Optional: More Details about our Python Libraray Implementation \n",
    "---\n",
    "\n",
    "- If you want to (and have time for) a deeper understanding of the **python libraries** or **physics/numerical** subtleties, feel free to explore the following exercises "
   ]
  },
  {
   "cell_type": "markdown",
   "metadata": {},
   "source": [
    "##### First, Let's import standard packages and settings..."
   ]
  },
  {
   "cell_type": "code",
   "execution_count": 2,
   "metadata": {},
   "outputs": [],
   "source": [
    "# numpy: our main numerical package\n",
    "import numpy as np\n",
    "# matplotlib and seaborn: our plotting packages\n",
    "import matplotlib.pyplot as plt\n",
    "\n",
    "# some setup for the plotting\n",
    "params = {'legend.fontsize': 'x-large',\n",
    "          'figure.figsize': (15, 5),\n",
    "         'axes.labelsize': 'x-large',\n",
    "         'axes.titlesize':'x-large',\n",
    "         'xtick.labelsize':'x-large',\n",
    "         'ytick.labelsize':'x-large'}\n",
    "plt.rcParams.update(params)"
   ]
  },
  {
   "cell_type": "markdown",
   "metadata": {},
   "source": [
    "## Some more info about our libraries\n",
    "\n",
    "### Transporting the Sigma (or Covariance) Matrix represting an ensample of particles"
   ]
  },
  {
   "cell_type": "code",
   "execution_count": 5,
   "metadata": {},
   "outputs": [],
   "source": [
    "def transportSigmas(sigma_0, beamline):\n",
    "    r'''Transport the input sigma matrix (\\sigma_0) along the given beamline\n",
    "    \n",
    "    It will return a dictionary containing the following key:values\n",
    "        'sigma11': a N-long numpy array with the \\sigma_{11} value for all N-elements of the beamline\n",
    "        'sigma12': a N-long numpy array with the \\sigma_{12} value for all N-elements of the beamline\n",
    "        'sigma21': a N-long numpy array with the \\sigma_{21} value for all N-elements of the beamline\n",
    "        'sigma22': a N-long numpy array with the \\sigma_{22} value for all N-elements of the beamline\n",
    "        's': a N-long numpy array with the longitudinal position of the N-elements of the beamline\n",
    "        'sigmas': a Nx2x2 numpy array with all sigma matrices at all N-elements of the beamline\n",
    "    \n",
    "    Disclaimer: if beamline is made of 5 elements, the output will have 5+1 \"elements\" as it will also \n",
    "                return include the initial sigma matrix.\n",
    "    '''\n",
    "\n",
    "    sigmas = [sigma_0]\n",
    "    s = [0]\n",
    "    for element in beamline:\n",
    "        sigmas.append(element['matrix'] @ sigmas[-1] @ element['matrix'].transpose())\n",
    "        s.append(s[-1] + element['length']) \n",
    "    sigmas = np.array(sigmas)\n",
    "    s = np.array(s)\n",
    "    return {'sigma11': sigmas[:, 0, 0],\n",
    "            'sigma12': sigmas[:, 0, 1],\n",
    "            'sigma21': sigmas[:, 1, 0], # equal to sigma12\n",
    "            'sigma22': sigmas[:, 1, 1],\n",
    "            's':  s,\n",
    "            'sigmas': sigmas,}"
   ]
  },
  {
   "cell_type": "markdown",
   "metadata": {},
   "source": [
    "- Note that this function is simply going through each element of the given beamline, and simply apply the transformation\n",
    "\n",
    "\\begin{equation}\n",
    "\\Sigma_s = \\left[\n",
    "\\begin{array}{c}\n",
    "\\sigma_{xx}\\quad \\sigma_{xx'}\\\\\n",
    "\\sigma_{x'x}\\quad \\sigma_{x'x'}\n",
    "\\end{array}\n",
    "\\right]_s\n",
    "= M\\, \\Sigma_0\\, M^T\\, .\n",
    "\\end{equation}\n",
    "\n",
    "- Prove to yourself (on a piece of paper) that this time we don't need to start from the end of the beamline, as we did for the `getEquivalentElement()` function."
   ]
  },
  {
   "cell_type": "markdown",
   "metadata": {},
   "source": []
  }
 ],
 "metadata": {
  "celltoolbar": "Slideshow",
  "kernelspec": {
   "display_name": "Python 3 (ipykernel)",
   "language": "python",
   "name": "python3"
  },
  "language_info": {
   "codemirror_mode": {
    "name": "ipython",
    "version": 3
   },
   "file_extension": ".py",
   "mimetype": "text/x-python",
   "name": "python",
   "nbconvert_exporter": "python",
   "pygments_lexer": "ipython3",
   "version": "3.12.5"
  },
  "vscode": {
   "interpreter": {
    "hash": "fbec5cc8bb1f13e0584b60d171916a07df7bc30ce2ee62338372c9d5be648ecd"
   }
  }
 },
 "nbformat": 4,
 "nbformat_minor": 4
}
