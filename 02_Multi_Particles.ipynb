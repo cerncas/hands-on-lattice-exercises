{
 "cells": [
  {
   "cell_type": "markdown",
   "metadata": {
    "editable": true,
    "slideshow": {
     "slide_type": "slide"
    },
    "tags": []
   },
   "source": [
    "# Second Hands-On Session\n",
    "--- \n",
    "Tracking many particles - Twiss parameters\n",
    "\n",
    "---"
   ]
  },
  {
   "cell_type": "markdown",
   "metadata": {
    "editable": true,
    "slideshow": {
     "slide_type": "slide"
    },
    "tags": []
   },
   "source": [
    "## 🐍 Python corner\n",
    "\n",
    "We'll be using:\n",
    "- `numpy` as `np`\n",
    "- `matplotlib.pyplot` as `plt`\n",
    "- functions `D`"
   ]
  },
  {
   "cell_type": "code",
   "execution_count": 1,
   "metadata": {
    "editable": true,
    "slideshow": {
     "slide_type": ""
    },
    "tags": []
   },
   "outputs": [
    {
     "name": "stdout",
     "output_type": "stream",
     "text": [
      "numpy is installed, version: 2.3.1\n",
      "scipy is installed, version: 1.15.3\n",
      "matplotlib is installed, version: 3.10.0\n",
      "-> Setup is OK! Have fun!\n"
     ]
    }
   ],
   "source": [
    "from tracking_library import *"
   ]
  },
  {
   "cell_type": "markdown",
   "metadata": {
    "editable": true,
    "slideshow": {
     "slide_type": "slide"
    },
    "tags": []
   },
   "source": [
    "## 📝 Exercise 2.1 (guided): Generating an ensemble of particles <a id=\"exercise-2.1-guided\"></a>\n",
    "\n",
    "Define an ensemble of 100 particles with arbitrary first order (e.g. $<x_0> = 0.2$ mm, $<x'_0> = 1$ mrad) and second order (e.g. $\\sigma_{x_0} = 1.5$ mm and $\\sigma_{x'_0} = 0.5$ mrad) momenta.\n",
    "Verify that the angular divergence of the beam is the one set: \n",
    "\n",
    "- What do you observe?\n",
    "- What happens if you increase or decrease the number of particles?\n",
    "\n",
    "> 👀 **HINT**: Remember that you can create a Normal distributed 2xN 2D array of numbers as `np.random.randn(2, N)`. One can then \"stretch\" and \"offset\" (and eventually \"rotate\", but this is not requested here) this distribution to obtain any desired 2D normal distribution in phase space."
   ]
  },
  {
   "cell_type": "code",
   "execution_count": 3,
   "metadata": {
    "editable": true,
    "slideshow": {
     "slide_type": "fragment"
    },
    "tags": []
   },
   "outputs": [
    {
     "name": "stdout",
     "output_type": "stream",
     "text": [
      "Beam mean  x [mm]: 0.24374210497644114\n",
      "Beam mean  x' [mrad]: 1.0192541598536438\n",
      "Beam rms size [mm]: 1.6008511207095986\n",
      "Beam rms divergence [mrad]: 0.4767701056857321\n"
     ]
    }
   ],
   "source": [
    "# simple solution\n",
    "N_particles = 100\n",
    "beam = np.array([np.random.randn(N_particles), np.random.randn(N_particles)])\n",
    "# or equivalently:\n",
    "beam = np.random.randn(2, N_particles)\n",
    "x0 = 0.2\n",
    "xp0 = 1\n",
    "sigx = 1.5\n",
    "sigxp = 0.5\n",
    "beam[0, :] = sigx * beam[0, :] + x0\n",
    "beam[1, :] = sigxp * beam[1, :] + xp0\n",
    "print(f\"Beam mean  x [mm]: {np.mean(beam[0,:])}\")\n",
    "print(f\"Beam mean  x' [mrad]: {np.mean(beam[1,:])}\")\n",
    "print(f\"Beam rms size [mm]: {np.std(beam[0,:])}\")\n",
    "print(f\"Beam rms divergence [mrad]: {np.std(beam[1,:])}\")"
   ]
  },
  {
   "cell_type": "markdown",
   "metadata": {
    "editable": true,
    "slideshow": {
     "slide_type": "fragment"
    },
    "tags": []
   },
   "source": [
    "❓**QUESTION: Why didn't we find back the input parameters?**"
   ]
  },
  {
   "cell_type": "markdown",
   "metadata": {
    "editable": true,
    "slideshow": {
     "slide_type": "slide"
    },
    "tags": []
   },
   "source": [
    "## 📝 Exercise 2.2: Tracking an ensemble of particles <a id=\"exercise-2.2\"></a>\n",
    "\n",
    "1. Transport the beam distribution of [Exercise 2.1](#exercise-2.1-guided) in a drift of length 1 m. Visualise the initial and final distribution. **What do you observe?**\n",
    "\n",
    "   > 👀 **HINT 1**: the output of `transportParticles` contains the coordinates of all particles at all locations. To obtain all particle coordinates at the end of the beamline, you can simply do:\n",
    "   >\n",
    "   > ```\n",
    "   > tracked = transportParticles(initial_coordinates, beamline)\n",
    "   > final_coordinates = tracked['coords'][-1] #where \"-1\" refers to the last element of the beamline\n",
    "   > ```\n",
    "\n",
    "   > 👀 **HINT 2**: One can use the `seaborn` package to nicely see a 2D distribution, e.g.:\n",
    "   > ```\n",
    "   > import seaborn as sns\n",
    "   > sns.jointplot(x=np.random.randn(1000), y=np.random.randn(1000), kind=\"hex\", color=\"b\")\n",
    "   > ```\n",
    "\n",
    "2. Test of linearity. Scale the input vector by 17 times the month of your birthday (e.g. 85 if you are born in May) and verify that the output vector from the matrix multiplication has changed by the same factor.\n",
    "    \n",
    "    > 👀 **HINT**: Be careful with machine precision!\n"
   ]
  },
  {
   "cell_type": "code",
   "execution_count": null,
   "metadata": {
    "editable": true,
    "slideshow": {
     "slide_type": ""
    },
    "tags": []
   },
   "outputs": [],
   "source": [
    "# code here your solution..."
   ]
  },
  {
   "cell_type": "markdown",
   "metadata": {
    "editable": true,
    "slideshow": {
     "slide_type": "slide"
    },
    "tags": []
   },
   "source": [
    "## 📝 Exercise 2.3: Beam size & divergence evolution along a beamline <a id=\"exercise-2.3\"></a>\n",
    "\n",
    "Build a beamline made of several drift and quadrupoles as desired (e.g. `D(0.5)+Q(1)+D(2)+Q(-1)+D(1)+Q(2)+....`).\n",
    "Build a beam made of several particles (e.g. 1000) again with arbitrary first order (e.g. $<x_0> = 0.2$ mm, $<x'_0> = 1$ mrad) and second order (e.g. $\\sigma_{x_0} = 1.5$ mm and $\\sigma_{x'_0} = 0.5$ mrad) momenta, as done in previous [Exercise 2.2](#exercise-2.2).\n",
    "\n",
    "Compute and plot the beam $size$ ($\\sigma_x$) and $divergence$ ($\\sigma_{x'}$) along the beam line.\n",
    "\n",
    "> 👀 **HINT 1 (Python)**: Remember that in the output of our `transportParticles` function the key `'x'` contains a 2D array with N rows (the index of the position along the beam line) and M columns (the index of a given particle). \n",
    "You can compute the standard deviation of **each raw** of a NxM 2D array as `np.std(N_times_M_array,1)`. \n",
    "\n",
    "> 👀 **HINT 2 (Python)**: After having plotted $x$ trajectory on a matplotlib plot, one can create a **second vertical axis** that shares the same horizontal axis with `plt.twinx()`. This can be convenient to see, for example, both $\\sigma_x$ and $\\sigma_{x'}$ on the same plot.\n"
   ]
  },
  {
   "cell_type": "code",
   "execution_count": null,
   "metadata": {
    "editable": true,
    "slideshow": {
     "slide_type": ""
    },
    "tags": []
   },
   "outputs": [],
   "source": [
    "# code here your solution..."
   ]
  },
  {
   "cell_type": "markdown",
   "metadata": {
    "editable": true,
    "slideshow": {
     "slide_type": "slide"
    },
    "tags": []
   },
   "source": [
    "## ⚛️ Physics focus: Sigma matrices\n",
    "\n",
    "One can easily demonstrate (see [Wolfgan's lecture](https://indico.cern.ch/event/1356988/contributions/5713241/)) that the same matrix ($M$) used for tracking the coordinates ($(x_i, x'_i)$) of each single particle ($i$) from an initial point ($X_0$) to a final point ($X_s$) in a beamline:\n",
    "\n",
    "\\begin{equation}\n",
    "X_s =  M\\, X_0\n",
    "\\end{equation}\n",
    "\n",
    "can also be used to track the **average trajectory** ($\\langle X \\rangle$) as well as the **covariance or sigma matrix** of the given particle coordinates distribution:\n",
    "\n",
    "\\begin{equation}\n",
    "\\langle X_s \\rangle = \n",
    "\\left[\n",
    "\\begin{array}{c}\n",
    "\\langle x_i \\rangle\\\\\n",
    "\\langle x'_i \\rangle\n",
    "\\end{array}\n",
    "\\right]_s \n",
    "= M\\, \\langle X_0 \\rangle\n",
    "\\end{equation}\n",
    "\n",
    "\\begin{equation}\n",
    "\\Sigma_s = \\left[\n",
    "\\begin{array}{c}\n",
    "\\sigma_{xx}\\quad \\sigma_{xx'}\\\\\n",
    "\\sigma_{x'x}\\quad \\sigma_{x'x'}\n",
    "\\end{array}\n",
    "\\right]_s\n",
    "= M\\, \\Sigma_0\\, M^T\\, .\n",
    "\\end{equation}\n",
    "\n",
    "We can therefore track the **average trajectory** and **covariance** of a beam simply starting from its initial average coordinates and covariance matrix in phase space.\n",
    "\n",
    "The \"tracking\" of an initial **covariance** matrix along a given beamline is provided by the function `transportSigmas()` function from our toolbox:"
   ]
  },
  {
   "cell_type": "code",
   "execution_count": 4,
   "metadata": {
    "editable": true,
    "slideshow": {
     "slide_type": "subslide"
    },
    "tags": []
   },
   "outputs": [
    {
     "name": "stdout",
     "output_type": "stream",
     "text": [
      "Help on function transportSigmas in module tracking_library:\n",
      "\n",
      "transportSigmas(sigma_0, beamline)\n",
      "    Transport a sigma matrix through a beamline.\n",
      "\n",
      "    Parameters\n",
      "    ----------\n",
      "    sigma_0 : ndarray\n",
      "        Initial 2x2 sigma matrix.\n",
      "    beamline : list of dict\n",
      "        Sequence of beamline elements.\n",
      "\n",
      "    Returns\n",
      "    -------\n",
      "    result : dict\n",
      "        Dictionary with keys:\n",
      "            'sigma11', 'sigma12', 'sigma21', 'sigma22' : [N] sigma matrix elements,\n",
      "            's'                                        : [N] longitudinal positions,\n",
      "            'sigmas'                                   : [N x 2 x 2] full sigma matrices.\n",
      "\n",
      "    Disclaimer\n",
      "    -------\n",
      "    If beamline is made of 5 elements, the output will have 5+1 \"elements\" as it will also return include the initial particle coordinates.\n",
      "\n"
     ]
    }
   ],
   "source": [
    "from tracking_library import transportSigmas\n",
    "\n",
    "# let's see if there is some help information:\n",
    "help(transportSigmas)"
   ]
  },
  {
   "cell_type": "markdown",
   "metadata": {
    "editable": true,
    "slideshow": {
     "slide_type": "slide"
    },
    "tags": []
   },
   "source": [
    "## 📝 Exercise 2.4: Tracking the average beam position\n",
    "\n",
    "Show that the average position of a beam made of 100 particles along a beam line (e.g. the beamline you defined in [Exercise 2.3](#exercise-2.3)) is the same as the the trajectory of single particle particle that starts in the center of the initial particle distribution."
   ]
  },
  {
   "cell_type": "code",
   "execution_count": null,
   "metadata": {
    "editable": true,
    "slideshow": {
     "slide_type": ""
    },
    "tags": []
   },
   "outputs": [],
   "source": [
    "# code here your solution..."
   ]
  },
  {
   "cell_type": "markdown",
   "metadata": {
    "editable": true,
    "slideshow": {
     "slide_type": "slide"
    },
    "tags": []
   },
   "source": [
    "## 📝 Excercise 2.5: Tracking the beam size\n",
    "\n",
    "For the same system as before, compare the rms beam size computed from tracking all particles and from using the sigma matrix approach.\n",
    "\n",
    "> 🔹 **NOTE**: Is this valid for any number of initially tracked particles? How does the result change if one uses the **input** covariance matrix used to generate the particle distribution rather then the **actual** covariance matrix of the generated distribution?\n",
    "\n",
    "> 👀 **HINT 1**: Remember that the element $\\sigma_{xx}$ of the covariance matrix is linked to the rms beam size ($\\sigma_x$) as $\\sigma_x = \\sqrt{\\sigma_{xx}}$.\n",
    "\n",
    "> 👀 **HINT 2**: The covariance matrix of a 2xN array can be computed using `numpy` as `np.cov(2_times_N_array, bias=True)`."
   ]
  },
  {
   "cell_type": "code",
   "execution_count": null,
   "metadata": {
    "editable": true,
    "slideshow": {
     "slide_type": ""
    },
    "tags": []
   },
   "outputs": [],
   "source": [
    "# code here your solution..."
   ]
  },
  {
   "cell_type": "markdown",
   "metadata": {
    "editable": true,
    "slideshow": {
     "slide_type": "slide"
    },
    "tags": []
   },
   "source": [
    "## ⚛️ Physics focus: Introduction of Twiss values and emittance\n",
    "\n",
    "The sigma/covariance matrix of any particle distribution can also be written as:\n",
    "\n",
    "\\begin{equation}\n",
    "\\Sigma = \n",
    "    \\left[\n",
    "    \\begin{array}{cc}\n",
    "    \\sigma_{xx}  & \\sigma_{xx'}\\\\\n",
    "    \\sigma_{x'x} & \\sigma_{x'x'}\n",
    "    \\end{array}\n",
    "    \\right] =\n",
    "    \\epsilon\n",
    "    \\left[ \n",
    "    \\begin{array}{cc}\n",
    "        \\beta   & -\\alpha\\\\\n",
    "        -\\alpha & \\gamma\n",
    "    \\end{array}\n",
    "    \\right] \n",
    "\\end{equation}\n",
    "\n",
    "where $\\beta$, $\\alpha$, $\\gamma$ and $\\epsilon$ are parameters such that $\\epsilon = \\sqrt{\\det(\\Sigma)}$ and $\\beta \\gamma - \\alpha^2 = 1$. \n",
    "\n",
    "**This seems to be an arbitrary choice!** but it will acquire more special meaning later.\n",
    "\n",
    "In the meantime, recall once more that:\n",
    "\n",
    "\\begin{equation}\n",
    "\\Sigma_{s} = M\\, \\Sigma_{0}\\, M^T\\, .\n",
    "\\end{equation}\n",
    "\n",
    "where $M$ is a real **symplectic** transformation, and its determinant is $\\det(M) = +1$, therefore:\n",
    "\n",
    "\\begin{equation}\n",
    "\\epsilon_s = \\det(\\Sigma_s) = \\det( M\\, \\Sigma_0\\, M^T ) = \\det(M) \\det(\\Sigma_0) \\det(M^T) = \\det(\\Sigma_0) = \\epsilon_0\n",
    "\\end{equation}\n",
    "\n",
    "**Two important considerations:** \n",
    "- the quantity $\\epsilon$ (the beam **statistical emittance**) is **preserved** along a beamline!!!\n",
    "- the *Twiss* parmeters $\\beta, \\gamma, \\alpha$ define the **normalised** shape/orientation of the beam distribution in phase-space!"
   ]
  },
  {
   "cell_type": "markdown",
   "metadata": {
    "editable": true,
    "slideshow": {
     "slide_type": "slide"
    },
    "tags": []
   },
   "source": [
    "## 📝 Exercise 2.6: Equivalent matrix symplecticity\n",
    "Verify that the equivalent transport matrix of any beamline, e.g. the one you used in [Exercise 2.3](#exercise-2.3), has determinant equal to 1 (within machine precision).\n",
    "\n",
    "> 👀 **HINT (Python)**: you can use `np.linalg.det(matrix)` to compute the determinant of a matrix `matrix`"
   ]
  },
  {
   "cell_type": "code",
   "execution_count": null,
   "metadata": {
    "editable": true,
    "slideshow": {
     "slide_type": ""
    },
    "tags": []
   },
   "outputs": [],
   "source": [
    "# code here your solution..."
   ]
  },
  {
   "cell_type": "markdown",
   "metadata": {
    "editable": true,
    "slideshow": {
     "slide_type": "slide"
    },
    "tags": []
   },
   "source": [
    "## 📝 Exercise 2.7: Evolution of Twiss parameters in a beamline\n",
    "\n",
    "Consider again a beamline, e.g. the one you used in [Exercise 2.3](#exercise-2.3), and create a valid sigma matrix with:\n",
    "- $\\beta$ = 3 [m]\n",
    "- $\\gamma$ = 0.5 [1/m]\n",
    "- $\\epsilon$ = 5 [$\\mu$ m]\n",
    "\n",
    "Then, propagate the $\\sigma$ matrix through the beam line and verify that the emittance $\\epsilon$ of the sigma matrix after every element is indeed constant and equal to its initial value.\n",
    "\n",
    "**Optional:** compute and plot the **beta** (function) all along the beamline, i.e. $\\sigma_{11}/\\epsilon$\n",
    "\n",
    "> 👀 **HINT (Python)**: in the output of our `transportSigmas()` function we keep all sigma matrixes. The determinant of all matrices can be computed in one go as `np.linalg.det(transported_sigmas['sigmas'])`."
   ]
  },
  {
   "cell_type": "code",
   "execution_count": null,
   "metadata": {
    "editable": true,
    "slideshow": {
     "slide_type": ""
    },
    "tags": []
   },
   "outputs": [],
   "source": [
    "# code here your solution..."
   ]
  },
  {
   "cell_type": "markdown",
   "metadata": {
    "editable": true,
    "slideshow": {
     "slide_type": "slide"
    },
    "tags": []
   },
   "source": [
    "## Well done !!\n",
    "\n",
    "Now you understand how to transport an ensamble of particles or its **covariance** matrix along a beamline... But how to design a \"nice\" beamline?\n",
    "\n",
    "=> **Continue your learning with the following [notebook](./03_Periodic_Systems.ipynb)**...\n"
   ]
  }
 ],
 "metadata": {
  "celltoolbar": "Slideshow",
  "kernelspec": {
   "display_name": "Python 3 (ipykernel)",
   "language": "python",
   "name": "python3"
  },
  "language_info": {
   "codemirror_mode": {
    "name": "ipython",
    "version": 3
   },
   "file_extension": ".py",
   "mimetype": "text/x-python",
   "name": "python",
   "nbconvert_exporter": "python",
   "pygments_lexer": "ipython3",
   "version": "3.13.5"
  },
  "vscode": {
   "interpreter": {
    "hash": "fbec5cc8bb1f13e0584b60d171916a07df7bc30ce2ee62338372c9d5be648ecd"
   }
  }
 },
 "nbformat": 4,
 "nbformat_minor": 4
}
