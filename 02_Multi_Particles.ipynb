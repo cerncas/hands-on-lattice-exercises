{
 "cells": [
  {
   "cell_type": "markdown",
   "metadata": {},
   "source": [
    "<style>\n",
    "/* Reveal container full viewport */\n",
    ".reveal {\n",
    "  width: 95vw !important; /* 95% of view width */\n",
    "  height: 50vw !important;   /* about 16:9 aspect ratio height (width × 9/16) */\n",
    "  max-width: 95vw !important;\n",
    "  max-height: 50vw !important;\n",
    "  margin: auto;\n",
    "  font-size: 110%; /* global font size */\n",
    "}\n",
    "\n",
    "/* Slides filling container */\n",
    ".reveal .slides {\n",
    "  width: 100% !important;\n",
    "  height: 100% !important;\n",
    "  max-width: 100% !important;\n",
    "  max-height: 100% !important;\n",
    "  margin: auto;\n",
    "  overflow-wrap: break-word;\n",
    "}\n",
    "\n",
    "/* Prevent content from overflowing horizontally */\n",
    ".reveal section {\n",
    "  overflow-x: auto;\n",
    "  word-wrap: break-word;\n",
    "  box-sizing: border-box;\n",
    "  padding: 1em;\n",
    "}\n",
    "\n",
    "/* Tables scroll horizontally if too wide */\n",
    ".reveal section table {\n",
    "  display: block;\n",
    "  overflow-x: auto;\n",
    "  white-space: nowrap;\n",
    "  max-width: 100%;\n",
    "  margin: 0 auto;\n",
    "  font-size: 90%;\n",
    "  border-collapse: collapse;\n",
    "}\n",
    "\n",
    "/* Smaller font and compact padding inside table cells */\n",
    ".reveal section table td,\n",
    ".reveal section table th {\n",
    "  font-size: 90%;\n",
    "  padding: 0.3em 0.5em;\n",
    "  white-space: nowrap;\n",
    "}\n",
    "</style>"
   ]
  },
  {
   "cell_type": "markdown",
   "metadata": {
    "editable": true,
    "slideshow": {
     "slide_type": "slide"
    },
    "tags": []
   },
   "source": [
    "# Second Hands-On Session\n",
    "--- \n",
    "Tracking many particles - Twiss parameters\n",
    "\n",
    "---"
   ]
  },
  {
   "cell_type": "markdown",
   "metadata": {
    "editable": true,
    "slideshow": {
     "slide_type": "slide"
    },
    "tags": []
   },
   "source": [
    "## 🐍 Python corner\n",
    "\n",
    "We'll be using:\n",
    "- `numpy` as `np`\n",
    "- `matplotlib.pyplot` as `plt`\n",
    "- functions `D`, `Q`, `transportParticles`, `getEquivalentElement` and `transportSigmas`"
   ]
  },
  {
   "cell_type": "code",
   "execution_count": 1,
   "metadata": {
    "editable": true,
    "slideshow": {
     "slide_type": ""
    },
    "tags": []
   },
   "outputs": [
    {
     "name": "stdout",
     "output_type": "stream",
     "text": [
      "numpy is installed, version: 2.3.1\n",
      "scipy is installed, version: 1.15.3\n",
      "matplotlib is installed, version: 3.10.0\n",
      "-> Setup is OK! Have fun!\n"
     ]
    }
   ],
   "source": [
    "from tracking_library import *"
   ]
  },
  {
   "cell_type": "markdown",
   "metadata": {
    "editable": true,
    "slideshow": {
     "slide_type": "slide"
    },
    "tags": []
   },
   "source": [
    "## 📝 Exercise 2.1 (guided): Generating an ensemble of particles <a id=\"exercise-2.1-guided\"></a>\n",
    "\n",
    "Define an ensemble of 100 particles with arbitrary first order (e.g. $<x_0> = 0.2$ mm, $<x'_0> = 1$ mrad) and second order (e.g. $\\sigma_{x_0} = 1.5$ mm and $\\sigma_{x'_0} = 0.5$ mrad) momenta.\n",
    "Verify that the angular divergence of the beam is the one set: \n",
    "\n",
    "- What do you observe?\n",
    "- What happens if you increase or decrease the number of particles?\n",
    "\n",
    "> 👀 **HINT**: Remember that you can create a Normal distributed 2xN 2D array of numbers as `np.random.randn(2, N)`. One can then \"stretch\" and \"offset\" (and eventually \"rotate\", but this is not requested here) this distribution to obtain any desired 2D normal distribution in phase space."
   ]
  },
  {
   "cell_type": "code",
   "execution_count": 2,
   "metadata": {},
   "outputs": [],
   "source": [
    "# simple solution\n",
    "N_particles = 100\n",
    "beam = np.array([ np.random.randn(1, N_particles), \n",
    "                  np.random.randn(1, N_particles) ])"
   ]
  },
  {
   "cell_type": "code",
   "execution_count": 3,
   "metadata": {},
   "outputs": [
    {
     "data": {
      "text/plain": [
       "array([[[ 0.47838492, -0.22214722,  0.97130241, -0.46691753,\n",
       "          1.16093174, -0.29668437,  0.58047458,  0.21152941,\n",
       "         -0.93003438,  0.45532431,  0.1918376 ,  1.16963089,\n",
       "          0.71321022,  0.85639502,  0.57007002, -1.50502519,\n",
       "         -1.02423131, -0.10478933, -1.03180741, -0.96030343,\n",
       "         -2.16206389,  1.09969421, -1.69660878,  0.3743274 ,\n",
       "          1.99147935,  0.44938877,  0.0576456 , -0.01610862,\n",
       "          1.21039062, -1.16505268,  0.43461637, -0.41618585,\n",
       "         -0.32970073,  2.09240082, -0.22332468,  0.73077574,\n",
       "         -0.90584645, -0.43766516, -0.09581515, -2.43094808,\n",
       "         -0.68341049,  0.38987777, -1.58743217, -0.93271421,\n",
       "         -0.91181719,  0.18109887, -0.74831093,  1.73431157,\n",
       "          0.24748301,  1.25728915,  0.42211699,  1.78053903,\n",
       "          1.47273761, -0.21540128,  0.7834155 ,  1.76434948,\n",
       "          0.47938842, -0.2260167 , -1.06337884,  0.4836769 ,\n",
       "         -0.8373384 ,  0.45171768, -2.03509073, -0.6265273 ,\n",
       "          0.43206384,  1.45603198, -0.38336946,  1.10114575,\n",
       "          2.22933818, -0.6229004 , -0.75020468, -1.25948321,\n",
       "         -1.34790825,  0.27408338, -1.19055   , -1.42910832,\n",
       "          0.29624994,  0.35384676,  0.30102712, -0.49115422,\n",
       "          0.55737894, -0.364999  , -1.57035818,  1.20534388,\n",
       "         -1.3827765 ,  1.23404179,  2.49659961,  1.67067626,\n",
       "          1.11953703,  0.94693379, -0.03446832,  1.02619321,\n",
       "         -1.08056636, -2.06660465,  0.44207465,  1.17786547,\n",
       "         -0.44520215,  3.02100494,  1.14262371,  1.13643981]],\n",
       "\n",
       "       [[-0.86607517,  0.64098906,  0.26931522,  1.97926839,\n",
       "         -1.40055193,  1.7183873 , -1.45965759,  0.10876152,\n",
       "          0.2554953 ,  0.09391523, -0.56709135, -1.12480552,\n",
       "         -1.22940676, -1.29229164,  0.94194737, -1.28344407,\n",
       "          0.81732573,  0.91306958, -0.88478776,  0.48435665,\n",
       "         -0.61055299,  1.0284096 ,  0.41424966,  0.15117529,\n",
       "         -0.39494211, -0.76788925, -1.18216795, -0.62986068,\n",
       "          1.31637691, -1.09102578, -1.52468207,  1.00111308,\n",
       "         -0.87468924,  0.25709605, -0.82085064,  0.66504776,\n",
       "         -0.43405715,  0.03737963, -1.84464277, -0.51853931,\n",
       "          0.85965901, -0.55785279, -2.63225856,  0.03891148,\n",
       "          1.37982949, -0.0772513 , -0.53583136,  0.71798561,\n",
       "          0.64261933,  0.16153839, -1.15169668,  1.80981292,\n",
       "          0.37215758, -0.4013226 ,  0.22129563,  1.90250108,\n",
       "          0.68466145, -0.03095354,  1.19450625,  0.41214457,\n",
       "         -3.36995897, -0.88974146,  2.5969288 ,  1.50748021,\n",
       "         -0.41699701,  1.42683629, -0.96654801, -0.26187867,\n",
       "         -1.05906504,  1.67476596,  2.55946644,  0.4148016 ,\n",
       "         -0.74617447, -1.20180437,  0.00435849, -0.24162833,\n",
       "         -1.30373992, -0.59116916,  1.83593804,  1.30171594,\n",
       "         -0.06054167, -0.26399936,  0.38123547,  0.58247305,\n",
       "         -0.22167566,  0.72642728, -0.88268741, -2.08387996,\n",
       "         -0.33814411,  0.93407005, -0.40586385, -0.63635456,\n",
       "          1.97561564, -0.03313646, -1.46118436,  0.54290902,\n",
       "         -0.62159933, -1.41253022,  0.92545325,  1.49635565]]])"
      ]
     },
     "execution_count": 3,
     "metadata": {},
     "output_type": "execute_result"
    }
   ],
   "source": [
    "beam"
   ]
  },
  {
   "cell_type": "code",
   "execution_count": 17,
   "metadata": {},
   "outputs": [],
   "source": [
    "# or equivalently:\n",
    "N_particles = 50000\n",
    "beam = np.random.randn(2, N_particles)"
   ]
  },
  {
   "cell_type": "code",
   "execution_count": 18,
   "metadata": {},
   "outputs": [],
   "source": [
    "x0 = 0.2\n",
    "xp0 = 1\n",
    "sigx = 1.5\n",
    "sigxp = 0.5\n",
    "# add a scaling (sigx*) and an offset (+x0) to the x (0) coordinate:\n",
    "beam[0, :] = sigx * beam[0, :] + x0\n",
    "# add a scaling (sigxp*) and an offset (+xp0) to the x' (1) coordinate:\n",
    "beam[1, :] = sigxp * beam[1, :] + xp0"
   ]
  },
  {
   "cell_type": "code",
   "execution_count": 19,
   "metadata": {},
   "outputs": [],
   "source": [
    "# compute the means and std of the particle coordinates\n",
    "means = np.mean(beam, axis=1)\n",
    "stds  = np.std(beam, axis=1)"
   ]
  },
  {
   "cell_type": "code",
   "execution_count": 20,
   "metadata": {
    "editable": true,
    "slideshow": {
     "slide_type": "fragment"
    },
    "tags": []
   },
   "outputs": [
    {
     "name": "stdout",
     "output_type": "stream",
     "text": [
      "Beam mean  x [mm]: 0.20215524538003607\n",
      "Beam mean  x' [mrad]: 0.9997408437052792\n",
      "Beam rms size [mm]: 1.492602567236973\n",
      "Beam rms divergence [mrad]: 0.5003655616614343\n"
     ]
    }
   ],
   "source": [
    "# print the actual means and stds over all particle coordinates\n",
    "print(f\"Beam mean  x [mm]: {means[0]}\")\n",
    "print(f\"Beam mean  x' [mrad]: {means[1]}\")\n",
    "print(f\"Beam rms size [mm]: {stds[0]}\")\n",
    "print(f\"Beam rms divergence [mrad]: {stds[1]}\")"
   ]
  },
  {
   "cell_type": "markdown",
   "metadata": {
    "editable": true,
    "slideshow": {
     "slide_type": "fragment"
    },
    "tags": []
   },
   "source": [
    "❓**QUESTION: Why didn't we find back the input parameters?**"
   ]
  },
  {
   "cell_type": "markdown",
   "metadata": {
    "editable": true,
    "slideshow": {
     "slide_type": "slide"
    },
    "tags": []
   },
   "source": [
    "## 📝 Exercise 2.2: Tracking an ensemble of particles in a drift <a id=\"exercise-2.2\"></a>\n",
    "\n",
    "1. Transport the beam distribution of [Exercise 2.1](#exercise-2.1-guided) in a drift of length 1 m. Visualise the initial and final distribution. **What do you observe?**\n",
    "\n",
    "   > 👀 **HINT 1**: the output of `transportParticles` contains the coordinates of all particles at all locations. To obtain all particle coordinates at the end of the beamline, you can simply do:\n",
    "   >\n",
    "   > ```\n",
    "   > tracked = transportParticles(initial_coordinates, beamline)\n",
    "   > final_coordinates = tracked['coords'][-1] #where \"-1\" refers to the last element of the beamline\n",
    "   > ```\n",
    "\n",
    "   > 👀 **HINT 2**: One can use `plt.plot` or `plt.scatter` to plot the 2D distribution, e.g.:\n",
    "   > ```\n",
    "   > plt.scatter(x, xp, marker='.')\n",
    "   > ```\n",
    "\n",
    "2. (Optional) Test of linearity. Scale the input vector by 17 times the month of your birthday (e.g. 85 if you are born in May) and verify that the output vector from the matrix multiplication has changed by the same factor.\n",
    "    \n",
    "    > 👀 **HINT**: Be careful with machine precision!\n"
   ]
  },
  {
   "cell_type": "code",
   "execution_count": null,
   "metadata": {
    "editable": true,
    "slideshow": {
     "slide_type": ""
    },
    "tags": []
   },
   "outputs": [],
   "source": [
    "# code here your solution..."
   ]
  },
  {
   "cell_type": "markdown",
   "metadata": {
    "editable": true,
    "slideshow": {
     "slide_type": "slide"
    },
    "tags": []
   },
   "source": [
    "## 📝 Exercise 2.3: Tracking an ensemble of particles along a beamline (mean position & beam size) <a id=\"exercise-2.3\"></a>\n",
    "\n",
    "Build a beamline made of several drift and quadrupoles as desired (e.g. `D(0.5)+Q(1)+D(2)+Q(-1)+D(1)+Q(2)+....`).\n",
    "\n",
    "Build a beam made of several particles (e.g. 1000) again with arbitrary first order (e.g. $<x_0> = 0.2$ mm, $<x'_0> = 1$ mrad) and second order (e.g. $\\sigma_{x_0} = 1.5$ mm and $\\sigma_{x'_0} = 0.5$ mrad) momenta, as done in previous [Exercise 2.2](#exercise-2.2).\n",
    "\n",
    "1. Plot the individual particle trajectories along the beamline\n",
    "\n",
    "2. Compute and plot the average beam position, the beam size ($\\sigma_x$) and divergence ($\\sigma_{x'}$) along the beam line.\n",
    "\n",
    "> 👀 **HINT 1 (Python)**: Remember that in the output of our `transportParticles` function the key `'x'` contains a 2D array with N rows (the index of the position along the beam line) and M columns (the index of a given particle). \n",
    "You can compute the standard deviation of **each raw** of a NxM 2D array as `np.std(N_times_M_array,1)`. \n",
    "\n",
    "> 👀 **HINT 2 (Python)**: After having plotted $x$ trajectory on a matplotlib plot, one can create a **second vertical axis** that shares the same horizontal axis with `plt.twinx()`. This can be convenient to see, for example, both $\\sigma_x$ and $\\sigma_{x'}$ on the same plot.\n"
   ]
  },
  {
   "cell_type": "code",
   "execution_count": null,
   "metadata": {
    "editable": true,
    "slideshow": {
     "slide_type": ""
    },
    "tags": []
   },
   "outputs": [],
   "source": [
    "# code here your solution..."
   ]
  },
  {
   "cell_type": "markdown",
   "metadata": {
    "editable": true,
    "slideshow": {
     "slide_type": "slide"
    },
    "tags": []
   },
   "source": [
    "## ⚛️ Physics focus: Sigma matrices\n",
    "\n",
    "One can easily demonstrate (see [Wolfgan's lecture](https://indico.cern.ch/event/1356988/contributions/5713241/)) that the same matrix ($M$) used for tracking the coordinates ($(x_i, x'_i)$) of each single particle ($i$) from an initial point ($X_0$) to a final point ($X_s$) in a beamline:\n",
    "\n",
    "\\begin{equation}\n",
    "X_s =  M\\, X_0\n",
    "\\end{equation}\n",
    "\n",
    "can also be used to track the **average trajectory** ($\\langle X \\rangle$) as well as the **covariance or sigma matrix** of the given particle coordinates distribution:\n",
    "\n",
    "\\begin{equation}\n",
    "\\langle X_s \\rangle = \n",
    "\\left[\n",
    "\\begin{array}{c}\n",
    "\\langle x_i \\rangle\\\\\n",
    "\\langle x'_i \\rangle\n",
    "\\end{array}\n",
    "\\right]_s \n",
    "= M\\, \\langle X_0 \\rangle\n",
    "\\end{equation}\n",
    "\n",
    "\\begin{equation}\n",
    "\\Sigma_s = \\left[\n",
    "\\begin{array}{c}\n",
    "\\sigma_{xx}\\quad \\sigma_{xx'}\\\\\n",
    "\\sigma_{x'x}\\quad \\sigma_{x'x'}\n",
    "\\end{array}\n",
    "\\right]_s\n",
    "= M\\, \\Sigma_0\\, M^T\\, .\n",
    "\\end{equation}\n",
    "\n",
    "We can therefore track the **average trajectory** and **covariance** of a beam simply starting from its initial average coordinates and covariance matrix in phase space.\n",
    "\n",
    "The \"tracking\" of an initial **covariance** matrix along a given beamline is provided by the function `transportSigmas()` function from our toolbox:"
   ]
  },
  {
   "cell_type": "code",
   "execution_count": null,
   "metadata": {
    "editable": true,
    "slideshow": {
     "slide_type": "subslide"
    },
    "tags": []
   },
   "outputs": [],
   "source": [
    "from tracking_library import transportSigmas\n",
    "\n",
    "# let's see if there is some help information:\n",
    "help(transportSigmas)"
   ]
  },
  {
   "cell_type": "markdown",
   "metadata": {
    "editable": true,
    "slideshow": {
     "slide_type": "slide"
    },
    "tags": []
   },
   "source": [
    "## 📝 Exercise 2.4: Tracking only the average beam position\n",
    "\n",
    "Show that **the average position of a beam along a beam line** (e.g. the beamline and beam you defined in [Exercise 2.3](#exercise-2.3)) is the same as **the trajectory of single particle that starts in the center of the initial particle distribution**."
   ]
  },
  {
   "cell_type": "code",
   "execution_count": null,
   "metadata": {
    "editable": true,
    "slideshow": {
     "slide_type": ""
    },
    "tags": []
   },
   "outputs": [],
   "source": [
    "# code here your solution..."
   ]
  },
  {
   "cell_type": "markdown",
   "metadata": {
    "editable": true,
    "slideshow": {
     "slide_type": "slide"
    },
    "tags": []
   },
   "source": [
    "## 📝 Excercise 2.5: Tracking only the beam size\n",
    "\n",
    "For the same system as before, track only the sigma matrix and compare with the rms beam size computed from tracking all particles (Exercise 2.3).\n",
    "\n",
    "> 🔹 **NOTE**: Is this valid for any number of initially tracked particles? How does the result change if one uses the **input** covariance matrix used to generate the particle distribution rather then the **actual** covariance matrix of the generated distribution?\n",
    "\n",
    "> 👀 **HINT 1**: Remember that the element $\\sigma_{xx}$ of the covariance matrix is linked to the rms beam size ($\\sigma_x$) as $\\sigma_x = \\sqrt{\\sigma_{xx}}$.\n",
    "\n",
    "> 👀 **HINT 2**: The covariance matrix of a 2xN array can be computed using `numpy` as `np.cov(2_times_N_array, bias=True)`."
   ]
  },
  {
   "cell_type": "code",
   "execution_count": null,
   "metadata": {
    "editable": true,
    "slideshow": {
     "slide_type": ""
    },
    "tags": []
   },
   "outputs": [],
   "source": [
    "# code here your solution..."
   ]
  },
  {
   "cell_type": "markdown",
   "metadata": {
    "editable": true,
    "slideshow": {
     "slide_type": "slide"
    },
    "tags": []
   },
   "source": [
    "## ⚛️ Physics focus: Introduction of Twiss values and emittance\n",
    "\n",
    "Recall that:\n",
    "\n",
    "\\begin{equation}\n",
    "\\Sigma_{s} = M\\, \\Sigma_{0}\\, M^T\\, .\n",
    "\\end{equation}\n",
    "\n",
    "where $M$ is a real **symplectic** transformation, and its determinant is $\\det(M) = +1$. Therefore:\n",
    "\n",
    "\\begin{equation}\n",
    "\\det(\\Sigma_s) = \\det( M\\, \\Sigma_0\\, M^T ) = \\det(M) \\det(\\Sigma_0) \\det(M^T) = \\det(\\Sigma_0)\n",
    "\\end{equation}\n",
    "\n",
    "the determinant of the sigma/covariance matrix is **preserved** along a beamline. The sigma/covariance matrix of any particle distribution can be parameterized as:\n",
    "\n",
    "\\begin{equation}\n",
    "\\Sigma = \n",
    "    \\left[\n",
    "    \\begin{array}{cc}\n",
    "    \\sigma_{xx}  & \\sigma_{xx'}\\\\\n",
    "    \\sigma_{x'x} & \\sigma_{x'x'}\n",
    "    \\end{array}\n",
    "    \\right] =\n",
    "    \\epsilon\n",
    "    \\left[ \n",
    "    \\begin{array}{cc}\n",
    "        \\beta   & -\\alpha\\\\\n",
    "        -\\alpha & \\gamma\n",
    "    \\end{array}\n",
    "    \\right] \n",
    "\\end{equation}\n",
    "\n",
    "where $\\beta$, $\\alpha$, $\\gamma$ and $\\epsilon$ are parameters such that $\\epsilon = \\sqrt{\\det(\\Sigma)}$ (the beam **statistical emittance**) and $\\beta \\gamma - \\alpha^2 = 1$. The *Twiss* parmeters $\\beta, \\gamma, \\alpha$ define the **normalised** shape/orientation of the beam distribution in phase-space!\n",
    "\n",
    "**This seems to be an arbitrary choice!** but it will acquire more special meaning later."
   ]
  },
  {
   "cell_type": "markdown",
   "metadata": {
    "editable": true,
    "slideshow": {
     "slide_type": "slide"
    },
    "tags": []
   },
   "source": [
    "## 📝 Exercise 2.6: Equivalent matrix symplecticity\n",
    "Verify that the equivalent transport matrix of any beamline, e.g. the one you used in [Exercise 2.3](#exercise-2.3), has determinant equal to 1 (within machine precision).\n",
    "\n",
    "> 👀 **HINT (Python)**: you can use `np.linalg.det(matrix)` to compute the determinant of a matrix `matrix`"
   ]
  },
  {
   "cell_type": "code",
   "execution_count": null,
   "metadata": {
    "editable": true,
    "slideshow": {
     "slide_type": ""
    },
    "tags": []
   },
   "outputs": [],
   "source": [
    "# code here your solution..."
   ]
  },
  {
   "cell_type": "markdown",
   "metadata": {
    "editable": true,
    "slideshow": {
     "slide_type": "slide"
    },
    "tags": []
   },
   "source": [
    "## 📝 Exercise 2.7: Evolution of Twiss parameters in a beamline\n",
    "\n",
    "Consider again a beamline, e.g. the one you used in [Exercise 2.3](#exercise-2.3), and create a valid sigma matrix with:\n",
    "- $\\beta$ = 3 [m]\n",
    "- $\\gamma$ = 0.5 [1/m]\n",
    "- $\\epsilon$ = 5 [$\\mu$ m]\n",
    "\n",
    "Then, propagate the $\\sigma$ matrix through the beam line and verify that the emittance $\\epsilon$ of the sigma matrix after every element is indeed constant and equal to its initial value.\n",
    "\n",
    "**Optional:** compute and plot the **beta** (function) all along the beamline, i.e. $\\sigma_{11}/\\epsilon$\n",
    "\n",
    "> 👀 **HINT (Python)**: in the output of our `transportSigmas()` function we keep all sigma matrixes. The determinant of all matrices can be computed in one go as `np.linalg.det(transported_sigmas['sigmas'])`."
   ]
  },
  {
   "cell_type": "code",
   "execution_count": null,
   "metadata": {
    "editable": true,
    "slideshow": {
     "slide_type": ""
    },
    "tags": []
   },
   "outputs": [],
   "source": [
    "# code here your solution..."
   ]
  },
  {
   "cell_type": "markdown",
   "metadata": {
    "editable": true,
    "slideshow": {
     "slide_type": "slide"
    },
    "tags": []
   },
   "source": [
    "## Well done !!\n",
    "\n",
    "Now you understand how to transport an ensamble of particles or its **covariance** matrix along a beamline... But how to design a \"nice\" beamline?\n",
    "\n",
    "=> **Continue your learning with the following [notebook](./03_Periodic_Systems.ipynb)**...\n"
   ]
  }
 ],
 "metadata": {
  "celltoolbar": "Slideshow",
  "kernelspec": {
   "display_name": "Python 3 (ipykernel)",
   "language": "python",
   "name": "python3"
  },
  "language_info": {
   "codemirror_mode": {
    "name": "ipython",
    "version": 3
   },
   "file_extension": ".py",
   "mimetype": "text/x-python",
   "name": "python",
   "nbconvert_exporter": "python",
   "pygments_lexer": "ipython3",
   "version": "3.13.5"
  },
  "vscode": {
   "interpreter": {
    "hash": "fbec5cc8bb1f13e0584b60d171916a07df7bc30ce2ee62338372c9d5be648ecd"
   }
  }
 },
 "nbformat": 4,
 "nbformat_minor": 4
}
