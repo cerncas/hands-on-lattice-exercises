{
 "cells": [
  {
   "cell_type": "markdown",
   "metadata": {
    "editable": true,
    "slideshow": {
     "slide_type": "slide"
    },
    "tags": []
   },
   "source": [
    "# Hands-on on Lattice Calculation in Python\n",
    "\n",
    "*D. Gamba, A. Latina, T. Prebibaj, G. Russo*\n",
    "\n",
    "[CAS 2023 - Introduction to Accelerator Physics](https://indico.cern.ch/event/1226773/) (25 September - 6 October 2023, Santa Susanna, Spain)."
   ]
  },
  {
   "cell_type": "markdown",
   "metadata": {
    "editable": true,
    "slideshow": {
     "slide_type": "slide"
    },
    "tags": []
   },
   "source": [
    "<p align=\"center\">\n",
    "<img src=./_img_exercises/banner.png width=\"80%\">\n",
    "</p>"
   ]
  },
  {
   "cell_type": "markdown",
   "metadata": {
    "editable": true,
    "slideshow": {
     "slide_type": "slide"
    },
    "tags": []
   },
   "source": [
    "## Introduction \n",
    "\n",
    "- The *Hands-on Lattice Calculations in Python* course is meant to present you a series of \"conceptual\" exercises to help understanding the basics of transverse beam dynamics.\n",
    "As you can guess, these exercises are expected to be solved using *Python*. \n",
    "\n",
    "- We will suggest *a possible way* for translating the exercises we propose into Python, but most of the time the result can be achieved using multiple paths and we encourage the student to explore them. \n",
    "\n",
    "- **The goal is to stimulate the student's curiosity, so the simple exercise should be challenged to trigger more questions and to dive deeper into the physics of the problem.**"
   ]
  },
  {
   "cell_type": "markdown",
   "metadata": {
    "editable": true,
    "slideshow": {
     "slide_type": "slide"
    },
    "tags": []
   },
   "source": [
    "## Is your computer ready?\n",
    "\n",
    "You received the [instructions](./Setup_Instructions.md) on how to prepare your python working environment.\n",
    "\n",
    "**QUESTION: is everyone able to launch a jupyter lab server from her/his laptop?** "
   ]
  },
  {
   "cell_type": "markdown",
   "metadata": {
    "editable": true,
    "slideshow": {
     "slide_type": "fragment"
    },
    "tags": []
   },
   "source": [
    "**QUESTION: can you import the following packages without errors?** \n"
   ]
  },
  {
   "cell_type": "code",
   "execution_count": 1,
   "metadata": {
    "editable": true,
    "slideshow": {
     "slide_type": "-"
    },
    "tags": []
   },
   "outputs": [],
   "source": [
    "# numpy: our main numerical package\n",
    "import numpy as np\n",
    "# matplotlib and seaborn: our plotting packages\n",
    "import matplotlib.pyplot as plt\n",
    "import seaborn as sns\n",
    "\n",
    "# linear algebra and optimisation algorithms\n",
    "from numpy.linalg import norm\n",
    "from scipy.optimize import minimize\n",
    "# some useful package\n",
    "from copy import deepcopy\n",
    "\n",
    "# **Optional:** for animations you might need to configure your jupyter lab properly:\n",
    "# > pip install ipywidgets\n",
    "# > jupyter nbextension enable --py widgetsnbextension\n",
    "# > jupyter labextension install @jupyter-widgets/jupyterlab-manager\n",
    "from ipywidgets import interactive"
   ]
  },
  {
   "cell_type": "markdown",
   "metadata": {
    "editable": true,
    "slideshow": {
     "slide_type": "skip"
    },
    "tags": []
   },
   "source": [
    "### ... some other setup not to be bothered later\n",
    "\n",
    "Let's also configure `matplotlib` for more presentation-friendly plot production"
   ]
  },
  {
   "cell_type": "code",
   "execution_count": 2,
   "metadata": {
    "editable": true,
    "slideshow": {
     "slide_type": "skip"
    },
    "tags": []
   },
   "outputs": [],
   "source": [
    "# some setup for the plotting\n",
    "from matplotlib import pyplot as plt\n",
    "%matplotlib inline\n",
    "params = {'legend.fontsize': 'x-large',\n",
    "          'figure.figsize': (15, 5),\n",
    "         'axes.labelsize': 'x-large',\n",
    "         'axes.titlesize':'x-large',\n",
    "         'xtick.labelsize':'x-large',\n",
    "         'ytick.labelsize':'x-large'}\n",
    "plt.rcParams.update(params)"
   ]
  },
  {
   "cell_type": "code",
   "execution_count": 3,
   "metadata": {
    "editable": true,
    "slideshow": {
     "slide_type": "skip"
    },
    "tags": []
   },
   "outputs": [],
   "source": [
    "# ignore \"FutureWarning\"... (temporary patch for seaborn package issues...)\n",
    "import warnings\n",
    "warnings.simplefilter(action='ignore', category=FutureWarning)"
   ]
  },
  {
   "cell_type": "markdown",
   "metadata": {
    "editable": true,
    "slideshow": {
     "slide_type": "slide"
    },
    "tags": []
   },
   "source": [
    "---\n",
    "\n",
    "# Essentials\n",
    "\n",
    "---"
   ]
  },
  {
   "cell_type": "markdown",
   "metadata": {
    "editable": true,
    "slideshow": {
     "slide_type": "slide"
    },
    "tags": []
   },
   "source": [
    "## The Python Basics\n",
    "\n",
    "lists, dictionaries, and numpy arrays..."
   ]
  },
  {
   "cell_type": "code",
   "execution_count": 4,
   "metadata": {
    "editable": true,
    "slideshow": {
     "slide_type": "fragment"
    },
    "tags": []
   },
   "outputs": [
    {
     "name": "stdout",
     "output_type": "stream",
     "text": [
      "The third element in my list is: 3\n",
      "A list of lists looks almost like a matrix:\n",
      "[[1, 2, 3, 4], [5, 6, 7, 8]]\n",
      "The value associated to key 'a_key' in 'my_dictionary' is: \n",
      "    34\n"
     ]
    }
   ],
   "source": [
    "# a list of object is defined with [], and element accessed with [idx]\n",
    "my_list = [1,2,3,4]\n",
    "print(f\"The third element in my list is: {my_list[2]}\")\n",
    "\n",
    "# a list can contain any object, also another list to \n",
    "# \"fake\" multi-dimensional arrays\n",
    "my_list_of_lists = [[1,2,3,4],[5,6,7,8]]\n",
    "print(f\"A list of lists looks almost like a matrix:\\n\"\n",
    "      f\"{my_list_of_lists}\")\n",
    "\n",
    "# a dictionary is defined with {}, and elements are accessed \n",
    "# with ['key_value']\n",
    "my_dictionary = {'a_key': 34, \n",
    "                 'another_key': 'value as string', \n",
    "                 3: 'value associated to an int key'}\n",
    "print(f\"The value associated to key 'a_key' in 'my_dictionary' is: \\n\"\n",
    "      f\"    {my_dictionary['a_key']}\")"
   ]
  },
  {
   "cell_type": "code",
   "execution_count": 5,
   "metadata": {
    "editable": true,
    "slideshow": {
     "slide_type": "slide"
    },
    "tags": []
   },
   "outputs": [
    {
     "name": "stdout",
     "output_type": "stream",
     "text": [
      "np.array is a nicer representation of matrices:\n",
      "[[1 2 3 4]\n",
      " [5 6 7 8]]\n",
      "First row, second column value is: 2\n",
      "means (over column idx, i.e. dim=1): \n",
      "   [-0.0240205   0.02282834]\n",
      "and std: \n",
      "   [0.99417202 1.02397378]\n"
     ]
    }
   ],
   "source": [
    "# a numpy array can be created from a list of numbers\n",
    "my_2D_array = np.array(my_list_of_lists)\n",
    "print(f\"np.array is a nicer representation of matrices:\\n\"\n",
    "      f\"{my_2D_array}\")\n",
    "print(f\"First row, second column value is: {my_2D_array[0,1]}\")\n",
    "\n",
    "# or from a random generator\n",
    "my_random_2D_array = np.random.randn(2,100)\n",
    "\n",
    "# and one can do mathematical operations\n",
    "print(f\"means (over column idx, i.e. dim=1): \\n\"\n",
    "      f\"   {np.mean(my_random_2D_array,1)}\\n\"\n",
    "      f\"and std: \\n\"\n",
    "      f\"   {np.std(my_random_2D_array,1)}\")"
   ]
  },
  {
   "cell_type": "markdown",
   "metadata": {
    "editable": true,
    "slideshow": {
     "slide_type": "slide"
    },
    "tags": []
   },
   "source": [
    "### Plotting and number generation\n",
    "\n",
    "- one typically uses matplotlib (`import matplotlib.pyplot as plt`) for plots.\n",
    "- numpy includes functions to easily generate equally spaced numbers (`np.linspace(...)`) or Gaussian-distributed (`np.random.randn(...)`)"
   ]
  },
  {
   "cell_type": "code",
   "execution_count": 6,
   "metadata": {
    "editable": true,
    "slideshow": {
     "slide_type": ""
    },
    "tags": []
   },
   "outputs": [
    {
     "data": {
      "text/plain": [
       "Text(0, 0.5, 'y_data for 2 curves')"
      ]
     },
     "execution_count": 6,
     "metadata": {},
     "output_type": "execute_result"
    },
    {
     "data": {
      "image/png": "[encoded data removed]",
      "text/plain": [
       "<Figure size 1500x500 with 1 Axes>"
      ]
     },
     "metadata": {},
     "output_type": "display_data"
    }
   ],
   "source": [
    "# simple plot\n",
    "#  generate 100 points equally spaced between 0 and 20\n",
    "s_data = np.array(np.linspace(0,20,100)) \n",
    "#  generate 100x2 random points (Gaussian distributed with std=3)\n",
    "y_data = 3*np.random.randn(100,2) \n",
    "plt.plot(s_data, y_data)\n",
    "plt.xlabel('s_data')\n",
    "plt.ylabel('y_data for 2 curves')"
   ]
  },
  {
   "cell_type": "markdown",
   "metadata": {
    "editable": true,
    "slideshow": {
     "slide_type": "slide"
    },
    "tags": []
   },
   "source": [
    "#### Something more fancy:\n",
    "One can profit of seaborn (`import seaborn as sns`) for more complex/nicer plots."
   ]
  },
  {
   "cell_type": "code",
   "execution_count": 7,
   "metadata": {
    "editable": true,
    "slideshow": {
     "slide_type": ""
    },
    "tags": []
   },
   "outputs": [
    {
     "data": {
      "text/plain": [
       "<seaborn.axisgrid.JointGrid at 0x10d6a1fa0>"
      ]
     },
     "execution_count": 7,
     "metadata": {},
     "output_type": "execute_result"
    },
    {
     "data": {
      "image/png": "[encoded data removed]",
      "text/plain": [
       "<Figure size 600x600 with 3 Axes>"
      ]
     },
     "metadata": {},
     "output_type": "display_data"
    }
   ],
   "source": [
    "# something more fancy\n",
    "x_data = np.random.randn(1000)+2\n",
    "y_data = 3*np.random.randn(1000)\n",
    "sns.jointplot(x=x_data, y=y_data, kind=\"hex\", color=\"b\")"
   ]
  },
  {
   "cell_type": "markdown",
   "metadata": {
    "editable": true,
    "slideshow": {
     "slide_type": "slide"
    },
    "tags": []
   },
   "source": [
    "#### Something even more fancy: animations (optional)\n",
    "\n",
    "one can profit of the \"interactive\" package (`from ipywidgets import interactive`)\n",
    "for creating user-friendly interactive plots, e.g. while varying a parameter"
   ]
  },
  {
   "cell_type": "code",
   "execution_count": 8,
   "metadata": {
    "editable": true,
    "slideshow": {
     "slide_type": ""
    },
    "tags": []
   },
   "outputs": [
    {
     "data": {
      "application/vnd.jupyter.widget-view+json": {
       "model_id": "5e36e43e67b84fcb96f7473ca1c7f12d",
       "version_major": 2,
       "version_minor": 0
      },
      "text/plain": [
       "interactive(children=(FloatSlider(value=0.0, description='a', max=1.0, min=-1.0), FloatSlider(value=0.0, descr…"
      ]
     },
     "metadata": {},
     "output_type": "display_data"
    }
   ],
   "source": [
    "# define x array\n",
    "data_x = np.linspace(-1,1,100)\n",
    "\n",
    "# define the function to be executed at each change of some input parameter\n",
    "def plotIt(a, b, c):\n",
    "    data_y = a*(data_x)**3 + b*(data_x)**2 + c*(data_x)\n",
    "    plt.plot(data_x, data_y, 'o-b', lw=3)\n",
    "    plt.xlim([-1,1])\n",
    "    plt.ylim([-1,1])\n",
    "\n",
    "# create interactive plot, and display it\n",
    "interactive_plot = interactive(plotIt,a=(-1,1,.1),b=(-2,2,.1),c=(-3,3,.1),continuous_update=True)\n",
    "aux = interactive_plot.children[-1]\n",
    "aux.layout.height = '350px'\n",
    "display(interactive_plot)"
   ]
  },
  {
   "cell_type": "markdown",
   "metadata": {
    "editable": true,
    "slideshow": {
     "slide_type": "slide"
    },
    "tags": []
   },
   "source": [
    "## The physics basics\n",
    "\n",
    "From [Wolfgan's lecture](https://indico.cern.ch/event/1117526/contributions/4978192/), you learnt about **matrices** and particle trajectories:\n",
    "\n",
    "<p align=\"center\">\n",
    "<img src=./_img_exercises/upload_0c59b4d203ab8bd7b31827ad332baca1.png width=\"60%\">\n",
    "</p>\n",
    "\n",
    "Those matrices are the **building blocks** for our  course. Please, keep them in mind."
   ]
  },
  {
   "cell_type": "markdown",
   "metadata": {
    "editable": true,
    "slideshow": {
     "slide_type": "slide"
    },
    "tags": []
   },
   "source": [
    "#### Note about variables\n",
    "\n",
    "- In this course, we will concentrate mainly on the **horizontal** (or vertical) dynamics. \n",
    "- The motion of **charged particles** with respect to the \"center\" of a beamline resamples the motion of **optical rays** in optical systems.\n",
    "- If we were to be more formal, charged particles are best described by **Hamiltonian dynamics** using **canonical coordinates**. \n",
    "    - Typical **canonical coordinates** are the horizontal (or vertical) position $x$, and the corresponding horizontal momentum $p_x$ divided by the reference momentum $p_0$, i.e. $PX=p_x/p_0$.\n",
    "    - If we assume that particle trajectories have **small offsets and angles** (say less than a few mm and mrad) with respect to the \"axis\" of long (say a few m-long) beamline under study, then:\n",
    "    \\begin{equation}\n",
    "       PX = \\frac{p_x}{p_0} \\approx \\frac{p_x}{p_s} = \\tan(x') \\approx x'\n",
    "    \\end{equation}\n",
    "    where $p_s$ is the projected momentum along the beamline direction (i.e. coordinate $s$), and $x'$ is the angle of the particle with respect to the $s$.\n",
    "    - Therefore, we assume here that using $(x, x')$ as **position-angle phase-space coordinates** is a **valid approximation**."
   ]
  },
  {
   "cell_type": "markdown",
   "metadata": {
    "editable": true,
    "slideshow": {
     "slide_type": "slide"
    },
    "tags": []
   },
   "source": [
    "#### Note about units\n",
    "\n",
    "- We will use units derived from the \"Système International\" (SI), e.g. lengths in metres and angles in radians. \n",
    "- However, our approximation is valid assuming small transverse positions and angles!\n",
    "    - From [Wolfgan's lecture](https://indico.cern.ch/event/1117526/contributions/4978192/) the dynamics we are studying is linear:\n",
    "\n",
    "        \\begin{equation}\n",
    "        \\vec{x_s} = M \\cdot \\vec{x_0}\n",
    "        \\end{equation}\n",
    "        \n",
    "    - So we can multiply by $1000$ on both side and obtain:\n",
    "    \n",
    "        \\begin{align}\n",
    "        \\vec{x_s} (\\text{in mm,mrad})\n",
    "          &= 1000 \\cdot \\vec{x_s} (\\text{in m,rad}) \\\\\n",
    "          &= 1000 \\cdot M \\cdot \\vec{x_0} (\\text{in m,rad}) \\\\\n",
    "          &=  M \\cdot (1000 \\cdot \\vec{x_0} (\\text{in m,rad})) \\\\\n",
    "          & = M \\cdot \\vec{x_0} (\\text{in mm,mrad})\n",
    "        \\end{align}\n",
    "    \n",
    "- We will therefore assume that **all matrices** will have units in **(m, rad)**, while all **particle coordinates** in **(mm, mrad)**.\n"
   ]
  },
  {
   "cell_type": "markdown",
   "metadata": {
    "editable": true,
    "slideshow": {
     "slide_type": "slide"
    },
    "tags": []
   },
   "source": [
    "\n",
    "---\n",
    "\n",
    "# Let's start with guided exercises\n",
    "## Model and tracking of a single particle\n",
    "\n",
    "\n",
    "---"
   ]
  },
  {
   "cell_type": "markdown",
   "metadata": {
    "editable": true,
    "slideshow": {
     "slide_type": "slide"
    },
    "tags": []
   },
   "source": [
    "### Exercise 1 (guided)\n",
    "A `drift` is represented by a matrix with ones on the diagonal and the length of the drift on the upper right corner:\n",
    "\n",
    "\\begin{equation}\n",
    "D=\\left[\n",
    "\\begin{array}{c}\n",
    "1\\quad L\\\\\n",
    "0\\quad 1\n",
    "\\end{array}\n",
    "\\right],\n",
    "\\end{equation}\n",
    "\n",
    "Show, numerically, that matrix-multiplying two such matrices, one with $L_1 = 0.5$ m and the other with $L_2 = 0.2$ m in the upper right corner, produces a matrix with the sum of the distances in the upper right corner (i.e. $L_1+L_2 = 0.7$ m)."
   ]
  },
  {
   "cell_type": "markdown",
   "metadata": {
    "editable": true,
    "slideshow": {
     "slide_type": "subslide"
    },
    "tags": []
   },
   "source": [
    "#### SOLUTION\n",
    "Even if we can prove it by hand, we take the opportunity to start learning how to use Numpy arrays in Python..."
   ]
  },
  {
   "cell_type": "code",
   "execution_count": 9,
   "metadata": {
    "editable": true,
    "slideshow": {
     "slide_type": "-"
    },
    "tags": []
   },
   "outputs": [
    {
     "name": "stdout",
     "output_type": "stream",
     "text": [
      "DRIFT 1:\n",
      " [[1.  0.5]\n",
      " [0.  1. ]]\n",
      "DRIFT 2:\n",
      " [[1.  0.2]\n",
      " [0.  1. ]]\n"
     ]
    }
   ],
   "source": [
    "# Let's set our lengths\n",
    "L_1 = 0.5\n",
    "L_2 = 0.2\n",
    "\n",
    "# we define the matrices (Numpy arrays)\n",
    "# NOTA BENE: when defining a numpy 2D array (i.e. a matrix) \n",
    "#            the innermost-array represent a row of our matrix\n",
    "DRIFT_1 = np.array([[1, L_1], [0, 1]])\n",
    "DRIFT_2 = np.array([[1, L_2], [0, 1]])\n",
    "\n",
    "# let's see our matrices:\n",
    "print(f'DRIFT 1:\\n {DRIFT_1}')\n",
    "print(f'DRIFT 2:\\n {DRIFT_2}')"
   ]
  },
  {
   "cell_type": "code",
   "execution_count": 10,
   "metadata": {
    "editable": true,
    "slideshow": {
     "slide_type": "subslide"
    },
    "tags": []
   },
   "outputs": [
    {
     "name": "stdout",
     "output_type": "stream",
     "text": [
      "DRIFT 1+2:\n",
      " [[1.  0.1]\n",
      " [0.  1. ]]\n"
     ]
    }
   ],
   "source": [
    "print(f'DRIFT 1+2:\\n {DRIFT_1*DRIFT_2}')"
   ]
  },
  {
   "cell_type": "markdown",
   "metadata": {
    "slideshow": {
     "slide_type": "fragment"
    }
   },
   "source": [
    "**QUESTION: what did we expect? is the solution provided by numpy correct?**"
   ]
  },
  {
   "cell_type": "markdown",
   "metadata": {
    "editable": true,
    "slideshow": {
     "slide_type": "fragment"
    },
    "tags": []
   },
   "source": [
    "Think about it....\n"
   ]
  },
  {
   "cell_type": "markdown",
   "metadata": {
    "editable": true,
    "slideshow": {
     "slide_type": "subslide"
    },
    "tags": []
   },
   "source": [
    "**BE CAREFUL!** the `*` operator produces **\"element-by-element\" multiplication**, but here we are looking for a **\"matrix multiplication\"** operation.\n",
    "The **`@` operator** is the \"multiplication between matrices\", introduced in python 3, which you should be using instead."
   ]
  },
  {
   "cell_type": "code",
   "execution_count": 11,
   "metadata": {
    "slideshow": {
     "slide_type": "-"
    }
   },
   "outputs": [
    {
     "name": "stdout",
     "output_type": "stream",
     "text": [
      "(correct) DRIFT 1+2:\n",
      " [[1.  0.7]\n",
      " [0.  1. ]]\n"
     ]
    },
    {
     "data": {
      "text/plain": [
       "True"
      ]
     },
     "execution_count": 11,
     "metadata": {},
     "output_type": "execute_result"
    }
   ],
   "source": [
    "# => the @ operator is the \"multiplication between matrices\"\n",
    "print(f'(correct) DRIFT 1+2:\\n {DRIFT_1@DRIFT_2}')\n",
    "(DRIFT_1@DRIFT_2)[0,1] == L_1 + L_2"
   ]
  },
  {
   "cell_type": "markdown",
   "metadata": {
    "editable": true,
    "slideshow": {
     "slide_type": "subslide"
    },
    "tags": []
   },
   "source": [
    "**QUESTION: what is the difference between `DRIFT_2 @ DRIFT_1` and `DRIFT_1 @ DRIFT_2`? Is this important?**\n"
   ]
  },
  {
   "cell_type": "markdown",
   "metadata": {
    "editable": true,
    "slideshow": {
     "slide_type": "fragment"
    },
    "tags": []
   },
   "source": [
    "Think about it...\n",
    "\n",
    "\n",
    "\n"
   ]
  },
  {
   "cell_type": "markdown",
   "metadata": {
    "editable": true,
    "slideshow": {
     "slide_type": "slide"
    },
    "tags": []
   },
   "source": [
    "**NEXT: let's repeat the exercise this time for two quadrupoles (using thin lens approximation!) with different focal length ($f_1 = 1$ and $f_2 = 2$)** (by yourself)"
   ]
  },
  {
   "cell_type": "code",
   "execution_count": 12,
   "metadata": {
    "editable": true,
    "slideshow": {
     "slide_type": ""
    },
    "tags": []
   },
   "outputs": [],
   "source": [
    "# as for the drift, but remember transverse dynamics lecture... \n",
    "\n",
    "# write your solution here!\n"
   ]
  },
  {
   "cell_type": "markdown",
   "metadata": {
    "editable": true,
    "slideshow": {
     "slide_type": "slide"
    },
    "tags": []
   },
   "source": [
    "### Exercise 2 (guided)\n",
    "\n",
    "A single particle is described by a column vector containing its phase-space coordinates ($x$, $x'$):\n",
    "\\begin{equation}\n",
    "\\vec{x} = X = \\left(\n",
    "\\begin{array}{c}\n",
    "x \\\\\n",
    "x'\n",
    "\\end{array}\n",
    "\\right).\n",
    "\\end{equation}\n",
    "\n",
    "Describe a ray, or particle, that is on the optical axis with an angle $x' = 0.5$ mrad. \n",
    "Then, transport this particle to the end of a 2 m long drift using the matrix formalism. "
   ]
  },
  {
   "cell_type": "markdown",
   "metadata": {
    "editable": true,
    "slideshow": {
     "slide_type": "subslide"
    },
    "tags": []
   },
   "source": [
    "#### SOLUTION\n",
    "\n",
    "Using numpy arrays, a column vector is represented by a 2D array with 2 rows and 1 column. \n",
    "\n",
    "If the particle is on the optical axis, then $x$ must be zero, while $x'$ is the given initial angle "
   ]
  },
  {
   "cell_type": "code",
   "execution_count": 13,
   "metadata": {},
   "outputs": [
    {
     "name": "stdout",
     "output_type": "stream",
     "text": [
      "Initial particle coordinates:\n",
      " [[0. ]\n",
      " [0.5]]\n"
     ]
    }
   ],
   "source": [
    "# in Python\n",
    "x = 0 # initial position\n",
    "xp = 0.5 # initial angle\n",
    "X_0 = np.array([[x], [xp]])\n",
    "print(f'Initial particle coordinates:\\n {X_0}')"
   ]
  },
  {
   "cell_type": "code",
   "execution_count": 14,
   "metadata": {
    "editable": true,
    "slideshow": {
     "slide_type": "subslide"
    },
    "tags": []
   },
   "outputs": [
    {
     "name": "stdout",
     "output_type": "stream",
     "text": [
      "Final particle coordinates:\n",
      " [[1. ]\n",
      " [0.5]]\n"
     ]
    }
   ],
   "source": [
    "# we build the drift as we did earlier on:\n",
    "L = 2\n",
    "DRIFT = np.array([[1, L], [0, 1]])\n",
    "\n",
    "# and transport the initial particle to the end of the drift:\n",
    "X_1 = DRIFT @ X_0\n",
    "print(f'Final particle coordinates:\\n {X_1}')"
   ]
  },
  {
   "cell_type": "markdown",
   "metadata": {
    "editable": true,
    "slideshow": {
     "slide_type": "fragment"
    },
    "tags": []
   },
   "source": [
    "**Anything to observe?**"
   ]
  },
  {
   "cell_type": "markdown",
   "metadata": {
    "editable": true,
    "slideshow": {
     "slide_type": "fragment"
    },
    "tags": []
   },
   "source": [
    "Think about it...\n",
    "\n",
    "\n"
   ]
  },
  {
   "cell_type": "markdown",
   "metadata": {
    "editable": true,
    "slideshow": {
     "slide_type": "slide"
    },
    "tags": []
   },
   "source": [
    "### Exercise 3\n",
    "\n",
    "As for the drift, implement a focusing quadrupole matrix (using the thin lens approximation) with focal length $f = 2$.\n",
    "\n",
    "Build the transfer matrix of a beam line made of such a quadrupole followed by a drift of length $L = f = 2$.\n",
    "\n",
    "Transport one particle that starts with an initial offset (e.g. $x_0$ = 0.4 mm) through such a system: \n",
    "- What is the final position ($x_1$)?\n",
    "- Try to vary the initial offset: what do you see?"
   ]
  },
  {
   "cell_type": "markdown",
   "metadata": {
    "editable": true,
    "slideshow": {
     "slide_type": "subslide"
    },
    "tags": []
   },
   "source": [
    "**Hint 1**: recall from [Wolfgan's lecture](https://indico.cern.ch/event/1117526/contributions/4978192/):\n",
    "\n",
    "<p align=\"center\">\n",
    "<img src=./_img_exercises/upload_938d56be287cccab0bd618456f94efc1.png width=\"60%\">\n",
    "</p>\n",
    "\n",
    "**Hint 2**: think a little extra about ordering of the matrices."
   ]
  },
  {
   "cell_type": "code",
   "execution_count": 15,
   "metadata": {
    "editable": true,
    "slideshow": {
     "slide_type": "skip"
    },
    "tags": []
   },
   "outputs": [],
   "source": [
    "# Let's define a quadrupole with focal length f1, as in Ex. 1 ...\n",
    "\n",
    "# write your solution here!\n"
   ]
  },
  {
   "cell_type": "markdown",
   "metadata": {
    "editable": true,
    "slideshow": {
     "slide_type": ""
    },
    "tags": []
   },
   "source": [
    "### Exercise 4\n",
    "\n",
    "The phase-space coordinates of several, say $N$, particles can be conveniently collected in a $2 \\times N$ matrix:\n",
    "\\begin{equation}\n",
    "X = \\left[ \n",
    "    \\left(\n",
    "    \\begin{array}{c}\n",
    "    x \\\\\n",
    "    x'\n",
    "    \\end{array}\n",
    "    \\right)_1\n",
    "    \\left(\n",
    "    \\begin{array}{c}\n",
    "    x \\\\\n",
    "    x'\n",
    "    \\end{array}\n",
    "    \\right)_2\n",
    "    \\left(\n",
    "    \\begin{array}{c}\n",
    "    x \\\\\n",
    "    x'\n",
    "    \\end{array}\n",
    "    \\right)_3\n",
    "    \\cdots\n",
    "    \\left(\n",
    "    \\begin{array}{c}\n",
    "    x \\\\\n",
    "    x'\n",
    "    \\end{array}\n",
    "    \\right)_N\n",
    "\\right]\n",
    "\\end{equation}\n",
    "\n",
    "This is very convenient, as we can then transport all particles through the very same matrix multiplication: \n",
    "\\begin{equation}\n",
    "X_1 = M \\cdot X_0\n",
    "\\end{equation}\n",
    "where $X_0$ are the initial coordinates, and $X_1$ the final ones. \n",
    "\n",
    "Using this formalism, describe $N=5$ particles all with initial angle $x'_0=0$, but different initial $x_0$, e.g. [-2,-1,0,1,2] mm.\n",
    "\n",
    "Then, track all particles along the imaging system of the previous exercise, and once more prove that all particles cross the beam axis, eventually using a simple plot.\n",
    "\n",
    "What happens if you modify your beam line such that $f \\ne L$?\n"
   ]
  },
  {
   "cell_type": "code",
   "execution_count": 16,
   "metadata": {
    "editable": true,
    "slideshow": {
     "slide_type": ""
    },
    "tags": []
   },
   "outputs": [],
   "source": [
    "# Same as previous exercise, create the necessary transport matrices...\n",
    "\n",
    "\n",
    "# write your solution here!\n",
    "\n"
   ]
  },
  {
   "cell_type": "code",
   "execution_count": 17,
   "metadata": {
    "editable": true,
    "slideshow": {
     "slide_type": ""
    },
    "tags": []
   },
   "outputs": [],
   "source": [
    "# Define all initial conditions in a matrix:\n",
    "\n",
    "\n",
    "# write your solution here!\n"
   ]
  },
  {
   "cell_type": "code",
   "execution_count": 18,
   "metadata": {
    "editable": true,
    "slideshow": {
     "slide_type": ""
    },
    "tags": []
   },
   "outputs": [],
   "source": [
    "# Finally, we propagate our coordinates along our system\n",
    "\n",
    "\n",
    "# write your solution here!\n"
   ]
  },
  {
   "cell_type": "code",
   "execution_count": 19,
   "metadata": {
    "editable": true,
    "slideshow": {
     "slide_type": ""
    },
    "tags": []
   },
   "outputs": [],
   "source": [
    "# We can plot, for example, the final x as a function of the initial one for each particle:\n",
    "\n",
    "\n",
    "# write your solution here!\n"
   ]
  },
  {
   "cell_type": "markdown",
   "metadata": {
    "editable": true,
    "slideshow": {
     "slide_type": ""
    },
    "tags": []
   },
   "source": [
    "#### SOLUTION 2\n",
    "What happens if we go away from the $f=L$ condition?"
   ]
  },
  {
   "cell_type": "code",
   "execution_count": 20,
   "metadata": {
    "editable": true,
    "slideshow": {
     "slide_type": ""
    },
    "tags": []
   },
   "outputs": [],
   "source": [
    "# write your solution here!\n",
    "\n",
    "\n"
   ]
  },
  {
   "cell_type": "markdown",
   "metadata": {
    "editable": true,
    "slideshow": {
     "slide_type": "slide"
    },
    "tags": []
   },
   "source": [
    "---\n",
    "\n",
    "# Interlude: a small tracking library\n",
    "\n",
    "---\n"
   ]
  },
  {
   "cell_type": "markdown",
   "metadata": {
    "slideshow": {
     "slide_type": "slide"
    }
   },
   "source": [
    "## Some more convenient functions to model an accelerator\n",
    "\n",
    "We are going to define some important functions, very useful for the rest of the exercises."
   ]
  },
  {
   "cell_type": "markdown",
   "metadata": {
    "slideshow": {
     "slide_type": "subslide"
    }
   },
   "source": [
    "### Modeling of a drift\n",
    "\n",
    "Let's start with a function that generate a convenient representation of a **drift**. "
   ]
  },
  {
   "cell_type": "code",
   "execution_count": 21,
   "metadata": {
    "slideshow": {
     "slide_type": "-"
    }
   },
   "outputs": [
    {
     "data": {
      "text/plain": [
       "[{'matrix': array([[1, 2],\n",
       "         [0, 1]]),\n",
       "  'length': 2}]"
      ]
     },
     "execution_count": 21,
     "metadata": {},
     "output_type": "execute_result"
    }
   ],
   "source": [
    "def D(L):\n",
    "    '''Returns a list containing a single \"drift\" of length L'''\n",
    "    # NB: we return a list with a dict\n",
    "    # the dict contains the matrix (the transformation)\n",
    "    # and the element length \n",
    "    return [{'matrix':np.array([[1, L],[0, 1]]), 'length':L}] \n",
    "\n",
    "# A drift of L=2 m can be generated as:\n",
    "D(2)"
   ]
  },
  {
   "cell_type": "markdown",
   "metadata": {},
   "source": [
    "The main reason for returning such a `list` with inside a `dictionary` are:\n",
    "\n",
    "- it will allow us to keep track of the path travelled by the particle (thanks to the `length` dictionary key)\n",
    "- the element is embedded in a list so to allow for an easy concatenation of elements (e.g. D(1.2) + D(4.3) will produce a list with two elements: one representing a drift of L=1.2 and one of L=4.3 m)."
   ]
  },
  {
   "cell_type": "code",
   "execution_count": 22,
   "metadata": {
    "slideshow": {
     "slide_type": "subslide"
    }
   },
   "outputs": [
    {
     "data": {
      "text/plain": [
       "[{'matrix': array([[1, 1],\n",
       "         [0, 1]]),\n",
       "  'length': 1},\n",
       " {'matrix': array([[1, 2],\n",
       "         [0, 1]]),\n",
       "  'length': 2}]"
      ]
     },
     "execution_count": 22,
     "metadata": {},
     "output_type": "execute_result"
    }
   ],
   "source": [
    "# e.g. representation of a beamline made of two drifts of different length:\n",
    "D(1) + D(2)"
   ]
  },
  {
   "cell_type": "markdown",
   "metadata": {},
   "source": [
    "> **Note:** this is just **one of many possible implementation** choices.\n",
    "> One could think of different structures and ways to model a beamline.\n",
    "> The scope of this course is not to give you a high-efficency and optimised tracking code, \n",
    "> but to **help you to understand** the basics of the underlying **accelerator physics**."
   ]
  },
  {
   "cell_type": "markdown",
   "metadata": {
    "slideshow": {
     "slide_type": "subslide"
    }
   },
   "source": [
    "### Modeling of a quadrupole"
   ]
  },
  {
   "cell_type": "code",
   "execution_count": 23,
   "metadata": {},
   "outputs": [
    {
     "data": {
      "text/plain": [
       "[{'matrix': array([[1, 1],\n",
       "         [0, 1]]),\n",
       "  'length': 1},\n",
       " {'matrix': array([[ 1. ,  0. ],\n",
       "         [-0.5,  1. ]]),\n",
       "  'length': 0}]"
      ]
     },
     "execution_count": 23,
     "metadata": {},
     "output_type": "execute_result"
    }
   ],
   "source": [
    "def Q(f):\n",
    "    '''Returns a list containing a quadrupole with focal length f'''\n",
    "    # NB: we return a list with a dict\n",
    "    # the dict contains the matrix (the transformation)\n",
    "    # and the element length \n",
    "    return [{'matrix':np.array([[1, 0],[-1/f, 1]]), 'length':0}]\n",
    "\n",
    "# e.g. representation of a beamline made of one drift followed by one quadrupole:\n",
    "D(1) + Q(2)"
   ]
  },
  {
   "cell_type": "markdown",
   "metadata": {
    "slideshow": {
     "slide_type": "slide"
    }
   },
   "source": [
    "### From a list of elements - or beamline - to an equivalent single element\n",
    "\n",
    "A beam line (or a whole ring) is modelled by a series of matrices. Independently of the initial particle coordinates, we can compute a single matrix ($M_{eq.}$) that represents the whole beam line (or ring): \n",
    "\n",
    "\\begin{equation}\n",
    "X_s = M_n \\cdot ... \\cdot M_2 \\cdot M_1 \\cdot X_0 = M_{eq.} \\cdot X_0\n",
    "\\end{equation}\n",
    "\n",
    "Given our choice of beamline strcuture, i.e. a `list` of **elements**, each modeled by a `dictionary` with some properties, we can define a useful function to compute the *equivalent* matrix $M_{eq.}$ (actually an *equivalent* **element** represented by a `dictionary` inside a `list`) of a whole beamline made of several **elements**:"
   ]
  },
  {
   "cell_type": "code",
   "execution_count": 24,
   "metadata": {},
   "outputs": [
    {
     "data": {
      "text/plain": [
       "[{'matrix': array([[1., 3.],\n",
       "         [0., 1.]]),\n",
       "  'length': 3}]"
      ]
     },
     "execution_count": 24,
     "metadata": {},
     "output_type": "execute_result"
    }
   ],
   "source": [
    "def getEquivalentElement(beamline):\n",
    "    '''Returns the single element which is equivalent of the given beamline'''\n",
    "    # we start from an identity matrix (np.eye)\n",
    "    # with the same dimension of the matrix of the\n",
    "    # first element of the beamline\n",
    "    equivalentElement = np.eye(beamline[0]['matrix'].shape[0])\n",
    "    length = 0\n",
    "    # NB: we reverse the order of the beamline ([-1::-1])\n",
    "    for elements in beamline[-1::-1]:\n",
    "        # we multiply the matrices \n",
    "        equivalentElement = equivalentElement @ elements['matrix']\n",
    "        # and we add the lengths\n",
    "        length = length + elements['length']\n",
    "    # we return the dict with the \"usual\" keys (matrix and length) embedded in a\n",
    "    #  list (with a single element), as for the definition of the D and Q functions\n",
    "    return [{'matrix':equivalentElement, 'length':length}]\n",
    "\n",
    "# e.g. equivalent representation of a beamline made of two drifts of different length:\n",
    "getEquivalentElement(D(1) + D(2))"
   ]
  },
  {
   "cell_type": "markdown",
   "metadata": {
    "slideshow": {
     "slide_type": "slide"
    }
   },
   "source": [
    "### Tracking particles along a beamline\n",
    "\n",
    "We can also write a function that \"tracks\" one, or several particles defined by their initial coordinate, along a beamline. \n",
    "The `transportParticles` function will create a list of particle coordinates for each location along the beam line, as well as a list of s positions."
   ]
  },
  {
   "cell_type": "code",
   "execution_count": 25,
   "metadata": {},
   "outputs": [],
   "source": [
    "def transportParticles(X_0, beamline, s_0=0):\n",
    "    '''Track the particle(s) `X_0` along the given `beamline`. \n",
    "    If needed, one can specify an initial longitudinal position `s_0`, otherwise set to 0.\n",
    "\n",
    "    It will return a dictionary containing the following key:values\n",
    "       'x': a NxM numpy array with the M-particles x position for all N-elements of the beamline\n",
    "       'xp': a NxM numpy array with the M-particles x' angles for all N-elements of the beamline\n",
    "       's': a N-long numpy array with the longitudinal position of the N-elements of the beamline\n",
    "       'coords': a Nx2xM numpy array with all M-particles coordinates (both x and x') at all N-elements of the beamline\n",
    "    \n",
    "    Disclaimer: if beamline is made of 5 elements, the output will have 5+1 \"elements\" as it will also \n",
    "                return include the initial particle coordinates.\n",
    "    '''\n",
    "    coords = [X_0]\n",
    "    s = [s_0]\n",
    "    for element in beamline:\n",
    "        coords.append(element['matrix'] @ coords[-1])\n",
    "        s.append(s[-1] + element['length']) \n",
    "    coords = np.array(coords)\n",
    "    s = np.array(s)\n",
    "    return {'x':  coords[:,0,:], # [s_idx, particle_idx]\n",
    "            'xp': coords[:,1,:], # [s_idx, particle_idx]\n",
    "            's':  s,   # [s_idx]\n",
    "            'coords': coords,}   # [s_idx, coord_idx, particle_idx]"
   ]
  },
  {
   "cell_type": "code",
   "execution_count": 26,
   "metadata": {},
   "outputs": [
    {
     "data": {
      "text/plain": [
       "Text(0, 0.5, 'x [mm]')"
      ]
     },
     "execution_count": 26,
     "metadata": {},
     "output_type": "execute_result"
    },
    {
     "data": {
      "image/png": "[encoded data removed]",
      "text/plain": [
       "<Figure size 1500x500 with 1 Axes>"
      ]
     },
     "metadata": {},
     "output_type": "display_data"
    }
   ],
   "source": [
    "# e.g. define the intial coordinates for 3 particles all with\n",
    "#      0 x position, but different angles:\n",
    "X_0 = [[0,0,0,0],\n",
    "       [0,1,2,4]]\n",
    "# and let's transport them through a lattice made of 2 equally long drifts\n",
    "tracked_data = transportParticles(X_0, D(1)+D(1))\n",
    "# and plot the trajectories of all particles, i.e. x as a function of s:\n",
    "plt.plot(tracked_data['s'], tracked_data['x'], '.-')\n",
    "plt.xlabel('s [m]')\n",
    "plt.ylabel('x [mm]')"
   ]
  },
  {
   "cell_type": "markdown",
   "metadata": {
    "editable": true,
    "slideshow": {
     "slide_type": "slide"
    },
    "tags": []
   },
   "source": [
    "### Exercise 5\n",
    "Let's consider the beamline from [Exercise 4](#exercise-4), i.e. a quadrupole followed by a drift such that $f=L=2.5$, however model the drift as a series of $L/10$ long drifts.\n",
    "\n",
    "Verify once more that parallel rays (e.g. $x_0$ = [-2,-1,0,1,2] mm) cross the axis after a distance $L=f$, but this time **using our newly developed functions**:\n",
    "- Plot the final position of all particles (profiting of `getEquivalentElement`)\n",
    "- Plot the trajectory of all rays/particles along the beamline (profiting of `transportParticles`)."
   ]
  },
  {
   "cell_type": "markdown",
   "metadata": {
    "slideshow": {
     "slide_type": "subslide"
    }
   },
   "source": [
    "#### SOLUTION 1 - using `getEquivalentElement` function."
   ]
  },
  {
   "cell_type": "code",
   "execution_count": 27,
   "metadata": {
    "editable": true,
    "slideshow": {
     "slide_type": "-"
    },
    "tags": []
   },
   "outputs": [],
   "source": [
    "# code here your solution...\n",
    "\n",
    "\n",
    "\n",
    "\n"
   ]
  },
  {
   "cell_type": "markdown",
   "metadata": {
    "slideshow": {
     "slide_type": "subslide"
    }
   },
   "source": [
    "#### SOLUTION 2 - using `transportParticles` function."
   ]
  },
  {
   "cell_type": "code",
   "execution_count": 28,
   "metadata": {
    "editable": true,
    "slideshow": {
     "slide_type": ""
    },
    "tags": []
   },
   "outputs": [],
   "source": [
    "# code here your solution...\n",
    "\n",
    "\n",
    "\n",
    "\n",
    "\n"
   ]
  },
  {
   "cell_type": "markdown",
   "metadata": {
    "editable": true,
    "slideshow": {
     "slide_type": "slide"
    },
    "tags": []
   },
   "source": [
    "# Now is your turn!\n",
    "\n",
    "Continue by yourself with the exercises of the following notebooks:\n",
    "\n",
    "- [02_Single_Particle_Beamline](./02_Single_Particle_Beamline.ipynb)\n",
    "- [03_Multi_Particles_Beamline](./03_Multi_Particles_Beamline.ipynb)\n",
    "- [04_Periodic_Systems](./04_Periodic_Systems.ipynb)\n",
    "- [05_Advanced_Exercises](./05_Advanced_Exercises.ipynb)\n",
    "\n",
    "The library of functions introduced in this and the next notebooks are all gathered in the [tracking_library.py](./tracking_library.py) file, which can imported in any notebook as:\n",
    "\n",
    "```\n",
    "from tracking_library import *\n",
    "```\n",
    "\n",
    "The notebooks above are meant to be the pre-setup canvas where you can directly solve the problems."
   ]
  }
 ],
 "metadata": {
  "celltoolbar": "Slideshow",
  "kernelspec": {
   "display_name": "Python 3 (ipykernel)",
   "language": "python",
   "name": "python3"
  },
  "language_info": {
   "codemirror_mode": {
    "name": "ipython",
    "version": 3
   },
   "file_extension": ".py",
   "mimetype": "text/x-python",
   "name": "python",
   "nbconvert_exporter": "python",
   "pygments_lexer": "ipython3",
   "version": "3.9.18"
  },
  "vscode": {
   "interpreter": {
    "hash": "fbec5cc8bb1f13e0584b60d171916a07df7bc30ce2ee62338372c9d5be648ecd"
   }
  }
 },
 "nbformat": 4,
 "nbformat_minor": 4
}
