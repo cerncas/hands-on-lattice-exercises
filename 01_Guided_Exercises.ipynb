{
 "cells": [
  {
   "cell_type": "markdown",
   "metadata": {
    "slideshow": {
     "slide_type": "slide"
    }
   },
   "source": [
    "# Hands-on on Lattice Calculation in Python\n",
    "\n",
    "*D. Gamba, A. Latina, A. Poyet, G. Sterbini, V. Ziemann*\n",
    "\n",
    "[Introduction to Accelerator Physics, 18 September 1 October 2022, Kaunas, Lithuania](https://indico.cern.ch/event/1117526/)"
   ]
  },
  {
   "cell_type": "markdown",
   "metadata": {
    "slideshow": {
     "slide_type": "slide"
    }
   },
   "source": [
    "<p align=\"center\">\n",
    "<img src=./_img_exercises/upload_ccbdd4fe3ac855ffa79715fb09caac24.png width=\"80%\">\n",
    "</p>"
   ]
  },
  {
   "cell_type": "markdown",
   "metadata": {
    "slideshow": {
     "slide_type": "slide"
    }
   },
   "source": [
    "## Introduction \n",
    "\n",
    "In this document we will present the suggested directions to solve the exercises of the \"*Hands-on Lattice Calculations in Python*\".\n",
    " \n",
    "These solutions are a natural complement to the [\"*Transverse Linear Beam Dynamics Primer using Python*\"](./CAS_Optics_Primer.pdf) and will serve as a guidance for the student. Most of the time the result can be achieved using multiple paths and we encourage the student to explore them. \n",
    "\n",
    "**In addition, the goal is to stimulate the student's curiosity, so the simple exercise should be challenged to trigger more questions and to dive deeper into the physics of the problem.**"
   ]
  },
  {
   "cell_type": "markdown",
   "metadata": {
    "slideshow": {
     "slide_type": "slide"
    }
   },
   "source": [
    "## Is your computer ready?\n",
    "\n",
    "You received the [instructions](./Setup_Instructions.md) on how to prepare your python working environment.\n",
    "\n",
    "**QUESTION: is everyone able to launch a jupyter lab server from her/his laptop?** "
   ]
  },
  {
   "cell_type": "markdown",
   "metadata": {
    "slideshow": {
     "slide_type": "fragment"
    }
   },
   "source": [
    "**QUESTION: can you import the following packages without errors?** \n"
   ]
  },
  {
   "cell_type": "code",
   "execution_count": 2,
   "metadata": {
    "slideshow": {
     "slide_type": "-"
    }
   },
   "outputs": [],
   "source": [
    "# numpy: our main numerical package\n",
    "import numpy as np\n",
    "# matplotlib and seaborn: our plotting packages\n",
    "import matplotlib.pyplot as plt\n",
    "import seaborn as sns\n",
    "\n",
    "# linear algebra and optimisation algorithms\n",
    "from numpy.linalg import norm\n",
    "from scipy.optimize import minimize\n",
    "# some useful package\n",
    "from copy import deepcopy\n",
    "\n",
    "# **Optional:** for animations you might need to configure your jupyter lab properly:\n",
    "# > pip install ipywidgets\n",
    "# > jupyter nbextension enable --py widgetsnbextension\n",
    "# > jupyter labextension install @jupyter-widgets/jupyterlab-manager\n",
    "from ipywidgets import interactive"
   ]
  },
  {
   "cell_type": "markdown",
   "metadata": {
    "slideshow": {
     "slide_type": "skip"
    }
   },
   "source": [
    "### ... some other setup not to be bothered later\n",
    "\n",
    "Let's also configure `matplotlib` for more presentation-friendly plot production"
   ]
  },
  {
   "cell_type": "code",
   "execution_count": 3,
   "metadata": {
    "slideshow": {
     "slide_type": "skip"
    }
   },
   "outputs": [],
   "source": [
    "# some setup for the plotting\n",
    "from matplotlib import pyplot as plt\n",
    "%matplotlib inline\n",
    "params = {'legend.fontsize': 'x-large',\n",
    "          'figure.figsize': (15, 5),\n",
    "         'axes.labelsize': 'x-large',\n",
    "         'axes.titlesize':'x-large',\n",
    "         'xtick.labelsize':'x-large',\n",
    "         'ytick.labelsize':'x-large'}\n",
    "plt.rcParams.update(params)"
   ]
  },
  {
   "cell_type": "markdown",
   "metadata": {
    "slideshow": {
     "slide_type": "slide"
    }
   },
   "source": [
    "## The physics basis\n",
    "\n",
    "From [Wolfgan's lecture](https://indico.cern.ch/event/1117526/contributions/4978192/), you learnt about **matrices** and particle trajectories:\n",
    "\n",
    "<p align=\"center\">\n",
    "<img src=./_img_exercises/upload_0c59b4d203ab8bd7b31827ad332baca1.png width=\"60%\">\n",
    "</p>\n",
    "\n",
    "Those matrices are the **building blocks** for our  course. Please, keep them in mind."
   ]
  },
  {
   "cell_type": "markdown",
   "metadata": {
    "slideshow": {
     "slide_type": "slide"
    }
   },
   "source": [
    "\n",
    "---\n",
    "\n",
    "# Let's start with guided exercises\n",
    "\n",
    "---"
   ]
  },
  {
   "cell_type": "markdown",
   "metadata": {
    "slideshow": {
     "slide_type": "slide"
    }
   },
   "source": [
    "### Exercise 1\n",
    "A `drift` is represented by a matrix with ones on the diagonal and the length of the drift on the upper right corner.\n",
    "Show, numerically, that multiplying two such matrices, one with $L_1$ and the other with $L_2$ in the upper right corner, produces a matrix with the sum of the distances in the upper right corner."
   ]
  },
  {
   "cell_type": "markdown",
   "metadata": {
    "slideshow": {
     "slide_type": "subslide"
    }
   },
   "source": [
    "#### SOLUTION\n",
    "Even if we can prove it by hand, we take the opportunity to start learning how to use Numpy arrays in Python..."
   ]
  },
  {
   "cell_type": "code",
   "execution_count": 4,
   "metadata": {
    "slideshow": {
     "slide_type": "-"
    }
   },
   "outputs": [
    {
     "name": "stdout",
     "output_type": "stream",
     "text": [
      "DRIFT 1:\n",
      " [[1.  0.5]\n",
      " [0.  1. ]]\n",
      "DRIFT 2:\n",
      " [[1.  0.2]\n",
      " [0.  1. ]]\n"
     ]
    }
   ],
   "source": [
    "# Let's set our length\n",
    "L1 = 0.5\n",
    "L2 = 0.2\n",
    "\n",
    "# we define the matrices (Numpy arrays)\n",
    "# NOTA BENE: when defining a numpy 2D array (i.e. a matrix) \n",
    "#            the innermost-array represent a row of our matrix\n",
    "DRIFT_1 = np.array([[1, L1], [0, 1]])\n",
    "DRIFT_2 = np.array([[1, L2], [0, 1]])\n",
    "\n",
    "# let's see our matrices:\n",
    "print(f'DRIFT 1:\\n {DRIFT_1}')\n",
    "print(f'DRIFT 2:\\n {DRIFT_2}')"
   ]
  },
  {
   "cell_type": "code",
   "execution_count": 5,
   "metadata": {
    "slideshow": {
     "slide_type": "subslide"
    }
   },
   "outputs": [
    {
     "name": "stdout",
     "output_type": "stream",
     "text": [
      "DRIFT 1+2:\n",
      " [[1.  0.1]\n",
      " [0.  1. ]]\n"
     ]
    }
   ],
   "source": [
    "# let's multiply the matrices:\n",
    "print(f'DRIFT 1+2:\\n {DRIFT_1*DRIFT_2}')"
   ]
  },
  {
   "cell_type": "markdown",
   "metadata": {
    "slideshow": {
     "slide_type": "fragment"
    }
   },
   "source": [
    "**QUESTION: what did we expect? is the solution provided by numpy correct?**"
   ]
  },
  {
   "cell_type": "code",
   "execution_count": 6,
   "metadata": {
    "slideshow": {
     "slide_type": "fragment"
    }
   },
   "outputs": [
    {
     "data": {
      "text/plain": [
       "False"
      ]
     },
     "execution_count": 6,
     "metadata": {},
     "output_type": "execute_result"
    }
   ],
   "source": [
    "(DRIFT_1*DRIFT_2)[0,1] == L1 + L2"
   ]
  },
  {
   "cell_type": "markdown",
   "metadata": {
    "slideshow": {
     "slide_type": "subslide"
    }
   },
   "source": [
    "**BE CAREFUL!** the `*` operator produces **\"element-by-element\" multiplication**, but here we are looking for a **\"matrix multiplication\"** operation.\n",
    "The **`@` operator** is the \"multiplication between matrices\", introduced in python 3, which you should be using instead."
   ]
  },
  {
   "cell_type": "code",
   "execution_count": 7,
   "metadata": {
    "slideshow": {
     "slide_type": "-"
    }
   },
   "outputs": [
    {
     "name": "stdout",
     "output_type": "stream",
     "text": [
      "(correct) DRIFT 1+2:\n",
      " [[1.  0.7]\n",
      " [0.  1. ]]\n"
     ]
    },
    {
     "data": {
      "text/plain": [
       "True"
      ]
     },
     "execution_count": 7,
     "metadata": {},
     "output_type": "execute_result"
    }
   ],
   "source": [
    "# => the @ operator is the \"multiplication between matrices\"\n",
    "print(f'(correct) DRIFT 1+2:\\n {DRIFT_1@DRIFT_2}')\n",
    "(DRIFT_1@DRIFT_2)[0,1] == L1 + L2"
   ]
  },
  {
   "cell_type": "markdown",
   "metadata": {
    "slideshow": {
     "slide_type": "subslide"
    }
   },
   "source": [
    "**QUESTION: what is the difference between `DRIFT_2 @ DRIFT_1` and `DRIFT_1 @ DRIFT_2`? Is this important?**\n"
   ]
  },
  {
   "cell_type": "markdown",
   "metadata": {
    "slideshow": {
     "slide_type": "fragment"
    }
   },
   "source": [
    "Remember that the *final* coordinates of a particle, $\\vec{x_s}$, are given as:\n",
    "\n",
    "\\begin{equation}\n",
    "\\vec{x_s} = M_n \\cdot ... \\cdot M_2 \\cdot M_1 \\cdot \\vec{x_0}\n",
    "\\end{equation}\n",
    "\n",
    "where $\\vec{x_0}$ are the initial coordinates, $M_1$ is the first element/matrix encountered by the particle, followed by $M_2$ ... $M_n$..."
   ]
  },
  {
   "cell_type": "markdown",
   "metadata": {
    "slideshow": {
     "slide_type": "subslide"
    }
   },
   "source": [
    "**NEXT: let's repeat the exercise this time for two quadrupoles with different focal length ($f_1$ and $f_2$)**"
   ]
  },
  {
   "cell_type": "code",
   "execution_count": 8,
   "metadata": {
    "slideshow": {
     "slide_type": "fragment"
    }
   },
   "outputs": [
    {
     "data": {
      "text/plain": [
       "array([[ 1. ,  0. ],\n",
       "       [-1.5,  1. ]])"
      ]
     },
     "execution_count": 8,
     "metadata": {},
     "output_type": "execute_result"
    }
   ],
   "source": [
    "# additional questions: what if we consider quadrupoles?\n",
    "f1 = 1\n",
    "f2 = 2\n",
    "\n",
    "# we define the matrices\n",
    "Q_1 = np.array([[1, 0], [-1/f1, 1]])\n",
    "Q_2 = np.array([[1, 0], [-1/f2, 1]])\n",
    "\n",
    "# we multiply the matrices. \n",
    "# NOTA BENE: the @ operator is the \"multiplication between matrix\"\n",
    "Q_2 @ Q_1"
   ]
  },
  {
   "cell_type": "markdown",
   "metadata": {},
   "source": [
    "\n",
    "---\n",
    "\n",
    "# Interlude: particle coordinates conventions\n",
    "\n",
    "---"
   ]
  },
  {
   "cell_type": "markdown",
   "metadata": {},
   "source": [
    "Throughout this course, we define the particle coordinates for a single particle in 1D as:\n",
    "\n",
    "\\begin{equation}\n",
    "X=\\left(\n",
    "\\begin{array}{c}\n",
    "x \\\\\n",
    "p_x\n",
    "\\end{array}\n",
    "\\right),\n",
    "\\end{equation}\n",
    "\n",
    "while for N particles as:\n",
    "\n",
    "\\begin{equation}\n",
    "X_N=\n",
    "\\begin{pmatrix}\n",
    "x_1 & x_2 & ... & x_N\\\\\n",
    "p_{x,1} & p_{x,2} & ... & p_{x,N}\n",
    "\\end{pmatrix}\n",
    "\\end{equation}\n",
    "\n",
    "The generalization to more dimensions is trivial:\n",
    "\n",
    "\\begin{equation}\n",
    "X_N=\n",
    "\\begin{pmatrix}\n",
    "x_1 & x_2 & ... & x_N\\\\\n",
    "p_{x,1} & p_{x,2} & ... & p_{x,N}\\\\\n",
    "y_1 & y_2 & ... & y_N\\\\\n",
    "p_{y,1} & p_{y,2} & ... & p_{y,N}\n",
    "\\end{pmatrix}\n",
    "\\end{equation}\n"
   ]
  },
  {
   "cell_type": "markdown",
   "metadata": {},
   "source": [
    "Examples:"
   ]
  },
  {
   "cell_type": "code",
   "execution_count": 43,
   "metadata": {},
   "outputs": [
    {
     "name": "stdout",
     "output_type": "stream",
     "text": [
      "[[ 1.61535385 -0.31431337 -0.28275915 -1.84541235 -1.00890149  2.05519054\n",
      "   0.6842666   1.97829172 -0.94255711 -1.21343414]\n",
      " [ 0.          0.          0.          0.          0.          0.\n",
      "   0.          0.          0.          0.        ]]\n"
     ]
    }
   ],
   "source": [
    "# Single particle at x=1, px=0\n",
    "X = np.array([[1], \n",
    "              [0]])\n",
    "\n",
    "# Three particles at x=1 but with different angles\n",
    "X = np.array([[1,1,1],\n",
    "              [1,2,3]])\n",
    "\n",
    "# 10 particles at different positions drawn from a \"normal\" (Gaussian) \n",
    "# distribution of mean 0 and variance 1 and px=0\n",
    "N = 10\n",
    "X = np.array([np.random.randn(N), \n",
    "              np.zeros(N)])\n",
    "print(X)"
   ]
  },
  {
   "cell_type": "markdown",
   "metadata": {
    "slideshow": {
     "slide_type": "slide"
    }
   },
   "source": [
    "### Exercise 2\n",
    "How do you describe a ray that is parallel to the optical axis?"
   ]
  },
  {
   "cell_type": "markdown",
   "metadata": {
    "slideshow": {
     "slide_type": "fragment"
    }
   },
   "source": [
    "#### SOLUTION\n",
    "The phase space vector of a particle parallel ot the optical axis can be represented (1D) by \n",
    "\\begin{equation}\n",
    "X=\\left(\n",
    "\\begin{array}{c}\n",
    "x \\\\\n",
    "0\n",
    "\\end{array}\n",
    "\\right),\n",
    "\\end{equation}\n",
    "this means that is $x'$ is vanishing."
   ]
  },
  {
   "cell_type": "code",
   "execution_count": 9,
   "metadata": {},
   "outputs": [
    {
     "name": "stdout",
     "output_type": "stream",
     "text": [
      "Initial particle coordinates:\n",
      " [[0.5]\n",
      " [0. ]]\n"
     ]
    }
   ],
   "source": [
    "# in Python\n",
    "x = 0.5 # initial position\n",
    "X = np.array([[x], \n",
    "              [0]])\n",
    "print(f'Initial particle coordinates:\\n {X}')"
   ]
  },
  {
   "cell_type": "markdown",
   "metadata": {
    "slideshow": {
     "slide_type": "slide"
    }
   },
   "source": [
    "### Exercise 3\n",
    "How do you describe a ray that is on the optical axis?"
   ]
  },
  {
   "cell_type": "markdown",
   "metadata": {
    "slideshow": {
     "slide_type": "fragment"
    }
   },
   "source": [
    "#### SOLUTION\n",
    "The phase space vector of a particle sitting on the optical axis can be represented by \n",
    "\\begin{equation}\n",
    "X=\\left(\n",
    "\\begin{array}{c}\n",
    "0 \\\\\n",
    "x'\n",
    "\\end{array}\n",
    "\\right).\n",
    "\\end{equation}\n",
    "this means that $x$ is vanishing."
   ]
  },
  {
   "cell_type": "code",
   "execution_count": 10,
   "metadata": {},
   "outputs": [
    {
     "name": "stdout",
     "output_type": "stream",
     "text": [
      "Initial particle coordinates:\n",
      " [[0. ]\n",
      " [0.3]]\n"
     ]
    }
   ],
   "source": [
    "# in Python\n",
    "px = 0.3 # initial angle\n",
    "X = np.array([[0], \n",
    "              [px]])\n",
    "print(f'Initial particle coordinates:\\n {X}')"
   ]
  },
  {
   "cell_type": "markdown",
   "metadata": {
    "slideshow": {
     "slide_type": "slide"
    }
   },
   "source": [
    "### Exercise 4\n",
    "Show by multiplying the respective matrices that a parallel ray, which first passes through a lens with focal length $f$ and then moves on a straight line, actually crosses the optical axis at a distance $L=f$ downstream of the lens. \n",
    "\n",
    "**Hint 1**: recall from [Wolfgan's lecture](https://indico.cern.ch/event/1117526/contributions/4978192/):\n",
    "\n",
    "<p align=\"center\">\n",
    "<img src=./_img_exercises/upload_938d56be287cccab0bd618456f94efc1.png width=\"60%\">\n",
    "</p>\n",
    "\n",
    "**Hint 2**: think a little extra about ordering of the matrices.\n",
    "\n"
   ]
  },
  {
   "cell_type": "markdown",
   "metadata": {
    "slideshow": {
     "slide_type": "subslide"
    }
   },
   "source": [
    "#### SOLUTION"
   ]
  },
  {
   "cell_type": "code",
   "execution_count": 11,
   "metadata": {},
   "outputs": [
    {
     "data": {
      "text/plain": [
       "array([[ 0. ],\n",
       "       [-0.5]])"
      ]
     },
     "execution_count": 11,
     "metadata": {},
     "output_type": "execute_result"
    }
   ],
   "source": [
    "# Let's define a quadrupole with focal length f1\n",
    "f1 = 1\n",
    "Q = np.array([[1, 0], [-1/f1, 1]])\n",
    "\n",
    "# Let's define a drift of length f1\n",
    "DRIFT = np.array([[1, f1], [0, 1]])\n",
    "\n",
    "# And our inital vector (parallel ray)\n",
    "x = 0.5 # initial position\n",
    "X = np.array([[x], \n",
    "              [0]])\n",
    "\n",
    "# And we propagate, as in Ex. 2\n",
    "DRIFT @ Q @ X"
   ]
  },
  {
   "cell_type": "markdown",
   "metadata": {},
   "source": [
    "The particle is indeed on the beam axis (see Exercise 3)."
   ]
  },
  {
   "cell_type": "markdown",
   "metadata": {
    "slideshow": {
     "slide_type": "subslide"
    }
   },
   "source": [
    "**QUESTION: is this valid for whatever initial offset? Try to plot the finial $x_s$ as a function of several initial $x_0$**"
   ]
  },
  {
   "cell_type": "code",
   "execution_count": 12,
   "metadata": {
    "slideshow": {
     "slide_type": "fragment"
    }
   },
   "outputs": [
    {
     "data": {
      "text/plain": [
       "Text(0, 0.5, 'Final x position')"
      ]
     },
     "execution_count": 12,
     "metadata": {},
     "output_type": "execute_result"
    },
    {
     "data": {
      "image/png": "[encoded data removed]",
      "text/plain": [
       "<Figure size 576x288 with 1 Axes>"
      ]
     },
     "metadata": {
      "needs_background": "light"
     },
     "output_type": "display_data"
    }
   ],
   "source": [
    "# Let's define a list of several initial offset\n",
    "x_init = np.linspace(-5, 5, 100) # creates an array of 100 points, linearly spaced form 05 to 5 \n",
    "x_result = [] # we initiate an empty list to store our final results\n",
    "\n",
    "for xx in x_init:\n",
    "    X = np.array([[xx], \n",
    "                  [0]]) # we redefine our initial vector\n",
    "    X_fin = DRIFT @ Q @ X # we compute the final coordinates \n",
    "    x_result.append(X_fin[0]) # we populate our result list with the x coordinate\n",
    "    \n",
    "# And let's plot the final x position as a function of the initial one\n",
    "plt.figure(figsize=(8,4))\n",
    "plt.plot(x_init, x_result, 'b-o', lw=2)\n",
    "plt.xlabel(\"Inital x offset\")\n",
    "plt.ylabel(\"Final x position\")"
   ]
  },
  {
   "cell_type": "markdown",
   "metadata": {},
   "source": [
    "We see that no matter the inital offset, the particle is always on the beam axis. **This is the meaning of the focal length!**"
   ]
  },
  {
   "cell_type": "markdown",
   "metadata": {
    "slideshow": {
     "slide_type": "slide"
    }
   },
   "source": [
    "---\n",
    "\n",
    "# Interlude: a small tracking library\n",
    "\n",
    "---\n"
   ]
  },
  {
   "cell_type": "markdown",
   "metadata": {
    "slideshow": {
     "slide_type": "slide"
    }
   },
   "source": [
    "## Some more convenient functions to model an accelerator\n",
    "\n",
    "We are going to define some important functions, very useful for the rest of the exercises."
   ]
  },
  {
   "cell_type": "markdown",
   "metadata": {
    "slideshow": {
     "slide_type": "subslide"
    }
   },
   "source": [
    "### Modeling of a drift\n",
    "\n",
    "Let's start with a function that generate a convenient representation of a **drift**. "
   ]
  },
  {
   "cell_type": "code",
   "execution_count": 13,
   "metadata": {
    "slideshow": {
     "slide_type": "-"
    }
   },
   "outputs": [
    {
     "data": {
      "text/plain": [
       "[{'matrix': array([[1, 2],\n",
       "         [0, 1]]),\n",
       "  'length': 2}]"
      ]
     },
     "execution_count": 13,
     "metadata": {},
     "output_type": "execute_result"
    }
   ],
   "source": [
    "def D(L):\n",
    "    '''Returns the list of a L-long drift'''\n",
    "    # NB: we return a list with a dict\n",
    "    # the dict contains the matrix (the transformation)\n",
    "    # and the element length \n",
    "    return [{'matrix':np.array([[1, L],[0, 1]]), 'length':L}] \n",
    "\n",
    "# A drift of L=2 m can be generated as:\n",
    "D(2)"
   ]
  },
  {
   "cell_type": "markdown",
   "metadata": {},
   "source": [
    "The main reason for returning such a `list` with inside a `dictionary` are:\n",
    "\n",
    "- it will allow us to keep track of the path travelled by the particle (thanks to the `length` dictionary key)\n",
    "- the element is embedded in a list so to allow for an easy concatenation of elements (e.g. D(1.2) + D(4.3) will produce a list with two elements: one representing a drift of L=1.2 and one of L=4.3 m.\n",
    "\n",
    "You can find more details about this choice on our [\"*Transverse Linear Beam Dynamics Primer using Python*\"](./CAS_Optics_Primer.pdf)"
   ]
  },
  {
   "cell_type": "code",
   "execution_count": 14,
   "metadata": {
    "slideshow": {
     "slide_type": "subslide"
    }
   },
   "outputs": [
    {
     "data": {
      "text/plain": [
       "[{'matrix': array([[1, 1],\n",
       "         [0, 1]]),\n",
       "  'length': 1},\n",
       " {'matrix': array([[1, 2],\n",
       "         [0, 1]]),\n",
       "  'length': 2}]"
      ]
     },
     "execution_count": 14,
     "metadata": {},
     "output_type": "execute_result"
    }
   ],
   "source": [
    "# e.g. representation of a beamline made of two drifts of different length:\n",
    "D(1) + D(2)"
   ]
  },
  {
   "cell_type": "markdown",
   "metadata": {},
   "source": [
    "> **Note:** this is just **one of many possible implementation** choices.\n",
    "> One could think of different structures and ways to model a beamline.\n",
    "> The scope of this course is not to give you a high-efficency and optimised tracking code, \n",
    "> but to **help you to understand** the basics of the underlying **accelerator physics**."
   ]
  },
  {
   "cell_type": "markdown",
   "metadata": {
    "slideshow": {
     "slide_type": "subslide"
    }
   },
   "source": [
    "### Modeling of a quadrupole"
   ]
  },
  {
   "cell_type": "code",
   "execution_count": 15,
   "metadata": {},
   "outputs": [
    {
     "data": {
      "text/plain": [
       "[{'matrix': array([[1, 1],\n",
       "         [0, 1]]),\n",
       "  'length': 1},\n",
       " {'matrix': array([[ 1. ,  0. ],\n",
       "         [-0.5,  1. ]]),\n",
       "  'length': 0}]"
      ]
     },
     "execution_count": 15,
     "metadata": {},
     "output_type": "execute_result"
    }
   ],
   "source": [
    "def Q(f):\n",
    "    '''Returns the list of a quadrupole with focal length f'''\n",
    "    # NB: we return a list with a dict\n",
    "    # the dict contains the matrix (the transformation)\n",
    "    # and the element length \n",
    "    return [{'matrix':np.array([[1, 0],[-1/f, 1]]), 'length':0}]\n",
    "\n",
    "# e.g. representation of a beamline made of one drift followed by one quadrupole:\n",
    "D(1) + Q(2)"
   ]
  },
  {
   "cell_type": "markdown",
   "metadata": {
    "slideshow": {
     "slide_type": "slide"
    }
   },
   "source": [
    "### From a list of elements - or beamline - to an equivalent single element\n",
    "\n",
    "Given our choice of beamline strcuture, i.e. a `list` of **elements**, each modeled by a `dictionary` with some properties, we can define a useful function to compute the *equivalent* matrix (actually an *equivalent* **element** represented by a `dictionary`) of a whole beamline made of several **elements**:"
   ]
  },
  {
   "cell_type": "code",
   "execution_count": 16,
   "metadata": {},
   "outputs": [
    {
     "data": {
      "text/plain": [
       "[{'matrix': array([[1., 3.],\n",
       "         [0., 1.]]),\n",
       "  'length': 3}]"
      ]
     },
     "execution_count": 16,
     "metadata": {},
     "output_type": "execute_result"
    }
   ],
   "source": [
    "def getEquivalentElement(beamline):\n",
    "    '''Returns the equivalent single element of a beamline'''\n",
    "    # we start from an identity matrix (np.eye)\n",
    "    # with the same dimension of the matrix of the\n",
    "    # first element of the beamline\n",
    "    equivalentElement = np.eye(beamline[0]['matrix'].shape[0])\n",
    "    length = 0\n",
    "    # NB: we reverse the order of the beamline ([-1::-1])\n",
    "    for elements in beamline[-1::-1]:\n",
    "        # we multiply the matrices \n",
    "        equivalentElement = equivalentElement @ elements['matrix']\n",
    "        # and we add the lengths\n",
    "        length = length + elements['length']\n",
    "    # we return the dict with the \"usual\" keys (matrix and length)\n",
    "    # as for the definition of the D and Q functions\n",
    "    return [{'matrix':equivalentElement, 'length':length}]\n",
    "\n",
    "# e.g. equivalent representation of a beamline made of two drifts of different length:\n",
    "getEquivalentElement(D(1) + D(2))"
   ]
  },
  {
   "cell_type": "markdown",
   "metadata": {
    "slideshow": {
     "slide_type": "slide"
    }
   },
   "source": [
    "### Tracking particles along a beamline\n",
    "\n",
    "We can also write a function that \"tracks\" one, or several particles defined by their initial coordinate, along a beamline:"
   ]
  },
  {
   "cell_type": "code",
   "execution_count": 17,
   "metadata": {},
   "outputs": [
    {
     "data": {
      "text/plain": [
       "array([0, 2, 4, 8])"
      ]
     },
     "execution_count": 17,
     "metadata": {},
     "output_type": "execute_result"
    }
   ],
   "source": [
    "def transportParticles(x0,beamline,s0=0):\n",
    "    '''Track the particle(s) x0 along the given beamline. \n",
    "    If needed, one can specify an initial longitudinal position s0, otherwise set to 0.\n",
    "    '''\n",
    "    coords = [x0]\n",
    "    s = [s0]\n",
    "    for elements in beamline:\n",
    "        coords.append(elements['matrix'] @ coords[-1])\n",
    "        s.append(s[-1] + elements['length']) \n",
    "    coords = np.array(coords).transpose()\n",
    "    return {'x':  coords[:,0,:], # [particle_idx, s_idx]\n",
    "            'px': coords[:,1,:], # [particle_idx, s_idx]\n",
    "            's':  np.array(s), # [s_idx]\n",
    "            'coords': coords,} # [particle_idx, coord_idx, s_idx]\n",
    "\n",
    "# e.g. define the intial coordinates for 3 particles all with\n",
    "#      0 x position, but different angles:\n",
    "x_0 = np.array([[0,0,0,0],\n",
    "                [0,1,2,4]])\n",
    "# and let's transport them throw a lattice made of 2 equally long drifts\n",
    "#   and see the final x coordinate\n",
    "transportParticles(x_0, D(1)+D(1))['x'][:, -1]"
   ]
  },
  {
   "cell_type": "markdown",
   "metadata": {
    "slideshow": {
     "slide_type": "slide"
    }
   },
   "source": [
    "### Exercise 5\n",
    "Let's consider the beamline from [Exercise 4](#exercise-4), i.e. a quadrupole followed by a drift. Let's set the quadrupole's $f=3$ and again verify that parallel rays cross the axis after a distance $L=f$, but this time **using our newly developed functions**.\n",
    "\n",
    "Please, make one or more plots to prove it using several particles, i.e. different initial conditions. "
   ]
  },
  {
   "cell_type": "markdown",
   "metadata": {
    "slideshow": {
     "slide_type": "subslide"
    }
   },
   "source": [
    "#### SOLUTION 1 - using `getEquivalentElement` function."
   ]
  },
  {
   "cell_type": "code",
   "execution_count": 32,
   "metadata": {
    "slideshow": {
     "slide_type": "-"
    }
   },
   "outputs": [
    {
     "data": {
      "image/png": "[encoded data removed]",
      "text/plain": [
       "<Figure size 1080x360 with 1 Axes>"
      ]
     },
     "metadata": {
      "needs_background": "light"
     },
     "output_type": "display_data"
    }
   ],
   "source": [
    "# Particle definition\n",
    "N = 100\n",
    "X = np.array([np.random.randn(N)/1000, \n",
    "              np.zeros(N)])\n",
    "# beamline definition\n",
    "myF = 3 # [m]\n",
    "beamline = + 2 * D(myF/10) + Q(myF) + 10 * D(myF/10)\n",
    "output = getEquivalentElement(beamline)[0]['matrix'] @ X\n",
    "# plotting\n",
    "plt.plot(X[0,:]*1e3, X[1,:]*1e3,'.g', label='entry of the quadrupole');\n",
    "plt.plot(output[0,:]*1e3, output[1,:]*1e3,'.r', label='exit of the beamline');\n",
    "plt.legend()\n",
    "plt.grid(True)\n",
    "plt.xlabel('x [mm]')\n",
    "plt.ylabel(\"x' [mrad]\")\n",
    "plt.xlim([-3,3])\n",
    "plt.ylim([-1,1])\n",
    "plt.title(\"Exercise 5: x-x' plane\");"
   ]
  },
  {
   "cell_type": "markdown",
   "metadata": {
    "slideshow": {
     "slide_type": "subslide"
    }
   },
   "source": [
    "#### SOLUTION 2 - using `transportParticles` function."
   ]
  },
  {
   "cell_type": "code",
   "execution_count": 33,
   "metadata": {},
   "outputs": [
    {
     "data": {
      "image/png": "[encoded data removed]",
      "text/plain": [
       "<Figure size 1080x360 with 1 Axes>"
      ]
     },
     "metadata": {
      "needs_background": "light"
     },
     "output_type": "display_data"
    }
   ],
   "source": [
    "# we the transportParticles function we can se the particle along the line\n",
    "# this can help to visualize the concept of focal length\n",
    "output = transportParticles(X, beamline, s0=-2*myF/10)\n",
    "for my_particle in output['x']:\n",
    "    plt.plot(output['s'], my_particle*1e3,'.-')\n",
    "plt.xlabel('s [m]')\n",
    "plt.ylabel('x [mm]')\n",
    "plt.title('Exercise 5: the focal length')\n",
    "plt.grid(True)"
   ]
  },
  {
   "cell_type": "markdown",
   "metadata": {},
   "source": [
    "Indeed we found back the expected results."
   ]
  },
  {
   "cell_type": "markdown",
   "metadata": {
    "slideshow": {
     "slide_type": "slide"
    }
   },
   "source": [
    "---\n",
    "\n",
    "# Now is your turn!\n",
    "\n",
    "Continue by yourself with the exercises of:\n",
    "\n",
    "- \"02_Single_Particle_Beamline.ipynb\" \n",
    "- \"03_Multi_Particles_Beamline.ipynb\"\n",
    "- \"04_Periodic_Systems.ipynb\"\n",
    "- \"05_Advanced_Exercises.ipynb\"\n",
    "\n",
    "The library of functions introduced in this and the next notebooks are all gathered in the \"tracking_library.py\" file and can imported as:\n",
    "\n",
    "```\n",
    "from tracking_library import *\n",
    "```\n",
    "\n",
    "\n",
    "---"
   ]
  }
 ],
 "metadata": {
  "celltoolbar": "Slideshow",
  "kernelspec": {
   "display_name": "Python 3 (ipykernel)",
   "language": "python",
   "name": "python3"
  },
  "language_info": {
   "codemirror_mode": {
    "name": "ipython",
    "version": 3
   },
   "file_extension": ".py",
   "mimetype": "text/x-python",
   "name": "python",
   "nbconvert_exporter": "python",
   "pygments_lexer": "ipython3",
   "version": "3.7.6"
  },
  "vscode": {
   "interpreter": {
    "hash": "fbec5cc8bb1f13e0584b60d171916a07df7bc30ce2ee62338372c9d5be648ecd"
   }
  }
 },
 "nbformat": 4,
 "nbformat_minor": 4
}
