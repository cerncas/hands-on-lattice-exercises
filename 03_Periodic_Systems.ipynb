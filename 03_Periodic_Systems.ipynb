{
 "cells": [
  {
   "cell_type": "markdown",
   "metadata": {},
   "source": [
    "<style>\n",
    "/* Reveal container full viewport */\n",
    ".reveal {\n",
    "  width: 95vw !important; /* 95% of view width */\n",
    "  height: 50vw !important;   /* about 16:9 aspect ratio height (width × 9/16) */\n",
    "  max-width: 95vw !important;\n",
    "  max-height: 50vw !important;\n",
    "  margin: auto;\n",
    "  font-size: 110%; /* global font size */\n",
    "}\n",
    "\n",
    "/* Slides filling container */\n",
    ".reveal .slides {\n",
    "  width: 100% !important;\n",
    "  height: 100% !important;\n",
    "  max-width: 100% !important;\n",
    "  max-height: 100% !important;\n",
    "  margin: auto;\n",
    "  overflow-wrap: break-word;\n",
    "}\n",
    "\n",
    "/* Prevent content from overflowing horizontally */\n",
    ".reveal section {\n",
    "  overflow-x: auto;\n",
    "  word-wrap: break-word;\n",
    "  box-sizing: border-box;\n",
    "  padding: 1em;\n",
    "}\n",
    "\n",
    "/* Tables scroll horizontally if too wide */\n",
    ".reveal section table {\n",
    "  display: block;\n",
    "  overflow-x: auto;\n",
    "  white-space: nowrap;\n",
    "  max-width: 100%;\n",
    "  margin: 0 auto;\n",
    "  font-size: 90%;\n",
    "  border-collapse: collapse;\n",
    "}\n",
    "\n",
    "/* Smaller font and compact padding inside table cells */\n",
    ".reveal section table td,\n",
    ".reveal section table th {\n",
    "  font-size: 90%;\n",
    "  padding: 0.3em 0.5em;\n",
    "  white-space: nowrap;\n",
    "}\n",
    "</style>"
   ]
  },
  {
   "cell_type": "markdown",
   "metadata": {
    "editable": true,
    "slideshow": {
     "slide_type": "slide"
    },
    "tags": []
   },
   "source": [
    "# Third Hands-On Session\n",
    "---\n",
    "Exploring periodic lattices:\n",
    "\n",
    "- Implementing and studying the properties of a FODO cell/lattice\n",
    "- Computing closed optics solutions\n",
    "- The concept of Tune and FODO cell phase advance\n",
    "- Introducing Sector Bends\n",
    "---"
   ]
  },
  {
   "cell_type": "markdown",
   "metadata": {
    "editable": true,
    "slideshow": {
     "slide_type": "slide"
    },
    "tags": []
   },
   "source": [
    "## 🐍 Python corner\n",
    "\n",
    "Let's import standard packages and settings. We'll be using:\n",
    "- `numpy` as `np`\n",
    "- `matplotlib.pyplot` as `plt`\n",
    "- `from ipywidgets import interactive`\n",
    "- functions `D`, `Q`, `transportParticles`, `getEquivalentElement`"
   ]
  },
  {
   "cell_type": "code",
   "execution_count": null,
   "metadata": {
    "editable": true,
    "slideshow": {
     "slide_type": ""
    },
    "tags": []
   },
   "outputs": [],
   "source": [
    "# Import custom tracking functions and useful libraries\n",
    "from tracking_library import *"
   ]
  },
  {
   "cell_type": "markdown",
   "metadata": {
    "editable": true,
    "slideshow": {
     "slide_type": "slide"
    },
    "tags": []
   },
   "source": [
    "## ⚛️ Physics focus: From arbitrary transport to periodic transport\n",
    "\n",
    "From the previous lecture we know that any beam line can be described by a transfer matrix M. In a periodic system (e.g. an accelerator ring), the beam passes through the same structure repeatedly, so after m turns:\n",
    "\\begin{equation}\n",
    "X_m = M \\cdot M \\cdot ... \\cdot M X_0 = M^m X_0\n",
    "\\end{equation}\n",
    "where M is the transfer matrix of one full period, also called **the One-Turn Map (OTM)**. \n",
    "\n",
    "For the motion to be stable over many turns, the particle trajectory must remain bounded:\n",
    "\\begin{equation}\n",
    "|X_m| < |\\hat{X}| \\qquad  \\forall \\quad X_0, m\n",
    "\\end{equation}\n",
    "For a 2x2 real symplectic matrix (such as M), this stability condition translates into a simple requirement on the trace:\n",
    "\\begin{equation}\n",
    "\\frac{1}{2}|Tr(M)|\\leq1\n",
    "\\end{equation}\n",
    "\n",
    "**In the following, we will study particle motion and stability using one of the most common periodic structures: the FODO cell!**\n"
   ]
  },
  {
   "cell_type": "markdown",
   "metadata": {
    "editable": true,
    "slideshow": {
     "slide_type": "slide"
    },
    "tags": []
   },
   "source": [
    "## 📝 Exercise 3.1: Stability of the FODO cell\n",
    "\n",
    "The FODO cell is one of the most fundamental lattice topologies. In its simpler version, it consists on two thin quadrupoles of opposite focal length, f, spaced by two drifts of length $L$ (as in [Wolfgan's lecture](https://indico.cern.ch/event/1356988/contributions/5713241/)), i.e. the total length of the cell ($L_{FODO}$) is $2L$. \n",
    "\n",
    "<p align=\"center\">\n",
    "<img src=./_img_exercises/slide_fodo.png width=\"60%\">\n",
    "</p>\n",
    "\n",
    "1. Define a **FODO beamline** that **starts and ends in the middle of a focusing quadrupole** (we could start the FODO from an arbitrary point inside it). For the moment, we can define arbitrarily the $f$ and $L$ parameters: we chose **2.5 m and 1 m**, respectively.\n",
    "\n",
    "> 👀 **HINT 1**: A half-quadrupole has double the focal length than a full quadrupole.\n",
    "\n",
    "> 👀 **HINT 2**: To better visualize the trajectory of the particle(s), always split the drifts in several shorter drifts (e.g. $10$ drifts, each $L/10$ long).\n",
    "    \n",
    "2. Track a particle that has an initial offset $x = 1$ mm and no angle $x' = -0.1$ mrad, and plot its position $x$ and angle $x'$ along the beam line.\n",
    "\n",
    "> 👀 **HINT 3**: After having plotted $x$ trajectory on a plot, one can create a second vertical axis that shares the same horizontal axis with `plt.twinx()`\n",
    "\n",
    "3. Plot the position $x$ and angle $x'$ through $N=100$ equal FODO cells.\n",
    "\n",
    "4. Play with different values of the focal length $f$ and explore whether you can make the oscillations grow.\n",
    "\n",
    "> 👀 **HINT 4**: Look back at [Wolfgan's lecture](https://indico.cern.ch/event/1356988/contributions/5713241/): the stability of a FODO cell takes the form:\n",
    "> \\begin{equation}\n",
    "    \\frac{1}{2}|Tr(M)| = \\left|\\frac{L}{2f}\\right| = \\left|\\frac{L_{FODO}}{4f}\\right| \\leq 1\n",
    "   \\end{equation}"
   ]
  },
  {
   "cell_type": "code",
   "execution_count": null,
   "metadata": {
    "editable": true,
    "slideshow": {
     "slide_type": ""
    },
    "tags": []
   },
   "outputs": [],
   "source": [
    "# code here your solution..."
   ]
  },
  {
   "cell_type": "markdown",
   "metadata": {
    "editable": true,
    "slideshow": {
     "slide_type": "slide"
    },
    "tags": []
   },
   "source": [
    "## 📝 Exercise 3.2: Transport of sigma matrix in a FODO beamline & searching periodic solution\n",
    "\n",
    "1. Transport a sigma matrix (e.g. $\\beta$ = 3 [m], $\\gamma$ = 0.5 [1/m], $\\epsilon$ = 1 [mm mrad]) through a beamline made of 8 FODO cells (with, for example, $f=2.5$ and $L=1$ as before), and plot the evolution of the sigma matrix elements ($\\sigma_{11}$, $\\sigma_{22}$, $\\sigma_{12}$) along the beamline. Do you see a periodic structure?\n",
    "\n",
    "2. Try to vary the initial sigma matrix parameter by **try and error** that reproduces itself at the end of the beam line (8 FODO cells), meaning:\n",
    "\n",
    "   \\begin{equation}\n",
    "      \\Sigma_{0} = M_{\\mathrm{OTM}} \\Sigma_0 M_{\\mathrm{OTM}}^T\n",
    "   \\end{equation}\n",
    "    You will quickly realise that this is extremely difficult if not impossible. \n",
    "    > 👀 **HINT 1**: (optional) you might want to use an **interactive plot** - see in the previous exercise how to make one"
   ]
  },
  {
   "cell_type": "code",
   "execution_count": null,
   "metadata": {
    "editable": true,
    "slideshow": {
     "slide_type": ""
    },
    "tags": []
   },
   "outputs": [],
   "source": [
    "# code here your solution..."
   ]
  },
  {
   "cell_type": "markdown",
   "metadata": {
    "editable": true,
    "slideshow": {
     "slide_type": "slide"
    },
    "tags": []
   },
   "source": [
    "## ⚛️ Physics focus: Periodic solution (matching)\n",
    "\n",
    "For a **stable lattice**, there must exist a **periodic solution**. In other words, there are Twiss parameters such that the beam matrix reproduces itself after one turn:\n",
    "\n",
    "\\begin{equation}\n",
    "  \\Sigma_{0} = M_{\\mathrm{OTM}} \\Sigma_0 M_{\\mathrm{OTM}}^T\n",
    "\\end{equation}\n",
    "\n",
    "Using the Twiss parametrization, the periodic solution is (**recall** [Wolfgan's lecture](https://indico.cern.ch/event/1356988/contributions/5713241/)):\n",
    "\n",
    "\\begin{equation}\n",
    "    M_{\\mathrm{OTM}} = \n",
    "        \\left[\n",
    "        \\begin{array}{cc}\n",
    "        \\cos(\\mu) + \\alpha_0 \\sin(\\mu)  & \\beta_0 \\sin(\\mu)\\\\\n",
    "        - \\gamma_0 \\sin(\\mu) & \\cos(\\mu) - \\alpha_0 \\sin(\\mu)\n",
    "        \\end{array}\n",
    "        \\right]\n",
    "        =\n",
    "        \\left[\n",
    "        \\begin{array}{cc}\n",
    "        r_{11}  & r_{12} \\\\\n",
    "        r_{21}  & r_{22}\n",
    "        \\end{array}\n",
    "        \\right]\n",
    "\\end{equation}\n",
    "\n",
    "Here, $\\alpha_0$, $\\beta_0$, and $\\gamma_0$ are the Twiss parameters at the start (or equivalently the end) of the lattice, and $\\mu$ is the **phase advance**. The total phase advance around the ring, divided by $2\\pi$, is called the **tune**.\n",
    "\n",
    "The important point is that the existence of **these periodic Twiss parameters is a property of the lattice itself**: they depend only on its focusing structure (e.g. quadrupole strength $f$, drift length $L$), not on the initial beam distribution.\n",
    "\n",
    "Of course, in practice one can inject a mismatched beam, meaning **a beam whose Twiss parameters do not coincide with the periodic solution of the lattice**. In this case the motion remains stable, but the beam size and particle oscillations can vary significantly along the lattice and from turn to turn."
   ]
  },
  {
   "cell_type": "markdown",
   "metadata": {
    "editable": true,
    "slideshow": {
     "slide_type": "slide"
    },
    "tags": []
   },
   "source": [
    "## 📝 Exercise 3.3: Periodic solution of a FODO cell\n",
    "\n",
    "Remember [Wolfgan's lecture](https://indico.cern.ch/event/1356988/contributions/5713241/) for finding the periodic solution:\n",
    "\n",
    "<p align=\"center\">\n",
    "<img src=./_img_exercises/slide_fodo_periodic.png width=\"60%\">\n",
    "</p>\n",
    "\n",
    "**Get the one turn matrix of a FODO cell using the `getEquivalentElement` function and extract the matching initial conditions.** "
   ]
  },
  {
   "cell_type": "code",
   "execution_count": null,
   "metadata": {
    "editable": true,
    "slideshow": {
     "slide_type": ""
    },
    "tags": []
   },
   "outputs": [],
   "source": [
    "# code here your solution..."
   ]
  },
  {
   "cell_type": "markdown",
   "metadata": {
    "editable": true,
    "slideshow": {
     "slide_type": "slide"
    },
    "tags": []
   },
   "source": [
    "### 🔹 **NOTE** Those concepts are implemented in the function `twiss()` from our toolbox:"
   ]
  },
  {
   "cell_type": "code",
   "execution_count": null,
   "metadata": {
    "editable": true,
    "slideshow": {
     "slide_type": ""
    },
    "tags": []
   },
   "outputs": [],
   "source": [
    "from tracking_library import twiss\n",
    "\n",
    "help(twiss)"
   ]
  },
  {
   "cell_type": "markdown",
   "metadata": {
    "editable": true,
    "slideshow": {
     "slide_type": "subslide"
    },
    "tags": []
   },
   "source": [
    "> 🔹 **NOTE**: We can apply this function to any beamline, e.g. a series of quadrupoles and drifts, e.g.:"
   ]
  },
  {
   "cell_type": "code",
   "execution_count": null,
   "metadata": {
    "editable": true,
    "slideshow": {
     "slide_type": ""
    },
    "tags": []
   },
   "outputs": [],
   "source": [
    "# create a random beamline of many elements\n",
    "beamline = 5 * (10 * D(0.5 / 10) + Q(1) + 10 * D(2 / 10) + Q(-0.8) + 10 * D(1.5 / 10) + Q(0.3) + 10 * D(1.5 / 10))\n",
    "\n",
    "# compute the closed solution\n",
    "(tune, beta, alpha, gamma) = twiss(beamline)\n",
    "print(tune, beta, alpha, gamma)\n",
    "\n",
    "# assemble the sigma matrix\n",
    "epsilon = 1\n",
    "sigma_matrix = np.array([ [beta, -alpha], \n",
    "                          [-alpha, gamma]]) * epsilon\n",
    "\n",
    "# print out the values\n",
    "print(f\"The total phase advance (or tune) of the beamline is {tune}.\")\n",
    "print(f\"The sigma matrix is:\\n {sigma_matrix}\")\n",
    "print(f\"which has determinant equal to: {np.linalg.det(sigma_matrix):.3f}.\")"
   ]
  },
  {
   "cell_type": "markdown",
   "metadata": {},
   "source": [
    "## 📝 Exercise 3.4: Tuning FODO phase advance\n",
    "\n",
    "The Twiss parameters and the phase advanced can be 'tuned' by changing the focusing and length of our FODO cell. Look back at [Wolfgan's lecture](https://indico.cern.ch/event/1356988/contributions/5713241/) and see that (with some math), one can prove that:\n",
    "\n",
    "\\begin{equation}\n",
    "       \\sin(\\mu/2) = \\frac{L_{FODO}}{4f}\n",
    "\\end{equation}\n",
    "\n",
    "Consider a single FODO cell of total length $L_{FODO}=2$ m. **Can you find $f$ such that the FODO cell phase advance is $\\mu = \\pi/2$, i.e. 90 deg phase-advance?**\n",
    "\n",
    "> Optional/guided: Introduce **sector bends** ($L_{bend} = L/2 = 0.5$ m, and bending angle $\\phi=10$ degrees) in the middle of both drifts of the FODO cell, without changing the total length of the FODO cell. How does the optics change?\n",
    "\n",
    "> 👀 **HINT**: Our toolbox library implements also sector bends: `B(phi, L)` defined by bending angle (`phi`) and bend lenght (`L`)."
   ]
  },
  {
   "cell_type": "code",
   "execution_count": 1,
   "metadata": {},
   "outputs": [],
   "source": [
    "# code here your solution..."
   ]
  },
  {
   "cell_type": "markdown",
   "metadata": {},
   "source": [
    "## 📝 Exercise 3.5: Putting it all together — tuning an accelerator ring and tracking a beam\n",
    "\n",
    "1. **Build the synchrotron.** \n",
    "   - Construct a synchrotron of total length 160 m, composed of 16 FODO cells (ignore dipoles; start at the center of a focusing quadrupole).  \n",
    "   - Determine the quadrupole strength required to obtain a phase advance of 60.12 degrees per cell.  \n",
    "   - Compute the one-turn matrix (OTM) of the synchrotron and verify that the lattice is stable.  \n",
    "   - Find the Twiss parameters of the periodic solution and calculate the tune. Check that the phase advance per cell is indeed close to \\ang{60}.\n",
    "2. **Generate a matched Gaussian beam and plot beta function**  \n",
    "   - Using the Twiss parameters from step 1 and an emittance of **1 mm·mrad**, compute the **sigma matrix** and the corresponding beam size. Compute the beta function along the ring by tracking the sigma matrix.   \n",
    "   - Generate **500 particles** with ⟨x₀⟩ = 0, ⟨x′₀⟩ = 0, and second moments given by the sigma matrix (i.e. $\\sigma_{xx}$, $\\sigma_{x'x'}$, $\\sigma_{xx'}$).  \n",
    "   - Plot the **initial phase space distribution** of the particles.\n",
    "3. **Track the beam for one turn**  \n",
    "   - Track all 500 particles for **one full turn**.  \n",
    "   - In a single figure, plot:  \n",
    "     - all particle trajectories (black),  \n",
    "     - the trajectory of the first particle (orange),  \n",
    "     - and the mean trajectory of the beam (blue).\n",
    "4. **Track a single particle - betatron oscillations, tune and single particle ellipse** \n",
    "   - Select a single particle with a chosen $(x_0, x'_0)$ and track it for **100 turns** (use a loop).  \n",
    "   - Plot its trajectory and its trace space evolution turn by turn.\n",
    "   - Optional: use interactive plotting for varying the number of turns  "
   ]
  },
  {
   "cell_type": "code",
   "execution_count": null,
   "metadata": {},
   "outputs": [],
   "source": [
    "# code here your solution..."
   ]
  },
  {
   "cell_type": "code",
   "execution_count": null,
   "metadata": {},
   "outputs": [],
   "source": [
    "# code here your solution..."
   ]
  },
  {
   "cell_type": "code",
   "execution_count": null,
   "metadata": {},
   "outputs": [],
   "source": [
    "# code here your solution..."
   ]
  },
  {
   "cell_type": "code",
   "execution_count": null,
   "metadata": {},
   "outputs": [],
   "source": [
    "# code here your solution..."
   ]
  },
  {
   "cell_type": "code",
   "execution_count": null,
   "metadata": {},
   "outputs": [],
   "source": [
    "# code here your solution..."
   ]
  },
  {
   "cell_type": "code",
   "execution_count": null,
   "metadata": {},
   "outputs": [],
   "source": [
    "# code here your solution..."
   ]
  },
  {
   "cell_type": "code",
   "execution_count": null,
   "metadata": {},
   "outputs": [],
   "source": [
    "# code here your solution..."
   ]
  },
  {
   "cell_type": "code",
   "execution_count": null,
   "metadata": {
    "editable": true,
    "slideshow": {
     "slide_type": ""
    },
    "tags": []
   },
   "outputs": [],
   "source": [
    "# code here your solution..."
   ]
  },
  {
   "cell_type": "markdown",
   "metadata": {
    "editable": true,
    "slideshow": {
     "slide_type": "slide"
    },
    "tags": []
   },
   "source": [
    "## Well done !!\n",
    "\n",
    "=> **If you still have time, continue your learning with the following [notebook](./04_Dispersion.ipynb)**...\n"
   ]
  }
 ],
 "metadata": {
  "celltoolbar": "Slideshow",
  "kernelspec": {
   "display_name": "Python 3 (ipykernel)",
   "language": "python",
   "name": "python3"
  },
  "language_info": {
   "codemirror_mode": {
    "name": "ipython",
    "version": 3
   },
   "file_extension": ".py",
   "mimetype": "text/x-python",
   "name": "python",
   "nbconvert_exporter": "python",
   "pygments_lexer": "ipython3",
   "version": "3.13.5"
  },
  "vscode": {
   "interpreter": {
    "hash": "fbec5cc8bb1f13e0584b60d171916a07df7bc30ce2ee62338372c9d5be648ecd"
   }
  }
 },
 "nbformat": 4,
 "nbformat_minor": 4
}
