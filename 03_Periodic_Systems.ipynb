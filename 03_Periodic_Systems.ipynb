{
 "cells": [
  {
   "cell_type": "markdown",
   "metadata": {
    "editable": true,
    "slideshow": {
     "slide_type": "slide"
    },
    "tags": []
   },
   "source": [
    "# Third Hands-On Session\n",
    "---\n",
    "Exploring periodic lattices:\n",
    "\n",
    "- Implementing and studying the properties of a FODO cell/lattice\n",
    "- Computing closed optics solutions\n",
    "- The concept of Tune and FODO cell phase advance\n",
    "- Introducing Sector Bends\n",
    "---"
   ]
  },
  {
   "cell_type": "markdown",
   "metadata": {
    "editable": true,
    "slideshow": {
     "slide_type": "slide"
    },
    "tags": []
   },
   "source": [
    "## 🐍 Python corner\n",
    "\n",
    "Let's import standard packages and settings. We'll be using:\n",
    "- `numpy` as `np`\n",
    "- `matplotlib.pyplot` as `plt`\n",
    "- functions `D`, `Q`, `transportParticles`, `getEquivalentElement`"
   ]
  },
  {
   "cell_type": "code",
   "execution_count": 1,
   "metadata": {
    "editable": true,
    "slideshow": {
     "slide_type": ""
    },
    "tags": []
   },
   "outputs": [
    {
     "name": "stdout",
     "output_type": "stream",
     "text": [
      "numpy is installed, version: 2.3.1\n",
      "scipy is installed, version: 1.15.3\n",
      "matplotlib is installed, version: 3.10.0\n",
      "-> Setup is OK! Have fun!\n"
     ]
    }
   ],
   "source": [
    "# Import custom tracking functions and useful libraries\n",
    "from tracking_library import *"
   ]
  },
  {
   "cell_type": "markdown",
   "metadata": {
    "editable": true,
    "slideshow": {
     "slide_type": "slide"
    },
    "tags": []
   },
   "source": [
    "## ⚛️ Physics focus: From arbitrary transport to periodic transport\n",
    "\n",
    "From the previous lecture we know that any beam line can be described by a transfer matrix M. In a periodic system (e.g. an accelerator ring), the beam passes through the same structure repeatedly, so after m turns:\n",
    "\\begin{equation}\n",
    "X_m = M \\cdot M \\cdot ... \\cdot M X_0 = M^m X_0\n",
    "\\end{equation}\n",
    "where M is the transfer matrix of one full period, also called **the One-Turn Map (OTM)**. \n",
    "\n",
    "For the motion to be stable over many turns, the particle trajectory must remain bounded:\n",
    "\\begin{equation}\n",
    "|X_m| < |\\hat{X}| \\qquad  \\forall \\quad X_0, m\n",
    "\\end{equation}\n",
    "For a 2x2 real symplectic matrix (such as M), this stability condition translates into a simple requirement on the trace:\n",
    "\\begin{equation}\n",
    "\\frac{1}{2}|Tr(M)|\\leq1\n",
    "\\end{equation}\n",
    "\n",
    "**In the following, we will study particle motion and stability using one of the most common periodic structures: the FODO cell!**\n"
   ]
  },
  {
   "cell_type": "markdown",
   "metadata": {
    "editable": true,
    "slideshow": {
     "slide_type": "slide"
    },
    "tags": []
   },
   "source": [
    "## 📝 Exercise 3.1: The FODO cell\n",
    "\n",
    "Let's start working with FODO cells. This is one of the most fundamental lattice topologies. In its simpler version, it consists on two thin quadrupoles of opposite focal length, f, spaced by two drifts of length $L$ (as in [Wolfgan's lecture](https://indico.cern.ch/event/1356988/contributions/5713241/)), i.e. the total length of the cell ($L_{FODO}$) is $2L$. \n",
    "\n",
    "<p align=\"center\">\n",
    "<img src=./_img_exercises/slide_fodo.png width=\"60%\">\n",
    "</p>\n",
    "\n",
    "1. Define a **FODO beamline** that **starts and ends in the middle of a focusing quadrupole** (we could start the FODO from an arbitrary point inside it). For the moment, we can define arbitrarily the $f$ and $L$ parameters: we chose **2.5 m and 1 m**, respectively.\n",
    "\n",
    "> 👀 **HINT 1**: A half-quadrupole has double the focal length than a full quadrupole.\n",
    "\n",
    "> 👀 **HINT 2**: To better visualize the trajectory of the particle(s), always split the drifts in several shorter drifts (e.g. $10$ drifts, each $L/10$ long).\n",
    "    \n",
    "2. Track a particle that has an initial offset $x = 1$ mm and no angle $x' = -0.1$ mrad, and plot its position $x$ and angle $x'$ along the beam line.\n",
    "\n",
    "> 👀 **HINT 3**: After having plotted $x$ trajectory on a plot, one can create a second vertical axis that shares the same horizontal axis with `plt.twinx()`"
   ]
  },
  {
   "cell_type": "code",
   "execution_count": 2,
   "metadata": {
    "editable": true,
    "slideshow": {
     "slide_type": ""
    },
    "tags": []
   },
   "outputs": [],
   "source": [
    "# code here your solution..."
   ]
  },
  {
   "cell_type": "markdown",
   "metadata": {
    "editable": true,
    "slideshow": {
     "slide_type": "slide"
    },
    "tags": []
   },
   "source": [
    "## 📝 Exercise 3.2: Multiple FODO cells - stability\n",
    "\n",
    "Plot the position $x$ and angle $x'$ through $N=100$ equal FODO cells, play with different values of the focal length $f$ and explore whether you can make the oscillations grow.\n",
    "\n",
    "> **Hint:** Look back at [Wolfgan's lecture](https://indico.cern.ch/event/1356988/contributions/5713241/):\n",
    ">\n",
    "> <p align=\"center\">\n",
    "> <img src=./_img_exercises/slide_stability.png width=\"60%\">\n",
    "> </p>\n",
    ">\n",
    "> It is shown that the stability of a FODO cell takes the form:\n",
    "> \\begin{equation}\n",
    "    \\frac{1}{2}|Tr(M)| = \\left|\\frac{L}{2f}\\right| = \\left|\\frac{L_{FODO}}{4f}\\right| \\leq 1\n",
    "> \\end{equation}"
   ]
  },
  {
   "cell_type": "code",
   "execution_count": 3,
   "metadata": {
    "editable": true,
    "slideshow": {
     "slide_type": ""
    },
    "tags": []
   },
   "outputs": [],
   "source": [
    "# code here your solution..."
   ]
  },
  {
   "cell_type": "markdown",
   "metadata": {
    "editable": true,
    "slideshow": {
     "slide_type": "slide"
    },
    "tags": []
   },
   "source": [
    "## 📝 Exercise 3.3: Transport of sigma matrix in a FODO beamline & searching periodic solution\n",
    "\n",
    "1. Transport a sigma matrix (e.g. $\\beta$ = 3 [m], $\\gamma$ = 0.5 [1/m], $\\epsilon$ = 1) through a beamline made of 8 FODO cells (with, for example, $f=2.5$ and $L=1$ as before), and plot the evolution of the sigma matrix elements ($\\sigma_{11}$, $\\sigma_{22}$, $\\sigma_{12}$) along the beamline. Do you see a periodic structure?\n",
    "\n",
    "2. Try to vary the initial sigma matrix parameter by **try and error** that reproduces itself at the end of the beam line (8 FODO cells), meaning:\n",
    "\n",
    "   \\begin{equation}\n",
    "      \\Sigma_{0} = M_{\\mathrm{OTM}} \\Sigma_0 M_{\\mathrm{OTM}}^T\n",
    "   \\end{equation}\n",
    "\n",
    " You will quickly realise that this is extremely difficult if not impossible. \n",
    "\n",
    "> 👀 **HINT 1**: (optional) you might want to use an **interactive plot** - see in the previous exercises how to make one\n",
    "\n",
    "> 👀 **HINT 2**: **try!**, but **don't waist to much time with try and error** approaches (that's not your job as accelerator physicist!), and **move on** to the next exercise...\n",
    "\n",
    "3. In a FODO cell the $\\beta$ function reaches a maximum (or a minimum) in the middle of the quadrupoles, i.e. the $\\alpha$ function is zero.\n",
    "If one models the FODO cell starting from the middle of a quadrupole (as we do), then at least one parameter is fixed! "
   ]
  },
  {
   "cell_type": "code",
   "execution_count": 4,
   "metadata": {
    "editable": true,
    "slideshow": {
     "slide_type": ""
    },
    "tags": []
   },
   "outputs": [],
   "source": [
    "# code here your solution..."
   ]
  },
  {
   "cell_type": "markdown",
   "metadata": {
    "editable": true,
    "slideshow": {
     "slide_type": "slide"
    },
    "tags": []
   },
   "source": [
    "## ⚛️ Physics focus: Periodic solution (matching)\n",
    "\n",
    "Even when the motion is stable, the beam size (described by the sigma matrix $\\Sigma$) may vary strongly from cell to cell or turn to turn. This can cause undesirable effects such as beam losses or emittance growth in the presence of nonlinearities.\n",
    "\n",
    "In a circular accelerator, we usually want more than just bounded motion: we want the beam shape (phase space ellipse) to remain the same every turn. This special situation is called a **matched beam**, and it is defined by the condition:\n",
    "\n",
    "   \\begin{equation}\n",
    "      \\Sigma_{0} = M_{\\mathrm{OTM}} \\Sigma_0 M_{\\mathrm{OTM}}^T\n",
    "   \\end{equation}\n",
    "\n",
    "A beam satisfying this relation is in equilibrium with the lattice and remains stationary from turn to turn.\n",
    "\n",
    "\n",
    "**Recalling** [Wolfgan's lecture](https://indico.cern.ch/event/1356988/contributions/5713241/): if we parameterize the beam with the Twiss parameters, the one-turn matrix of any stable beam line can be written as:\n",
    "\n",
    "\\begin{equation}\n",
    "M_{\\mathrm{OTM}} = \n",
    "    \\left[\n",
    "    \\begin{array}{cc}\n",
    "    \\cos(\\mu) + \\alpha_0 \\sin(\\mu)  & \\beta_0 \\sin(\\mu)\\\\\n",
    "    - \\gamma_0 \\sin(\\mu) & \\cos(\\mu) - \\alpha_0 \\sin(\\mu)\n",
    "    \\end{array}\n",
    "    \\right]\n",
    "    =\n",
    "    \\left[\n",
    "    \\begin{array}{cc}\n",
    "    r_{11}  & r_{12} \\\\\n",
    "    r_{21}  & r_{22}\n",
    "    \\end{array}\n",
    "    \\right]\n",
    "\\end{equation}\n",
    "\n",
    "where $\\alpha_0$, $\\beta_0$, $\\gamma_0$ are the initial (and final) **Twiss values** and $\\mu$ is the phase advance (or **tune**, if we talk about a whole ring) of the associated beamline.\n",
    "\n",
    "\n",
    "**From this representation one can directly extract the periodic Twiss parameters of any beamline, provided a stable solution exists, i.e. $\\frac{1}{2}|\\mathrm{Tr}(M)| \\le 1$**"
   ]
  },
  {
   "cell_type": "markdown",
   "metadata": {
    "editable": true,
    "slideshow": {
     "slide_type": "slide"
    },
    "tags": []
   },
   "source": [
    "## 📝 Exercise 3.4: Matching to FODO lattice (periodic solution)\n",
    "\n",
    "One can use the equation form [Wolfgan's lecture](https://indico.cern.ch/event/1356988/contributions/5713241/) to find the theoretical solution.\n",
    "\n",
    "<p align=\"center\">\n",
    "<img src=./_img_exercises/slide_fodo_periodic.png width=\"60%\">\n",
    "</p>\n",
    "\n",
    "Get the one turn matrix of the previous beamline using the `getEquivalentElement` function and extract the matching initial conditions. "
   ]
  },
  {
   "cell_type": "code",
   "execution_count": 5,
   "metadata": {
    "editable": true,
    "slideshow": {
     "slide_type": ""
    },
    "tags": []
   },
   "outputs": [],
   "source": [
    "# code here your solution..."
   ]
  },
  {
   "cell_type": "markdown",
   "metadata": {
    "editable": true,
    "slideshow": {
     "slide_type": "slide"
    },
    "tags": []
   },
   "source": [
    "### 🔹 **NOTE** Those concepts are implemented in the function `twiss()` from our toolbox:"
   ]
  },
  {
   "cell_type": "code",
   "execution_count": 6,
   "metadata": {
    "editable": true,
    "slideshow": {
     "slide_type": ""
    },
    "tags": []
   },
   "outputs": [
    {
     "name": "stdout",
     "output_type": "stream",
     "text": [
      "Help on function twiss in module tracking_library:\n",
      "\n",
      "twiss(beamline)\n",
      "    Compute Twiss parameters and tune for a periodic beamline.\n",
      "\n",
      "    Parameters\n",
      "    ----------\n",
      "    beamline : list of dict\n",
      "        Sequence of beamline elements.\n",
      "\n",
      "    Returns\n",
      "    -------\n",
      "    tune : float\n",
      "        Betatron tune (fraction of oscillation per turn).\n",
      "    beta : float\n",
      "        Beta function at entrance [m].\n",
      "    alpha : float\n",
      "        Alpha function at entrance.\n",
      "    gamma : float\n",
      "        Gamma function at entrance.\n",
      "\n"
     ]
    }
   ],
   "source": [
    "from tracking_library import twiss\n",
    "\n",
    "help(twiss)"
   ]
  },
  {
   "cell_type": "markdown",
   "metadata": {
    "editable": true,
    "slideshow": {
     "slide_type": "subslide"
    },
    "tags": []
   },
   "source": [
    "> 🔹 **NOTE**: We can apply this function to any beamline, e.g. a series of quadrupoles and drifts, e.g.:"
   ]
  },
  {
   "cell_type": "code",
   "execution_count": 7,
   "metadata": {
    "editable": true,
    "slideshow": {
     "slide_type": ""
    },
    "tags": []
   },
   "outputs": [
    {
     "name": "stdout",
     "output_type": "stream",
     "text": [
      "The total phase advance (or tune) of the beamline is 0.5999038489602736.\n",
      "The sigma matrix is:\n",
      " [[16.98880317 14.57092107]\n",
      " [14.57092107 12.55601932]]\n",
      "which has determinant equal to: 1.000.\n"
     ]
    }
   ],
   "source": [
    "# create a random beamline of many elements\n",
    "beamline = 5 * (10 * D(0.5 / 10) + Q(1) + 10 * D(2 / 10) + Q(-0.8) + 10 * D(1.5 / 10) + Q(0.3) + 10 * D(1.5 / 10))\n",
    "\n",
    "# compute the closed solution\n",
    "(tune, beta, alpha, gamma) = twiss(beamline)\n",
    "\n",
    "# assemble the sigma matrix\n",
    "sigma_matrix = np.array([[beta, -alpha], [-alpha, gamma]])\n",
    "\n",
    "# print out the values\n",
    "print(f\"The total phase advance (or tune) of the beamline is {tune}.\")\n",
    "print(f\"The sigma matrix is:\\n {sigma_matrix}\")\n",
    "print(f\"which has determinant equal to: {np.linalg.det(sigma_matrix):.3f}.\")"
   ]
  },
  {
   "cell_type": "markdown",
   "metadata": {
    "editable": true,
    "slideshow": {
     "slide_type": ""
    },
    "tags": []
   },
   "source": [
    "❓**QUESTION: why the determinant of the obtained sigma matrix is equal to 1?**"
   ]
  },
  {
   "cell_type": "markdown",
   "metadata": {
    "editable": true,
    "slideshow": {
     "slide_type": "slide"
    },
    "tags": []
   },
   "source": [
    "## 📝 Exercise 3.5: Matching single FODO cell using `twiss`\n",
    "\n",
    "Consider again a FODO cell, and choose $f$ and $L$ making sure it allows for having a periodic solution (i.e. $f > L_{FODO}/4$ - see again [Wolfgan's lecture](https://indico.cern.ch/event/1356988/contributions/5713241/)). \n",
    "This time, **model the FODO cell starting from the middle of a drift**, i.e. `D(L/2) + Q(f) + D + Q(-f) + D(L/2)`.\n",
    "\n",
    "1. Compute the periodic $\\Sigma_0$ matrix using the Twiss parameters obtain for the newly defined `twiss` function (assuming $\\epsilon=1$).\n",
    "2. Transport the periodic $\\Sigma$ matrix along the FODO and convince yourself that the $\\Sigma_s$ matrix at the end of the FODO is indeed equal to the one at the start, $\\Sigma_0$."
   ]
  },
  {
   "cell_type": "code",
   "execution_count": 8,
   "metadata": {
    "editable": true,
    "slideshow": {
     "slide_type": ""
    },
    "tags": []
   },
   "outputs": [],
   "source": [
    "# code here your solution..."
   ]
  },
  {
   "cell_type": "markdown",
   "metadata": {
    "editable": true,
    "slideshow": {
     "slide_type": "slide"
    },
    "tags": []
   },
   "source": [
    "## 📝 Exercise 3.6: Evolution of a matched simga matrix in multiple FODO cells\n",
    "Write down the numerical values of initial beam matrix $\\Sigma_0$, then build a beam line made of $15$ consecutive cells by changing the definition of the lattice and then, using $\\Sigma_0$ with the noted-down numbers, prepare a plot of the beam sizes along the $15$ cells. \n",
    "Is this also periodic?"
   ]
  },
  {
   "cell_type": "code",
   "execution_count": 9,
   "metadata": {
    "editable": true,
    "slideshow": {
     "slide_type": ""
    },
    "tags": []
   },
   "outputs": [],
   "source": [
    "# code here your solution..."
   ]
  },
  {
   "cell_type": "markdown",
   "metadata": {
    "editable": true,
    "slideshow": {
     "slide_type": "slide"
    },
    "tags": []
   },
   "source": [
    "## 📝 Exercise 3.7: Trace (phase) space ellipse\n",
    "\n",
    "Consider the previous FODO cell starting in the middle of the drift, and stable. \n",
    "Consider a single particle with some non-zero initial $x_0$ and $x_0'$ (e.g. $x_0 =.24$; $x' = 2.3$), and **plot the $x$, $x'$ coordinates at the end of each FODO cell** for a beamline made of 100 cells. \n",
    "\n",
    "> 👀 **HINT 1**: You should use both `getEquivalentElement` to obtain the single FODO cell element, and `transportParticles` function to track the particle over several of such a cell.\n",
    "\n",
    "> 👀 **HINT 2**: use `plt.scatter(output['x'], output['px'])` to plot all phase-space coordinates."
   ]
  },
  {
   "cell_type": "markdown",
   "metadata": {
    "editable": true,
    "slideshow": {
     "slide_type": ""
    },
    "tags": []
   },
   "source": [
    "### 🔹 NOTE: the Twiss parameters get a special meaning\n",
    "\n",
    "<p align=\"center\">\n",
    "<img src=./_img_exercises/ellipse.png width=\"40%\">\n",
    "</p>"
   ]
  },
  {
   "cell_type": "code",
   "execution_count": 10,
   "metadata": {
    "editable": true,
    "slideshow": {
     "slide_type": ""
    },
    "tags": []
   },
   "outputs": [],
   "source": [
    "# code here your solution..."
   ]
  },
  {
   "cell_type": "markdown",
   "metadata": {
    "editable": true,
    "slideshow": {
     "slide_type": "slide"
    },
    "tags": []
   },
   "source": [
    "## 📝 Exercise 3.8: Betatron oscillations\n",
    "Consider again the previous FODO cell, and a particle starting with non-zero coordinates. Plot the position of the particle vs the number of turns. \n",
    "\n",
    "1. What do you observe?\n",
    "2. Can you infer the tune? \n",
    "3. How many turns (or FODO cells) are needed for the particle to complete one full oscillation?\n",
    "4. What changes if you start from a different initial coordinate?"
   ]
  },
  {
   "cell_type": "code",
   "execution_count": null,
   "metadata": {
    "editable": true,
    "slideshow": {
     "slide_type": ""
    },
    "tags": []
   },
   "outputs": [],
   "source": [
    "# code here your solution..."
   ]
  },
  {
   "cell_type": "markdown",
   "metadata": {
    "editable": true,
    "slideshow": {
     "slide_type": "slide"
    },
    "tags": []
   },
   "source": [
    "## 📝 Exercise 3.9: Tuning FODO phase advance\n",
    "\n",
    "Consider a single FODO cell of total length $L_{FODO}=2$ m. \n",
    "\n",
    "1. Can you find $f$ such that the FODO cell phase advance is $\\mu = \\pi/2$, i.e. 90 deg phase-advance?\n",
    "2. Repeat this cell 100 times, and plot the trajectory, in phase space, of a particle with x=1 mm and xp=0 cell after cell: what do you observe?\n",
    "3. (Optional) Show that the similar results are obtained irrespectively if you start your FODO from the middle of a quadrupole or of a drift.\n",
    "\n",
    "> 👀 **HINT**: Look back at [Wolfgan's lecture](https://indico.cern.ch/event/1356988/contributions/5713241/):\n",
    ">\n",
    "> <p align=\"center\">\n",
    "> <img src=./_img_exercises/slide_fodo_phase.png width=\"60%\">\n",
    "> </p>\n",
    "> \n",
    "> and recall that $\\mathrm{Tr}(M) = 2 \\cos(\\mu)$. \n",
    "> With some math, one can prove that:\n",
    "> \n",
    ">    \\begin{equation}\n",
    "       \\sin(\\mu/2) = \\frac{L_{FODO}}{4f}\n",
    "    \\end{equation}"
   ]
  },
  {
   "cell_type": "code",
   "execution_count": null,
   "metadata": {
    "editable": true,
    "slideshow": {
     "slide_type": ""
    },
    "tags": []
   },
   "outputs": [],
   "source": [
    "# code here your solution..."
   ]
  },
  {
   "cell_type": "markdown",
   "metadata": {
    "editable": true,
    "slideshow": {
     "slide_type": "slide"
    },
    "tags": []
   },
   "source": [
    "## 📝 Exercise 3.10: Tuning a FODO cell with dipoles\n",
    "\n",
    "Build a beam line made of 6 FODO cells with $L_{cell} = 4$ m and **Adjust the value of f** such that one cell phase advance is **60 degrees**.\n",
    "\n",
    "1. Compute the closed optics using the `twiss()` function on a **single cell**, and plot the **beta function** along the whole beamline. Can you also compute the closed optics solution **applying twiss() to the whole beamline**? Does the solution differ? Why? What is the \"tune\" of the whole beamline?\n",
    "2. Introduce **sector bends** ($L_{bend} = L_{DRIFT}/2 = 1$ m, and bending angle $\\phi=10$ degrees) in the middle of all drifts of the FODO cells, without changing the total length of the FODO cell. How does the optics change?\n",
    "3. Try to adjust the focal length of the quadrupoles to recover **60 degrees** phase advance **per cell**.\n",
    "\n",
    " > 👀 **HINT**: Our toolbox library implements also sector bends: `B(phi, L)` defined by bending angle (`phi`) and bend lenght (`L`)."
   ]
  },
  {
   "cell_type": "code",
   "execution_count": 2,
   "metadata": {
    "editable": true,
    "slideshow": {
     "slide_type": ""
    },
    "tags": []
   },
   "outputs": [
    {
     "name": "stdout",
     "output_type": "stream",
     "text": [
      "Help on function B in module tracking_library:\n",
      "\n",
      "B(phi, L)\n",
      "    Thick sector bend with deflecting angle phi and length L (2x2 matrix).\n",
      "\n",
      "    Parameters\n",
      "    ----------\n",
      "    phi : float\n",
      "        Deflection angle [rad]\n",
      "    L : float\n",
      "        Length of the bend [m]\n",
      "\n",
      "    Returns\n",
      "    -------\n",
      "    element : list of dict\n",
      "        A list with a single dictionary containing the matrix and length.\n",
      "\n"
     ]
    }
   ],
   "source": [
    "# Import the sector bend model\n",
    "from tracking_library import B\n",
    "\n",
    "help(B)"
   ]
  },
  {
   "cell_type": "code",
   "execution_count": null,
   "metadata": {
    "editable": true,
    "slideshow": {
     "slide_type": ""
    },
    "tags": []
   },
   "outputs": [],
   "source": [
    "# code here your solution..."
   ]
  },
  {
   "cell_type": "markdown",
   "metadata": {
    "editable": true,
    "slideshow": {
     "slide_type": "slide"
    },
    "tags": []
   },
   "source": [
    "## Well done !!\n",
    "\n",
    "=> **If you still have time, continue your learning with the following [notebook](./04_Dispersion.ipynb)**...\n"
   ]
  }
 ],
 "metadata": {
  "celltoolbar": "Slideshow",
  "kernelspec": {
   "display_name": "Python 3 (ipykernel)",
   "language": "python",
   "name": "python3"
  },
  "language_info": {
   "codemirror_mode": {
    "name": "ipython",
    "version": 3
   },
   "file_extension": ".py",
   "mimetype": "text/x-python",
   "name": "python",
   "nbconvert_exporter": "python",
   "pygments_lexer": "ipython3",
   "version": "3.13.5"
  },
  "vscode": {
   "interpreter": {
    "hash": "fbec5cc8bb1f13e0584b60d171916a07df7bc30ce2ee62338372c9d5be648ecd"
   }
  }
 },
 "nbformat": 4,
 "nbformat_minor": 4
}
