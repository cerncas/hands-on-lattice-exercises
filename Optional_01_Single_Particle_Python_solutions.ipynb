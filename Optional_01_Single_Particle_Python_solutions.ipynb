{
 "cells": [
  {
   "cell_type": "markdown",
   "metadata": {},
   "source": [
    "# Optional 1: More Details about our Python Libraray Implementation \n",
    "---\n",
    "- If you want to (and have time for) a deeper understanding of the **python libraries** or **physics/numerical** subtleties, feel free to explore the following exercises \n",
    "---"
   ]
  },
  {
   "cell_type": "markdown",
   "metadata": {},
   "source": [
    "##### First, Let's import standard packages and settings..."
   ]
  },
  {
   "cell_type": "code",
   "execution_count": 1,
   "metadata": {},
   "outputs": [],
   "source": [
    "# numpy: our main numerical package\n",
    "# matplotlib and seaborn: our plotting packages\n",
    "import matplotlib.pyplot as plt\n",
    "import numpy as np\n",
    "\n",
    "# some setup for the plotting\n",
    "params = {\n",
    "    \"legend.fontsize\": \"x-large\",\n",
    "    \"figure.figsize\": (15, 5),\n",
    "    \"axes.labelsize\": \"x-large\",\n",
    "    \"axes.titlesize\": \"x-large\",\n",
    "    \"xtick.labelsize\": \"x-large\",\n",
    "    \"ytick.labelsize\": \"x-large\",\n",
    "}\n",
    "plt.rcParams.update(params)"
   ]
  },
  {
   "cell_type": "markdown",
   "metadata": {
    "editable": true,
    "slideshow": {
     "slide_type": "slide"
    },
    "tags": []
   },
   "source": [
    "### Exercise 1.1Py (Guided)\n",
    "A `drift` is represented by a matrix with ones on the diagonal and the length of the drift on the upper right corner:\n",
    "\n",
    "\\begin{equation}\n",
    "D=\\left[\n",
    "\\begin{array}{c}\n",
    "1\\quad L\\\\\n",
    "0\\quad 1\n",
    "\\end{array}\n",
    "\\right],\n",
    "\\end{equation}\n",
    "\n",
    "Such a matrix can be easily implemented by a 2x2 `numpy` matrix.\n",
    "\n",
    "Show, numerically, that matrix-multiplying two such matrices, one with $L_1 = 0.5$ m and the other with $L_2 = 0.2$ m in the upper right corner, produces a matrix with the sum of the distances in the upper right corner (i.e. $L_1+L_2 = 0.7$ m)."
   ]
  },
  {
   "cell_type": "markdown",
   "metadata": {
    "editable": true,
    "slideshow": {
     "slide_type": "subslide"
    },
    "tags": []
   },
   "source": [
    "#### SOLUTION\n",
    "Even if we can prove it by hand, we take the opportunity to start learning how to use Numpy arrays in Python..."
   ]
  },
  {
   "cell_type": "code",
   "execution_count": 2,
   "metadata": {
    "editable": true,
    "slideshow": {
     "slide_type": "-"
    },
    "tags": []
   },
   "outputs": [
    {
     "name": "stdout",
     "output_type": "stream",
     "text": [
      "DRIFT 1:\n",
      " [[1.  0.5]\n",
      " [0.  1. ]]\n",
      "DRIFT 2:\n",
      " [[1.  0.2]\n",
      " [0.  1. ]]\n"
     ]
    }
   ],
   "source": [
    "# Let's set our lengths\n",
    "L_1 = 0.5\n",
    "L_2 = 0.2\n",
    "\n",
    "# we define the matrices (Numpy arrays)\n",
    "# NOTA BENE: when defining a numpy 2D array (i.e. a matrix)\n",
    "#            the innermost-array represent a row of our matrix\n",
    "DRIFT_1 = np.array([[1, L_1], [0, 1]])\n",
    "DRIFT_2 = np.array([[1, L_2], [0, 1]])\n",
    "\n",
    "# let's see our matrices:\n",
    "print(f\"DRIFT 1:\\n {DRIFT_1}\")\n",
    "print(f\"DRIFT 2:\\n {DRIFT_2}\")"
   ]
  },
  {
   "cell_type": "code",
   "execution_count": 3,
   "metadata": {
    "editable": true,
    "slideshow": {
     "slide_type": "subslide"
    },
    "tags": []
   },
   "outputs": [
    {
     "name": "stdout",
     "output_type": "stream",
     "text": [
      "DRIFT 1+2:\n",
      " [[1.  0.1]\n",
      " [0.  1. ]]\n"
     ]
    }
   ],
   "source": [
    "print(f\"DRIFT 1+2:\\n {DRIFT_1*DRIFT_2}\")"
   ]
  },
  {
   "cell_type": "markdown",
   "metadata": {
    "slideshow": {
     "slide_type": "fragment"
    }
   },
   "source": [
    "**QUESTION: what did we expect? is the solution provided by numpy correct?**"
   ]
  },
  {
   "cell_type": "code",
   "execution_count": 4,
   "metadata": {
    "slideshow": {
     "slide_type": "fragment"
    }
   },
   "outputs": [
    {
     "data": {
      "text/plain": [
       "np.False_"
      ]
     },
     "execution_count": 4,
     "metadata": {},
     "output_type": "execute_result"
    }
   ],
   "source": [
    "(DRIFT_1 * DRIFT_2)[0, 1] == L_1 + L_2"
   ]
  },
  {
   "cell_type": "markdown",
   "metadata": {
    "slideshow": {
     "slide_type": "subslide"
    }
   },
   "source": [
    "**BE CAREFUL!** the `*` operator produces **\"element-by-element\" multiplication**, but here we are looking for a **\"matrix multiplication\"** operation.\n",
    "The **`@` operator** is the \"multiplication between matrices\", introduced in python 3, which you should be using instead."
   ]
  },
  {
   "cell_type": "code",
   "execution_count": 5,
   "metadata": {
    "slideshow": {
     "slide_type": "-"
    }
   },
   "outputs": [
    {
     "name": "stdout",
     "output_type": "stream",
     "text": [
      "(correct) DRIFT 1+2:\n",
      " [[1.  0.7]\n",
      " [0.  1. ]]\n"
     ]
    },
    {
     "data": {
      "text/plain": [
       "np.True_"
      ]
     },
     "execution_count": 5,
     "metadata": {},
     "output_type": "execute_result"
    }
   ],
   "source": [
    "# => the @ operator is the \"multiplication between matrices\"\n",
    "print(f\"(correct) DRIFT 1+2:\\n {DRIFT_1@DRIFT_2}\")\n",
    "(DRIFT_1 @ DRIFT_2)[0, 1] == L_1 + L_2"
   ]
  },
  {
   "cell_type": "markdown",
   "metadata": {
    "editable": true,
    "slideshow": {
     "slide_type": "subslide"
    },
    "tags": []
   },
   "source": [
    "### Exercise 1.2Py (Guided)\n",
    "\n",
    "**QUESTION: what is the difference between `DRIFT_2 @ DRIFT_1` and `DRIFT_1 @ DRIFT_2`? Is this important?**\n"
   ]
  },
  {
   "cell_type": "markdown",
   "metadata": {
    "editable": true,
    "slideshow": {
     "slide_type": "fragment"
    },
    "tags": []
   },
   "source": [
    "Remember that the *final* coordinates of a particle, $\\vec{x_s}$, are given as:\n",
    "\n",
    "\\begin{equation}\n",
    "\\vec{x_s} = M_n \\cdot ... \\cdot M_2 \\cdot M_1 \\cdot \\vec{x_0}\n",
    "\\end{equation}\n",
    "\n",
    "where $\\vec{x_0}$ are the initial coordinates, $M_1$ is the first element/matrix encountered by the particle, followed by $M_2$ ... $M_n$..."
   ]
  },
  {
   "cell_type": "markdown",
   "metadata": {
    "editable": true,
    "slideshow": {
     "slide_type": "subslide"
    },
    "tags": []
   },
   "source": [
    "### Exercise 1.3Py\n",
    "\n",
    "Repeat the previous exercises this time for two quadrupoles (using thin lens approximation!) with different focal length ($f_1 = 1$ and $f_2 = 2$)**, implementing the quadrupole matrices by yourself"
   ]
  },
  {
   "cell_type": "markdown",
   "metadata": {},
   "source": [
    "#### SOLUTION"
   ]
  },
  {
   "cell_type": "code",
   "execution_count": 6,
   "metadata": {
    "editable": true,
    "slideshow": {
     "slide_type": "fragment"
    },
    "tags": []
   },
   "outputs": [
    {
     "data": {
      "text/plain": [
       "array([[ 1. ,  0. ],\n",
       "       [-1.5,  1. ]])"
      ]
     },
     "execution_count": 6,
     "metadata": {},
     "output_type": "execute_result"
    }
   ],
   "source": [
    "# let's define the focal lengths in two variables\n",
    "f1 = 1\n",
    "f2 = 2\n",
    "\n",
    "# we define the matrices\n",
    "Q_1 = np.array([[1, 0], [-1 / f1, 1]])\n",
    "Q_2 = np.array([[1, 0], [-1 / f2, 1]])\n",
    "\n",
    "# we multiply the matrices.\n",
    "# NOTA BENE: the @ operator is the \"multiplication between matrix\"\n",
    "Q_2 @ Q_1"
   ]
  },
  {
   "cell_type": "markdown",
   "metadata": {
    "editable": true,
    "slideshow": {
     "slide_type": "fragment"
    },
    "tags": []
   },
   "source": [
    "**Anything to observe?**"
   ]
  },
  {
   "cell_type": "markdown",
   "metadata": {
    "editable": true,
    "slideshow": {
     "slide_type": "fragment"
    },
    "tags": []
   },
   "source": [
    "Since there is no drift between the two quadrupoles, this is equivalent to a quadrupole with focal length such that $1/f = 1/f1 + 1/f2$!"
   ]
  },
  {
   "cell_type": "markdown",
   "metadata": {
    "editable": true,
    "slideshow": {
     "slide_type": "slide"
    },
    "tags": []
   },
   "source": [
    "### Exercise 1.4Py\n",
    "\n",
    "A single particle is described by a column vector containing its phase-space coordinates ($x$, $x'$):\n",
    "\\begin{equation}\n",
    "\\vec{x} = X = \\left(\n",
    "\\begin{array}{c}\n",
    "x \\\\\n",
    "x'\n",
    "\\end{array}\n",
    "\\right).\n",
    "\\end{equation}\n",
    "\n",
    "Describe a ray, or particle, that is on the optical axis with an angle $x' = 0.5$ mrad. \n",
    "Then, transport this particle to the end of a 2 m long drift using the matrix formalism. "
   ]
  },
  {
   "cell_type": "markdown",
   "metadata": {
    "editable": true,
    "slideshow": {
     "slide_type": "subslide"
    },
    "tags": []
   },
   "source": [
    "#### SOLUTION\n",
    "\n",
    "Using numpy arrays, a column vector is represented by a 2D array with 2 rows and 1 column. \n",
    "\n",
    "If the particle is on the optical axis, then $x$ must be zero, while $x'$ is the given initial angle "
   ]
  },
  {
   "cell_type": "code",
   "execution_count": 7,
   "metadata": {
    "editable": true,
    "slideshow": {
     "slide_type": ""
    },
    "tags": []
   },
   "outputs": [
    {
     "name": "stdout",
     "output_type": "stream",
     "text": [
      "Initial particle coordinates:\n",
      " [[0. ]\n",
      " [0.5]]\n"
     ]
    }
   ],
   "source": [
    "# in Python\n",
    "x = 0  # initial position\n",
    "xp = 0.5  # initial angle\n",
    "X_0 = np.array([[x], [xp]])\n",
    "print(f\"Initial particle coordinates:\\n {X_0}\")"
   ]
  },
  {
   "cell_type": "code",
   "execution_count": 8,
   "metadata": {
    "editable": true,
    "slideshow": {
     "slide_type": "subslide"
    },
    "tags": []
   },
   "outputs": [
    {
     "name": "stdout",
     "output_type": "stream",
     "text": [
      "Final particle coordinates:\n",
      " [[1. ]\n",
      " [0.5]]\n"
     ]
    }
   ],
   "source": [
    "# we build the drift as we did earlier on:\n",
    "L = 2\n",
    "DRIFT = np.array([[1, L], [0, 1]])\n",
    "\n",
    "# and transport the initial particle to the end of the drift:\n",
    "X_1 = DRIFT @ X_0\n",
    "print(f\"Final particle coordinates:\\n {X_1}\")"
   ]
  },
  {
   "cell_type": "markdown",
   "metadata": {
    "editable": true,
    "slideshow": {
     "slide_type": "fragment"
    },
    "tags": []
   },
   "source": [
    "**Anything to observe?**"
   ]
  },
  {
   "cell_type": "markdown",
   "metadata": {
    "editable": true,
    "slideshow": {
     "slide_type": "fragment"
    },
    "tags": []
   },
   "source": [
    "**Note:** Going through a drift of length $L$, the angle of the particle is not affected $x'_1 = x'_0 = 0.5$ mrad, while the final position is increased by $x_1 = x_0 + L * x'_0$ where $L=2$ m, i.e. $x_1 = 0 + 2*0.5 = 1$"
   ]
  },
  {
   "cell_type": "markdown",
   "metadata": {},
   "source": [
    "### Exercise 1.5Py\n",
    "\n",
    "Build the transfer matrix of a beam line made of a quadrupole with focal length $f = 2$ m followed by a drift of length $L = f = 2$ m.\n",
    "\n",
    "Transport one particle that starts with an initial offset (e.g. $x_0$ = 0.4 mm) through such a system: \n",
    "\n",
    "1. What is the final position ($x_1$)? What did you expect?\n",
    "2. Does the order of the matrix multiplication matter?"
   ]
  },
  {
   "cell_type": "markdown",
   "metadata": {},
   "source": [
    "#### SOLUTION 1"
   ]
  },
  {
   "cell_type": "code",
   "execution_count": 9,
   "metadata": {},
   "outputs": [
    {
     "name": "stdout",
     "output_type": "stream",
     "text": [
      "Final particle coordinates:\n",
      " [[ 0. ]\n",
      " [-0.2]]\n",
      "Final particle x:\n",
      " 0.0 mm\n"
     ]
    }
   ],
   "source": [
    "# Let's define a quadrupole with focal length f\n",
    "f = 2\n",
    "QUAD = np.array([[1, 0], [-1 / f, 1]])\n",
    "\n",
    "# Let's define a drift of length L=f\n",
    "L = f\n",
    "DRIFT = np.array([[1, L], [0, 1]])\n",
    "\n",
    "# And our initial vector (parallel ray)\n",
    "x = 0.4  # initial position\n",
    "xp = 0  # initial angle\n",
    "X_0 = np.array([[x], [xp]])\n",
    "\n",
    "# And we propagate\n",
    "X_1 = DRIFT @ QUAD @ X_0\n",
    "print(f\"Final particle coordinates:\\n {X_1}\")\n",
    "print(f\"Final particle x:\\n {X_1[0,0]} mm\")"
   ]
  },
  {
   "cell_type": "markdown",
   "metadata": {},
   "source": [
    "- **NOTE: The particle arrives on the beam axis as expected!**"
   ]
  },
  {
   "cell_type": "markdown",
   "metadata": {},
   "source": [
    "#### SOLUTION 2"
   ]
  },
  {
   "cell_type": "code",
   "execution_count": 10,
   "metadata": {},
   "outputs": [
    {
     "name": "stdout",
     "output_type": "stream",
     "text": [
      "Final particle coordinates:\n",
      " [[ 0.4]\n",
      " [-0.2]]\n",
      "Final particle x:\n",
      " 0.4 mm\n"
     ]
    }
   ],
   "source": [
    "# If we invert the order\n",
    "X_1 = QUAD @ DRIFT @ X_0\n",
    "print(f\"Final particle coordinates:\\n {X_1}\")\n",
    "print(f\"Final particle x:\\n {X_1[0,0]} mm\")"
   ]
  },
  {
   "cell_type": "markdown",
   "metadata": {},
   "source": [
    "- **NOTE: The order matters!** The first element seen by the beam that is expected to be the Quadrupole, hence its matrix has to be placed to the right hand side of the multiplication!"
   ]
  },
  {
   "cell_type": "markdown",
   "metadata": {},
   "source": [
    "## Some more info about our libraries\n",
    "\n",
    "### Modeling of a drift\n",
    "\n",
    "Let's look at the function that generate a convenient representation of a **drift** that you can find in `tracking_library.py`: "
   ]
  },
  {
   "cell_type": "code",
   "execution_count": 11,
   "metadata": {},
   "outputs": [
    {
     "data": {
      "text/plain": [
       "[{'matrix': array([[1, 2],\n",
       "         [0, 1]]),\n",
       "  'length': 2}]"
      ]
     },
     "execution_count": 11,
     "metadata": {},
     "output_type": "execute_result"
    }
   ],
   "source": [
    "def D(L):\n",
    "    \"\"\"Returns a list containing a single \"drift\" of length L\"\"\"\n",
    "    # NB: we return a list with a dict\n",
    "    # the dict contains the matrix (the transformation)\n",
    "    # and the element length\n",
    "    return [{\"matrix\": np.array([[1, L], [0, 1]]), \"length\": L}]\n",
    "\n",
    "\n",
    "# A drift of L=2 m can be generated as:\n",
    "D(2)"
   ]
  },
  {
   "cell_type": "markdown",
   "metadata": {},
   "source": [
    "The main reason for returning such a `list` with inside a `dictionary` are:\n",
    "\n",
    "- it will allow us to keep track of the path travelled by the particle (thanks to the `length` dictionary key)\n",
    "- the element is embedded in a list so to allow for an easy concatenation of elements (e.g. D(1.2) + D(4.3) will produce a list with two elements: one representing a drift of L=1.2 and one of L=4.3 m)."
   ]
  },
  {
   "cell_type": "code",
   "execution_count": 12,
   "metadata": {},
   "outputs": [
    {
     "data": {
      "text/plain": [
       "[{'matrix': array([[1, 1],\n",
       "         [0, 1]]),\n",
       "  'length': 1},\n",
       " {'matrix': array([[1, 2],\n",
       "         [0, 1]]),\n",
       "  'length': 2}]"
      ]
     },
     "execution_count": 12,
     "metadata": {},
     "output_type": "execute_result"
    }
   ],
   "source": [
    "# e.g. representation of a beamline made of two drifts of different length:\n",
    "D(1) + D(2)"
   ]
  },
  {
   "cell_type": "markdown",
   "metadata": {},
   "source": [
    "> **Note:** this is just **one of many possible implementation** choices.\n",
    "> One could think of different structures and ways to model a beamline.\n",
    "> The scope of this course is not to give you a high-efficency and optimised tracking code, \n",
    "> but to **help you to understand** the basics of the underlying **accelerator physics**."
   ]
  },
  {
   "cell_type": "markdown",
   "metadata": {
    "slideshow": {
     "slide_type": "subslide"
    }
   },
   "source": [
    "### Modeling of a quadrupole"
   ]
  },
  {
   "cell_type": "code",
   "execution_count": 13,
   "metadata": {},
   "outputs": [
    {
     "data": {
      "text/plain": [
       "[{'matrix': array([[1, 1],\n",
       "         [0, 1]]),\n",
       "  'length': 1},\n",
       " {'matrix': array([[ 1. ,  0. ],\n",
       "         [-0.5,  1. ]]),\n",
       "  'length': 0}]"
      ]
     },
     "execution_count": 13,
     "metadata": {},
     "output_type": "execute_result"
    }
   ],
   "source": [
    "def Q(f):\n",
    "    \"\"\"Returns a list containing a quadrupole with focal length f\"\"\"\n",
    "    # NB: we return a list with a dict\n",
    "    # the dict contains the matrix (the transformation)\n",
    "    # and the element length\n",
    "    return [{\"matrix\": np.array([[1, 0], [-1 / f, 1]]), \"length\": 0}]\n",
    "\n",
    "\n",
    "# e.g. representation of a beamline made of one drift followed by one quadrupole:\n",
    "D(1) + Q(2)"
   ]
  },
  {
   "cell_type": "markdown",
   "metadata": {
    "editable": true,
    "slideshow": {
     "slide_type": "slide"
    },
    "tags": []
   },
   "source": [
    "### From a list of elements - or beamline - to an equivalent single element\n",
    "\n",
    "A beam line (or a whole ring) is modelled by a series of matrices. Independently of the initial particle coordinates, we can compute a single matrix ($M_{eq.}$) that represents the whole beam line (or ring): \n",
    "\n",
    "\\begin{equation}\n",
    "X_s = M_n \\cdot ... \\cdot M_2 \\cdot M_1 \\cdot X_0 = M_{eq.} \\cdot X_0\n",
    "\\end{equation}\n",
    "\n",
    "Given our choice of beamline strcuture, i.e. a `list` of **elements**, each modeled by a `dictionary` with some properties, we can define a useful function to compute the *equivalent* matrix $M_{eq.}$ (actually an *equivalent* **element** represented by a `dictionary` inside a `list`) of a whole beamline made of several **elements**:"
   ]
  },
  {
   "cell_type": "code",
   "execution_count": 14,
   "metadata": {
    "editable": true,
    "slideshow": {
     "slide_type": "subslide"
    },
    "tags": []
   },
   "outputs": [
    {
     "data": {
      "text/plain": [
       "[{'matrix': array([[1., 3.],\n",
       "         [0., 1.]]),\n",
       "  'length': 3}]"
      ]
     },
     "execution_count": 14,
     "metadata": {},
     "output_type": "execute_result"
    }
   ],
   "source": [
    "def get_equivalent_element(beamline):\n",
    "    \"\"\"Returns the single element which is equivalent of the given beamline\"\"\"\n",
    "    # we start from an identity matrix (np.eye)\n",
    "    # with the same dimension of the matrix of the\n",
    "    # first element of the beamline\n",
    "    equivalentElement = np.eye(beamline[0][\"matrix\"].shape[0])\n",
    "    length = 0\n",
    "    # NB: we reverse the order of the beamline ([-1::-1])\n",
    "    for elements in beamline[-1::-1]:\n",
    "        # we multiply the matrices\n",
    "        equivalentElement = equivalentElement @ elements[\"matrix\"]\n",
    "        # and we add the lengths\n",
    "        length = length + elements[\"length\"]\n",
    "    # we return the dict with the \"usual\" keys (matrix and length) embedded in a\n",
    "    #  list (with a single element), as for the definition of the D and Q functions\n",
    "    return [{\"matrix\": equivalentElement, \"length\": length}]\n",
    "\n",
    "\n",
    "# e.g. equivalent representation of a beamline made of two drifts of different length:\n",
    "get_equivalent_element(D(1) + D(2))"
   ]
  },
  {
   "cell_type": "markdown",
   "metadata": {},
   "source": [
    "- **Note:** the final matrix is build starting from an identity matrix (`np.eye()`) that is multiplied to each beamline element matrix starting from the end: see the for loop: \n",
    "    > `for elements in beamline[-1::-1]`"
   ]
  },
  {
   "cell_type": "markdown",
   "metadata": {
    "editable": true,
    "slideshow": {
     "slide_type": "slide"
    },
    "tags": []
   },
   "source": [
    "### Tracking particles along a beamline\n",
    "\n",
    "We can also write a function that \"tracks\" one, or several particles defined by their initial coordinate, along a beamline. \n",
    "The `transport_particles` function will create a list of particle coordinates for each location along the beam line, as well as a list of s positions."
   ]
  },
  {
   "cell_type": "code",
   "execution_count": 15,
   "metadata": {
    "editable": true,
    "slideshow": {
     "slide_type": "subslide"
    },
    "tags": []
   },
   "outputs": [],
   "source": [
    "def transport_particles(X_0, beamline, s_0=0):\n",
    "    \"\"\"Track the particle(s) `X_0` along the given `beamline`.\n",
    "    If needed, one can specify an initial longitudinal position `s_0`, otherwise set to 0.\n",
    "\n",
    "    It will return a dictionary containing the following key:values\n",
    "       'x': a NxM numpy array with the M-particles x position for all N-elements of the beamline\n",
    "       'xp': a NxM numpy array with the M-particles x' angles for all N-elements of the beamline\n",
    "       's': a N-long numpy array with the longitudinal position of the N-elements of the beamline\n",
    "       'coords': a Nx2xM numpy array with all M-particles coordinates (both x and x') at all N-elements of the beamline\n",
    "\n",
    "    Disclaimer: if beamline is made of 5 elements, the output will have 5+1 \"elements\" as it will also\n",
    "                return include the initial particle coordinates.\n",
    "    \"\"\"\n",
    "    coords = [X_0]\n",
    "    s = [s_0]\n",
    "    for element in beamline:\n",
    "        coords.append(element[\"matrix\"] @ coords[-1])\n",
    "        s.append(s[-1] + element[\"length\"])\n",
    "    coords = np.array(coords)\n",
    "    s = np.array(s)\n",
    "    return {\n",
    "        \"x\": coords[:, 0, :],  # [s_idx, particle_idx]\n",
    "        \"xp\": coords[:, 1, :],  # [s_idx, particle_idx]\n",
    "        \"s\": s,  # [s_idx]\n",
    "        \"coords\": coords,\n",
    "    }  # [s_idx, coord_idx, particle_idx]"
   ]
  },
  {
   "cell_type": "code",
   "execution_count": 16,
   "metadata": {
    "editable": true,
    "slideshow": {
     "slide_type": "subslide"
    },
    "tags": []
   },
   "outputs": [
    {
     "data": {
      "text/plain": [
       "Text(0, 0.5, 'x [mm]')"
      ]
     },
     "execution_count": 16,
     "metadata": {},
     "output_type": "execute_result"
    },
    {
     "data": {
      "image/png": "[encoded data removed]",
      "text/plain": [
       "<Figure size 1500x500 with 1 Axes>"
      ]
     },
     "metadata": {},
     "output_type": "display_data"
    }
   ],
   "source": [
    "# e.g. define the intial coordinates for 3 particles all with\n",
    "#      0 x position, but different angles:\n",
    "X_0 = [[0, 0, 0, 0], [0, 1, 2, 4]]\n",
    "# and let's transport them through a lattice made of 2 equally long drifts\n",
    "tracked_data = transport_particles(X_0, D(1) + D(1))\n",
    "# and plot the trajectories of all particles, i.e. x as a function of s:\n",
    "plt.plot(tracked_data[\"s\"], tracked_data[\"x\"], \".-\")\n",
    "plt.xlabel(\"s [m]\")\n",
    "plt.ylabel(\"x [mm]\")"
   ]
  }
 ],
 "metadata": {
  "celltoolbar": "Slideshow",
  "kernelspec": {
   "display_name": "Python 3 (ipykernel)",
   "language": "python",
   "name": "python3"
  },
  "language_info": {
   "codemirror_mode": {
    "name": "ipython",
    "version": 3
   },
   "file_extension": ".py",
   "mimetype": "text/x-python",
   "name": "python",
   "nbconvert_exporter": "python",
   "pygments_lexer": "ipython3",
   "version": "3.12.5"
  },
  "vscode": {
   "interpreter": {
    "hash": "fbec5cc8bb1f13e0584b60d171916a07df7bc30ce2ee62338372c9d5be648ecd"
   }
  }
 },
 "nbformat": 4,
 "nbformat_minor": 4
}
