{
 "cells": [
  {
   "cell_type": "markdown",
   "metadata": {
    "slideshow": {
     "slide_type": "slide"
    }
   },
   "source": [
    "---\n",
    "\n",
    "# Tracking multiple particles in a beamline.\n",
    "\n",
    "Exercises to track multiple particles in beamlines (exercises 12-TBA).\n",
    "\n",
    "---"
   ]
  },
  {
   "cell_type": "code",
   "execution_count": null,
   "metadata": {},
   "outputs": [],
   "source": [
    "# Import custom tracking functions and useful libraries\n",
    "from tracking_library import *\n",
    "\n",
    "# Set up plotting\n",
    "%matplotlib inline\n",
    "params = {'legend.fontsize': 'x-large',\n",
    "          'figure.figsize': (15, 5),\n",
    "         'axes.labelsize': 'x-large',\n",
    "         'axes.titlesize':'x-large',\n",
    "         'xtick.labelsize':'x-large',\n",
    "         'ytick.labelsize':'x-large'}\n",
    "plt.rcParams.update(params)"
   ]
  },
  {
   "cell_type": "markdown",
   "metadata": {
    "slideshow": {
     "slide_type": "slide"
    }
   },
   "source": [
    "### Exercise 12\n",
    "\n",
    "Define an ensemble of 1000 particles with an arbitrary first order ($x0$, $xpo$) and second order momenta($x_{rms}$ and $x'_{rms}$).\n",
    "Verify the angular divergence of the beam is the one set."
   ]
  },
  {
   "cell_type": "markdown",
   "metadata": {
    "slideshow": {
     "slide_type": "subslide"
    }
   },
   "source": [
    "#### SOLUTION"
   ]
  },
  {
   "cell_type": "code",
   "execution_count": null,
   "metadata": {},
   "outputs": [],
   "source": [
    "# code here your solution...\n",
    "\n",
    "\n",
    "\n",
    "\n",
    "\n",
    "\n"
   ]
  },
  {
   "cell_type": "markdown",
   "metadata": {
    "slideshow": {
     "slide_type": "slide"
    }
   },
   "source": [
    "### Exercise 13\n",
    "\n",
    "1. Transport the beam distribution of Exercise 12 in a drift of length 1 m. Visualise the initial and final distribution.\n",
    "\n",
    "   **Hint:** One can use the `seaborn` package to nicely see a 2D distribution, e.g.: look at the output of:\n",
    "   ```python\n",
    "   import seaborn as sns\n",
    "   sns.jointplot(x=np.random.randn(1000), y=np.random.randn(1000), kind=\"hex\", color=\"b\")\n",
    "   ```\n",
    "\n",
    "2. Test of linearity.  Scale the input vector by 17 times the month of your birthday (e.g. 85 if you are born in May) and verify that the output vector from the matrix multiplication has changed by the same factor.\n",
    "    \n",
    "    **Hint:** Be careful with machine precision\n",
    "\n",
    "3. Now launch 3 particles such that they define a triangle of surface A. Verify that this linear transport preserve the area of the triangle."
   ]
  },
  {
   "cell_type": "code",
   "execution_count": null,
   "metadata": {
    "slideshow": {
     "slide_type": "skip"
    }
   },
   "outputs": [],
   "source": [
    "import seaborn as sns\n",
    "sns.jointplot(x=np.random.randn(1000), y=np.random.randn(1000), kind=\"hex\", color=\"b\")"
   ]
  },
  {
   "cell_type": "markdown",
   "metadata": {
    "slideshow": {
     "slide_type": "subslide"
    }
   },
   "source": [
    "#### SOLUTION - transport"
   ]
  },
  {
   "cell_type": "code",
   "execution_count": null,
   "metadata": {},
   "outputs": [],
   "source": [
    "# code here your solution...\n",
    "\n",
    "\n",
    "\n",
    "\n",
    "\n",
    "\n"
   ]
  },
  {
   "cell_type": "markdown",
   "metadata": {
    "slideshow": {
     "slide_type": "subslide"
    }
   },
   "source": [
    "#### SOLUTION - test of linearity"
   ]
  },
  {
   "cell_type": "code",
   "execution_count": null,
   "metadata": {},
   "outputs": [],
   "source": [
    "# code here your solution...\n",
    "\n",
    "\n",
    "\n",
    "\n",
    "\n",
    "\n"
   ]
  },
  {
   "cell_type": "markdown",
   "metadata": {
    "slideshow": {
     "slide_type": "subslide"
    }
   },
   "source": [
    "#### SOLUTION - area preservation\n",
    "\n",
    "Now let us consider three points of the distributions and let us verify that the area of the triangle before and after the transoformation is preserved.\n",
    "**IMPORTANT**: the area preservation is a condition stronger than the linearity. It is possible only for special matrices, the so-called symplectic matrices.\n",
    "A $2\\times2$ matrix is symplectic if and only if its determinant is one."
   ]
  },
  {
   "cell_type": "code",
   "execution_count": null,
   "metadata": {},
   "outputs": [],
   "source": [
    "# this is the formula of the area of a triangle\n",
    "from numpy.linalg import norm\n",
    "def area(a, b, c) :\n",
    "    '''a,b,c are the phase-space coordinates of three particles'''\n",
    "    return 0.5 * norm( np.cross( b-a, c-a ) )"
   ]
  },
  {
   "cell_type": "code",
   "execution_count": null,
   "metadata": {},
   "outputs": [],
   "source": [
    "# code here your solution...\n",
    "\n",
    "\n",
    "\n",
    "\n",
    "\n",
    "\n"
   ]
  },
  {
   "cell_type": "markdown",
   "metadata": {
    "slideshow": {
     "slide_type": "slide"
    }
   },
   "source": [
    "### Exercise 14\n",
    "Using the 5 FODO cells of Exercise 9, trasport the beam of Exercise 13 and plot its rms size and divergence along the line."
   ]
  },
  {
   "cell_type": "markdown",
   "metadata": {
    "slideshow": {
     "slide_type": "subslide"
    }
   },
   "source": [
    "#### SOLUTION"
   ]
  },
  {
   "cell_type": "code",
   "execution_count": null,
   "metadata": {},
   "outputs": [],
   "source": [
    "# code here your solution...\n",
    "\n",
    "\n",
    "\n",
    "\n",
    "\n",
    "\n"
   ]
  },
  {
   "cell_type": "markdown",
   "metadata": {
    "slideshow": {
     "slide_type": "slide"
    }
   },
   "source": [
    "### Exercise 15\n",
    "\n",
    "Starting from Exercise 14, what happens if you (a) increase or (b) reduce by a factor 2 the initial beam size and divergence (sigxp)?"
   ]
  },
  {
   "cell_type": "markdown",
   "metadata": {
    "slideshow": {
     "slide_type": "subslide"
    }
   },
   "source": [
    "#### SOLUTIONS"
   ]
  },
  {
   "cell_type": "code",
   "execution_count": null,
   "metadata": {},
   "outputs": [],
   "source": [
    "# code here your solution...\n",
    "\n",
    "\n",
    "\n",
    "\n",
    "\n",
    "\n"
   ]
  },
  {
   "cell_type": "markdown",
   "metadata": {},
   "source": [
    "---\n",
    "\n",
    "### Interlude: track of sigma matrices\n",
    "\n",
    "---"
   ]
  },
  {
   "cell_type": "markdown",
   "metadata": {},
   "source": [
    "Recall Equation 7 of our [Primer](./CAS_Optics_Primer.pdf):\n",
    "\n",
    "\\begin{equation}\n",
    "\\vec X(s_2) =  R\\, \\vec X(s_1)\n",
    "\\qquad\\mathrm{and}\\qquad\n",
    "\\sigma(s_2) = R\\, \\sigma(s_1)\\, R^t\\, .\n",
    "\\end{equation}\n",
    "\n",
    "The same matrix used for tracking a single matrix can be used to track the covariance matrix ($\\sigma$) as well as the mean ($\\vec X$) of a given distribution.\n",
    "\n",
    "We can therefore track the **average trajectory** of a beam simply starting from its initial average coordinates in phase space.\n",
    "\n",
    "We can also write a simple function that tracks the sigma matrix along a beamline:"
   ]
  },
  {
   "cell_type": "code",
   "execution_count": 1,
   "metadata": {},
   "outputs": [],
   "source": [
    "def transportSigmas(sigma_0, beamline):\n",
    "    '''Transport the input sigma matrix (sigma_0) along the given beamline\n",
    "    \n",
    "    It will return a dictionary containing the following key:values\n",
    "        'sigma11': a N-long numpy array with the \\sigma_{11} value for all N-elements of the beamline\n",
    "        'sigma12': a N-long numpy array with the \\sigma_{12} value for all N-elements of the beamline\n",
    "        'sigma21': a N-long numpy array with the \\sigma_{21} value for all N-elements of the beamline\n",
    "        'sigma22': a N-long numpy array with the \\sigma_{22} value for all N-elements of the beamline\n",
    "        's': a N-long numpy array with the longitudinal position of the N-elements of the beamline\n",
    "        'sigmas': a Nx2x2 numpy array with all sigma matrices at all N-elements of the beamline\n",
    "    \n",
    "    Disclaimer: if beamline is made of 5 elements, the output will have 5+1 \"elements\" as it will also \n",
    "                return include the initial sigma matrix.\n",
    "    '''\n",
    "\n",
    "    sigmas = [sigma_0]\n",
    "    s = [0]\n",
    "    for element in beamline:\n",
    "        sigmas.append(element['matrix'] @ sigmas[-1] @ element['matrix'].transpose())\n",
    "        s.append(s[-1] + element['length']) \n",
    "    sigmas = np.array(sigmas)\n",
    "    s = np.array(s)\n",
    "    return {'sigma11': sigmas[:, 0, 0],\n",
    "            'sigma12': sigmas[:, 0, 1],\n",
    "            'sigma21': sigmas[:, 1, 0], # equal to sigma12\n",
    "            'sigma22': sigmas[:, 1, 1],\n",
    "            's':  s,\n",
    "            'sigmas': sigmas,}"
   ]
  },
  {
   "cell_type": "markdown",
   "metadata": {
    "slideshow": {
     "slide_type": "slide"
    }
   },
   "source": [
    "### Exercise 16\n",
    "\n",
    "Using Equation 7 of our [Primer](./CAS_Optics_Primer.pdf):\n",
    "\n",
    "\\begin{equation}\n",
    "\\vec X(s_2) =  R\\, \\vec X(s_1)\n",
    "\\qquad\\mathrm{and}\\qquad\n",
    "\\sigma(s_2) = R\\, \\sigma(s_1)\\, R^t\\, ,\n",
    "\\end{equation}\n",
    "\n",
    "display (a) the average position of the particles along the beam line. Likewise, (b) display the angular divergence. Compare with the result you found in Exercise 14."
   ]
  },
  {
   "cell_type": "markdown",
   "metadata": {
    "slideshow": {
     "slide_type": "subslide"
    }
   },
   "source": [
    "#### SOLUTIONS"
   ]
  },
  {
   "cell_type": "code",
   "execution_count": null,
   "metadata": {},
   "outputs": [],
   "source": [
    "# code here your solution...\n",
    "\n",
    "\n",
    "\n",
    "\n",
    "\n",
    "\n"
   ]
  },
  {
   "cell_type": "markdown",
   "metadata": {},
   "source": [
    "It is important to observe that the result of from the particle tracking and the sigma matrix tracking are equivalent. The small deviation is due to the statistical noise of the ensemble (it can be reduced by increasing the numebr of particles).\n",
    "Clearly the sigma matrix tracking is computationally cheaper than the particle tracking (if Npart>>1)."
   ]
  }
 ],
 "metadata": {
  "celltoolbar": "Slideshow",
  "kernelspec": {
   "display_name": "Python 3 (ipykernel)",
   "language": "python",
   "name": "python3"
  },
  "language_info": {
   "codemirror_mode": {
    "name": "ipython",
    "version": 3
   },
   "file_extension": ".py",
   "mimetype": "text/x-python",
   "name": "python",
   "nbconvert_exporter": "python",
   "pygments_lexer": "ipython3",
   "version": "3.7.6"
  },
  "vscode": {
   "interpreter": {
    "hash": "fbec5cc8bb1f13e0584b60d171916a07df7bc30ce2ee62338372c9d5be648ecd"
   }
  }
 },
 "nbformat": 4,
 "nbformat_minor": 4
}
