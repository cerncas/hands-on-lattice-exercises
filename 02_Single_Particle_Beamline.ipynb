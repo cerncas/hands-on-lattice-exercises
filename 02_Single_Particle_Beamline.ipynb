{
 "cells": [
  {
   "cell_type": "markdown",
   "metadata": {
    "slideshow": {
     "slide_type": "slide"
    }
   },
   "source": [
    "---\n",
    "\n",
    "# Tracking a single particle in a beamline.\n",
    "\n",
    "Exercises to get familiar with how to construct simple beamlines and to track single particles (exercises 6-11).\n",
    "\n",
    "---"
   ]
  },
  {
   "cell_type": "code",
   "execution_count": 2,
   "metadata": {},
   "outputs": [],
   "source": [
    "# Import custom tracking functions and useful libraries\n",
    "from tracking_library import *\n",
    "\n",
    "# Set up plotting\n",
    "%matplotlib inline\n",
    "params = {'legend.fontsize': 'x-large',\n",
    "          'figure.figsize': (15, 5),\n",
    "         'axes.labelsize': 'x-large',\n",
    "         'axes.titlesize':'x-large',\n",
    "         'xtick.labelsize':'x-large',\n",
    "         'ytick.labelsize':'x-large'}\n",
    "plt.rcParams.update(params)"
   ]
  },
  {
   "cell_type": "markdown",
   "metadata": {
    "slideshow": {
     "slide_type": "slide"
    }
   },
   "source": [
    "### Exercise 6\n",
    "Recall that the **imaging equation** for a lens is $1/b+1/g=1/f,$ which corresponds to a system of one focusing lens with focal length $f,$ sandwiched between drift spaces with lengths $b$ and $g$. Write a beamline description that corresponds to this system, with $b=3$ m and $g=2$ m. We will later return to it and analyze it."
   ]
  },
  {
   "cell_type": "markdown",
   "metadata": {
    "slideshow": {
     "slide_type": "fragment"
    }
   },
   "source": [
    "#### SOLUTION"
   ]
  },
  {
   "cell_type": "code",
   "execution_count": null,
   "metadata": {},
   "outputs": [],
   "source": [
    "# code here your solution...\n",
    "\n",
    "\n"
   ]
  },
  {
   "cell_type": "markdown",
   "metadata": {
    "slideshow": {
     "slide_type": "slide"
    }
   },
   "source": [
    "### Exercise 7\n",
    "\n",
    "Define a **FODO beamline** and prepare initial coordinates that describe a particle that is on the optical axis, but has an initial angle $x'$ and plot the position $x$ along the beam line.\n",
    "\n",
    "**Hint:** A FODO cell is one of the most fundamental lattice topologies. Look back at [Wolfgan's lecture](https://indico.cern.ch/event/1117526/contributions/4978192/):\n",
    "\n",
    "<p align=\"center\">\n",
    "<img src=./_img_exercises/slide_fodo.png width=\"60%\">\n",
    "</p>"
   ]
  },
  {
   "cell_type": "markdown",
   "metadata": {
    "slideshow": {
     "slide_type": "subslide"
    }
   },
   "source": [
    "#### SOLUTION \n",
    "The first part of the exercise is to define a FODO cell structure.  In its simpler version, it consists on two thin quadrupoles of opposite focal length, f, interspaced by two drifts of length L/2 (L is the total length of the cell). We can start the FODO from an arbitrary point inside it. We decided to start describing it from the center of drift.\n",
    "For the moment we can define arbitrarly the f and L_2 paramenters: we chose 2.5 m and 1 m, respectively."
   ]
  },
  {
   "cell_type": "code",
   "execution_count": null,
   "metadata": {},
   "outputs": [],
   "source": [
    "# build your beamline here...\n",
    "\n",
    "\n",
    "\n"
   ]
  },
  {
   "cell_type": "code",
   "execution_count": null,
   "metadata": {},
   "outputs": [],
   "source": [
    "# plot the particle trajectory here...\n",
    "\n",
    "\n"
   ]
  },
  {
   "cell_type": "markdown",
   "metadata": {
    "slideshow": {
     "slide_type": "slide"
    }
   },
   "source": [
    "### Exercise 8\n",
    "Plot the angle $x'$ along the beam line."
   ]
  },
  {
   "cell_type": "markdown",
   "metadata": {
    "slideshow": {
     "slide_type": "fragment"
    }
   },
   "source": [
    "#### SOLUTION"
   ]
  },
  {
   "cell_type": "code",
   "execution_count": null,
   "metadata": {},
   "outputs": [],
   "source": [
    "# code here your solution...\n",
    "\n",
    "\n",
    "\n",
    "\n",
    "\n"
   ]
  },
  {
   "cell_type": "markdown",
   "metadata": {
    "slideshow": {
     "slide_type": "slide"
    }
   },
   "source": [
    "### Exercise 9\n",
    "\n",
    "Plot both the position $x$ and the angle $x'$ through five cells."
   ]
  },
  {
   "cell_type": "markdown",
   "metadata": {
    "slideshow": {
     "slide_type": "fragment"
    }
   },
   "source": [
    "#### SOLUTION"
   ]
  },
  {
   "cell_type": "code",
   "execution_count": null,
   "metadata": {},
   "outputs": [],
   "source": [
    "# code here your solution...\n",
    "\n",
    "\n",
    "\n",
    "\n"
   ]
  },
  {
   "cell_type": "markdown",
   "metadata": {
    "slideshow": {
     "slide_type": "slide"
    }
   },
   "source": [
    "### Exercise 10\n",
    "\n",
    "Plot the position $x$ through 100 cells, play with different values of the focal length $F$ and explore whether you can make the oscillations grow."
   ]
  },
  {
   "cell_type": "markdown",
   "metadata": {
    "slideshow": {
     "slide_type": "subslide"
    }
   },
   "source": [
    "#### SOLUTION"
   ]
  },
  {
   "cell_type": "code",
   "execution_count": null,
   "metadata": {},
   "outputs": [],
   "source": [
    "# code here your solution...\n",
    "\n",
    "\n",
    "\n",
    "\n",
    "\n",
    "\n"
   ]
  },
  {
   "cell_type": "markdown",
   "metadata": {
    "slideshow": {
     "slide_type": "subslide"
    }
   },
   "source": [
    "It it important to observe that when the focal length approaches the stability limit (only for $f>L/4$ the machine is stable), then the oscillation start to grow during the transport in the lattice.\n",
    "\n",
    "Look back at [Wolfgan's lecture](https://indico.cern.ch/event/1117526/contributions/4978192/):\n",
    "\n",
    "<p align=\"center\">\n",
    "<img src=./_img_exercises/slide_stability.png width=\"60%\">\n",
    "</p>"
   ]
  },
  {
   "cell_type": "markdown",
   "metadata": {
    "slideshow": {
     "slide_type": "slide"
    }
   },
   "source": [
    "### Exercise 11\n",
    "\n",
    "Use the beam line for the imaging system you prepared in Exercise 6 and launch a particle with $x_0=0$ and an angle of $x'_0=1\\,$mrad at one end. Verify that this particle crosses the center of the beam pipe at the exit of the beam line, provided that $b,g,$ and $f$ satisfy the imaging equation that is shown in Exercise 6."
   ]
  },
  {
   "cell_type": "markdown",
   "metadata": {
    "slideshow": {
     "slide_type": "subslide"
    }
   },
   "source": [
    "#### SOLUTION"
   ]
  },
  {
   "cell_type": "code",
   "execution_count": null,
   "metadata": {},
   "outputs": [],
   "source": [
    "# code here your solution...\n",
    "\n",
    "\n",
    "\n",
    "\n",
    "\n",
    "\n"
   ]
  },
  {
   "cell_type": "markdown",
   "metadata": {
    "slideshow": {
     "slide_type": "skip"
    }
   },
   "source": [
    "#### GUIDED SOLUTION\n",
    "\n",
    "We can do a small animation showing that, moving the position of the quadruple and keeping fulfilled the imaging equation the particle entering with x=0 will exit with x=0.\n",
    "The animation output is omittend in the pdf version of this document."
   ]
  },
  {
   "cell_type": "code",
   "execution_count": null,
   "metadata": {
    "slideshow": {
     "slide_type": "skip"
    }
   },
   "outputs": [],
   "source": [
    "from ipywidgets import interactive\n",
    "\n",
    "def plotIt(b):\n",
    "    L = 5\n",
    "    g = L-b\n",
    "    f = 1/(1/b+1/g)\n",
    "    beamline = D(b) + Q(f) + D(g)\n",
    "\n",
    "    X = np.array([[0],[0.001]])\n",
    "    output = transportParticles(X, beamline)\n",
    "\n",
    "\n",
    "    for my_particle in output['x']:\n",
    "        plt.plot(output['s'], my_particle*1e3, 'o-b', lw=3)\n",
    "    plt.grid(True)\n",
    "    plt.xlabel('s [m]')\n",
    "    plt.gca().set_ylabel('x [mm]', color='b')\n",
    "    plt.gca().tick_params(axis='y', labelcolor='b')\n",
    "    plt.ylim([-1,4.5])\n",
    "\n",
    "    # instantiate a second axes that shares the same x-axis\n",
    "    ax2 = plt.gca().twinx()  \n",
    "    ax2.set_ylabel(\"x' [mrad]\", color='r')\n",
    "    ax2.tick_params(axis='y', labelcolor='r')\n",
    "    for my_particle in output['px']:\n",
    "        plt.plot(output['s'], my_particle*1e3, 's-r', lw=3)\n",
    "\n",
    "    plt.title('Exercise 11, animated')\n",
    "    plt.ylim([-5,5])\n",
    "    \n",
    "interactive_plot = interactive(plotIt,b=(2,4,.1),continuous_update=True)\n",
    "output = interactive_plot.children[-1]\n",
    "output.layout.height = '350px'\n",
    "display(interactive_plot)"
   ]
  }
 ],
 "metadata": {
  "celltoolbar": "Slideshow",
  "kernelspec": {
   "display_name": "Python 3 (ipykernel)",
   "language": "python",
   "name": "python3"
  },
  "language_info": {
   "codemirror_mode": {
    "name": "ipython",
    "version": 3
   },
   "file_extension": ".py",
   "mimetype": "text/x-python",
   "name": "python",
   "nbconvert_exporter": "python",
   "pygments_lexer": "ipython3",
   "version": "3.7.6"
  },
  "vscode": {
   "interpreter": {
    "hash": "fbec5cc8bb1f13e0584b60d171916a07df7bc30ce2ee62338372c9d5be648ecd"
   }
  }
 },
 "nbformat": 4,
 "nbformat_minor": 4
}
