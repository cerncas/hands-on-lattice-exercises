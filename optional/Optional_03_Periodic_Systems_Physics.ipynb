{
 "cells": [
  {
   "cell_type": "markdown",
   "metadata": {
    "editable": true,
    "slideshow": {
     "slide_type": "slide"
    },
    "tags": []
   },
   "source": [
    "# Optional 3: Physics\n",
    "--- \n",
    "- Some more thoughts about stability condition of a FODO cell\n",
    "- Ellipses and phase space distribution\n",
    "- Optics matching\n",
    "---"
   ]
  },
  {
   "cell_type": "markdown",
   "metadata": {},
   "source": [
    "#### Setup of your Python kernel\n",
    "Let's load our standard library functions, and setup matplotlib for nice inline plots"
   ]
  },
  {
   "cell_type": "code",
   "execution_count": null,
   "metadata": {},
   "outputs": [],
   "source": [
    "# Import custom tracking functions and useful libraries\n",
    "from tracking_library import *\n",
    "\n",
    "# Set up plotting\n",
    "params = {\n",
    "    \"legend.fontsize\": \"x-large\",\n",
    "    \"figure.figsize\": (15, 5),\n",
    "    \"axes.labelsize\": \"x-large\",\n",
    "    \"axes.titlesize\": \"x-large\",\n",
    "    \"xtick.labelsize\": \"x-large\",\n",
    "    \"ytick.labelsize\": \"x-large\",\n",
    "}\n",
    "plt.rcParams.update(params)"
   ]
  },
  {
   "cell_type": "markdown",
   "metadata": {},
   "source": [
    "### Exercise 3.1Ph\n",
    "\n",
    "Let's go back to our FODO cell (or series of equal FODO cells).\n",
    "Find the range of focal lengths $f$ for which the FODO cells permit stable oscillations based on the newly introduced condition (i.e. $|Tr(R)| \\le 2$)"
   ]
  },
  {
   "cell_type": "markdown",
   "metadata": {},
   "source": [
    "#### SOLUTION\n"
   ]
  },
  {
   "cell_type": "code",
   "execution_count": null,
   "metadata": {},
   "outputs": [],
   "source": [
    "# your code here"
   ]
  },
  {
   "cell_type": "markdown",
   "metadata": {},
   "source": [
    "### Exercise 3.2Ph\n",
    "\n",
    "Consider the usual FODO cell ($f=2.5$, $L=2$), and again a single particle with non-zero initial coordinates (e.g. $x_0 =2.1$; $x' = 2.3$).\n",
    "\n",
    "Plot again the particle coordinates in phase space for 100 passages along this FODO cell. Then, reverse the polarity of both quadrupoles and repeat. How does the result differ? Why?"
   ]
  },
  {
   "cell_type": "markdown",
   "metadata": {},
   "source": [
    "#### SOLUTION"
   ]
  },
  {
   "cell_type": "code",
   "execution_count": null,
   "metadata": {},
   "outputs": [],
   "source": [
    "# your code here"
   ]
  },
  {
   "cell_type": "markdown",
   "metadata": {},
   "source": [
    "---\n",
    "\n",
    "## Ellipses ans Single Particle Emittance\n",
    "\n",
    "---\n",
    "\n",
    "It turns out that our particle turn-after-turn stays on an ellipses: \n",
    "\n",
    "\\begin{equation}\n",
    "\\epsilon = \\gamma x^2 + 2 \\alpha x x' + \\beta x{'\\,}^2\n",
    "\\end{equation}\n",
    "\n",
    "where $(\\alpha, \\beta, \\gamma)$ are the periodic Twiss parameter! and $\\epsilon$, in this case, is the **single particle emittance**.\n",
    "\n",
    "Without entering in the implementation details, two useful functions are defined in our library toolbox: \n",
    "- one that can give us the single particle emittance: `particle_emittance(x, xp, beta, alpha)`\n",
    "- one to give us the coordinate in phase space for an ellipse with the given Twiss and emittance: `ellipse_points(emittance, beta, alpha, n_points = 100)`"
   ]
  },
  {
   "cell_type": "code",
   "execution_count": null,
   "metadata": {},
   "outputs": [],
   "source": [
    "from tracking_library_advanced import ellipse_points, particle_emittance\n",
    "\n",
    "help(particle_emittance)\n",
    "help(ellipse_points)"
   ]
  },
  {
   "cell_type": "markdown",
   "metadata": {},
   "source": [
    "### Exercise 3.3Ph\n",
    "\n",
    "Consider the usual FODO cell, repeated 100 times.\n",
    "Plot the trajectory, in phase space, of a particle with $x=2$ mm and $x'=1.5$ cell after cell.\n",
    "\n",
    "Using the functions you have now available, compute the expected periodic solution of our cell, and use this information to:\n",
    "\n",
    "- compute the single particle emittance\n",
    "- produce the coordinates in phase space of an ellipse with such an emittance\n",
    "\n",
    "1. Plot both the tracked particle coordinates and the ellipse in phase space: what do you observe?\n",
    "2. What happens if you change the sign of the quadrupoles, but don't change the initial particle coordinates? Is there a difference in single particle emittance? Why?\n",
    "\n",
    "**Optional:** would you be able to predict the exact tracked particle coordinates only from the single cell?\n",
    "\n",
    "**Hint:** for this last question, one needs to look carefully at the functions implementation details...\n"
   ]
  },
  {
   "cell_type": "code",
   "execution_count": null,
   "metadata": {},
   "outputs": [],
   "source": [
    "# your code here"
   ]
  },
  {
   "cell_type": "markdown",
   "metadata": {},
   "source": [
    "---\n",
    "\n",
    "## More about effects of thick elements\n",
    "\n",
    "- Thick quadrupoles\n",
    "- Bends (2x2 case)\n",
    "\n",
    "---"
   ]
  },
  {
   "cell_type": "markdown",
   "metadata": {},
   "source": [
    "### Exercise 3.4Ph\n",
    "\n",
    "Consider a FODO cell with 60 degrees/cell phase advance (e.g. $L=f=2$ m) and replace the thin quadrupoles by **thick quadrupoles** with a length of 0.2, 0.4, 1.0 m, while keeping the length of the cell constant.  \n",
    "\n",
    "- By how much does the periodic beta function at the start of the cell change with a thick lattice with repset to a thin lattice?\n",
    "- What about the phase advance per cell?\n",
    "\n",
    "Express the differences in percent. \n",
    "\n",
    "- **REQUIREMENT**: You must first implement the element `Qthick` in `tracking_library_advanced.py`, which you might have done already **previous optional exercises**... If not, now is a good time!"
   ]
  },
  {
   "cell_type": "markdown",
   "metadata": {},
   "source": [
    "#### SOLUTION"
   ]
  },
  {
   "cell_type": "code",
   "execution_count": null,
   "metadata": {},
   "outputs": [],
   "source": [
    "from tracking_library_advanced import Qthick\n",
    "\n",
    "# your code here"
   ]
  },
  {
   "cell_type": "markdown",
   "metadata": {},
   "source": [
    "### Exercise 3.5Ph\n",
    "\n",
    "Consider our usual thin FODO cell with 60 degrees/cell phase advance (e.g. $L=f=2$ m). \n",
    "Insert now 1 m long dipoles in the center of the drift spaces, while keeping the length of the cell constant.\n",
    "Investigate deflection angles of $\\phi$ = 5, 10 and 20 degrees. \n",
    "\n",
    "- By how much the periodic beta function and phase advance of the cell change?"
   ]
  },
  {
   "cell_type": "markdown",
   "metadata": {},
   "source": [
    "#### SOLUTION "
   ]
  },
  {
   "cell_type": "code",
   "execution_count": null,
   "metadata": {},
   "outputs": [],
   "source": [
    "# your code here"
   ]
  },
  {
   "cell_type": "markdown",
   "metadata": {},
   "source": [
    "---\n",
    "\n",
    "## Optics matching\n",
    "\n",
    "A common task when designing accelerators is matching one section of a beam line to another one...\n",
    "\n",
    "---"
   ]
  },
  {
   "cell_type": "markdown",
   "metadata": {},
   "source": [
    "### Exercise 3.6Ph\n",
    "\n",
    "\n",
    "Assume to have an upstream beam line that consists of **5 FODO cells with a $60^o$ phase advance** and the downstream beam line of **5 FODO cells with a $90^o$ phase advance.** Assume each cell has $L_{FODO}=2$ m.  \n",
    "\n",
    "In between the $60^o$ and $90^o,$ place a third cell (total $L=4$ m, for example) with two independent quadrupoles (they might be both focusing or defocusing) that will be used to match the upstream to the downstream beam line.\n",
    "To do so, we need to prepare periodic beam matrices sigma60 and sigma90 for the respective sections. Note that sigma90 only depends on two parameters: the Twiss parameters $\\alpha$ and $\\beta,$ and therefore we \n",
    "also need two quadrupoles with independently variable focal length to adjust until the final beam matrix equals sigma90.\n",
    "\n",
    "1. Implement the procedure described in the previous paragraph and match of the FODO lattice with $\\mu$=60 deg and the following one with $\\mu$=90 deg.\n",
    "2. Plot the evolution of the sigma matrix elements along the whole beam line (5 FODO cells with $60^o$ phase advance, matching section, 5 FODO cells with $90^o$ phase advance)\n",
    "\n",
    "**Hint:** This is a tricky exercise. Start with some matching by hand (eventually using interactive plots), then you can try to use some numerical optimiser, e.g. `from scipy.optimize import minimize`\n"
   ]
  },
  {
   "cell_type": "markdown",
   "metadata": {},
   "source": [
    "#### SOLUTION"
   ]
  },
  {
   "cell_type": "code",
   "execution_count": null,
   "metadata": {},
   "outputs": [],
   "source": [
    "# your code here\n"
   ]
  }
 ],
 "metadata": {
  "celltoolbar": "Slideshow",
  "kernelspec": {
   "display_name": "Python 3 (ipykernel)",
   "language": "python",
   "name": "python3"
  },
  "language_info": {
   "codemirror_mode": {
    "name": "ipython",
    "version": 3
   },
   "file_extension": ".py",
   "mimetype": "text/x-python",
   "name": "python",
   "nbconvert_exporter": "python",
   "pygments_lexer": "ipython3",
   "version": "3.12.5"
  },
  "vscode": {
   "interpreter": {
    "hash": "fbec5cc8bb1f13e0584b60d171916a07df7bc30ce2ee62338372c9d5be648ecd"
   }
  }
 },
 "nbformat": 4,
 "nbformat_minor": 4
}
