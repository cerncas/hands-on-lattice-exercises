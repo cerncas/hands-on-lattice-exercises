{
 "cells": [
  {
   "cell_type": "markdown",
   "metadata": {
    "editable": true,
    "slideshow": {
     "slide_type": "slide"
    },
    "tags": []
   },
   "source": [
    "\n",
    "# Optional 1: Physics\n",
    "---\n",
    "- If you want to (and have time for) a more complete modelling of a beamline, explore the following exercises to extend the capabilities of our simple toolbox. \n",
    "- **Note 1:** A basic knowledge of Python and some programming experience is required!\n",
    "- **Note 2:** We suggest to extend your library by filling the gaps of [tracking_library_advanced.py](./tracking_library_advanced.py) after having tested your functions inside the notebook...\n",
    "---"
   ]
  },
  {
   "cell_type": "markdown",
   "metadata": {},
   "source": [
    "#### Setup of your Python kernel\n",
    "Let's load the basic library functions, and setup matplotlib for nice inline plots"
   ]
  },
  {
   "cell_type": "code",
   "execution_count": null,
   "metadata": {},
   "outputs": [],
   "source": [
    "# Import custom tracking functions and useful libraries\n",
    "from tracking_library import *\n",
    "\n",
    "# Set up plotting\n",
    "params = {\n",
    "    \"legend.fontsize\": \"x-large\",\n",
    "    \"figure.figsize\": (15, 5),\n",
    "    \"axes.labelsize\": \"x-large\",\n",
    "    \"axes.titlesize\": \"x-large\",\n",
    "    \"xtick.labelsize\": \"x-large\",\n",
    "    \"ytick.labelsize\": \"x-large\",\n",
    "}\n",
    "plt.rcParams.update(params)"
   ]
  },
  {
   "cell_type": "markdown",
   "metadata": {},
   "source": [
    "### Exercise 1.1Ph\n",
    "\n",
    "1. Extend the library toolbox by implementing a **thick quadrupole** element (call it `Qthick`), to be build as a function of its normalised strength $K1$ and length $L$.\n",
    "2. Build again a simple beamline made by a **thick** quadrupole of **20 cm length** of focal length $f = 2$ m followed by a drift of length $L=f=2$ m. Track again a few particles with zero angles and different offsets. Do all particles still end with $x=0$?\n",
    "\n",
    "- **Hint:** Remember that the relationship between focal length $f$ and integrated quadrupoles strenght $K1 L$ is:\n",
    "\n",
    "\\begin{equation}\n",
    "f = \\frac{1}{K1 \\times L}\n",
    "\\end{equation}\n",
    "\n",
    "- **Python Hint:**: develop/copy your `Qthick` element into `tracking_library_advanced.py` so to have it available for later\n"
   ]
  },
  {
   "cell_type": "markdown",
   "metadata": {},
   "source": [
    "#### SOLUTION"
   ]
  },
  {
   "cell_type": "code",
   "execution_count": null,
   "metadata": {},
   "outputs": [],
   "source": [
    "from tracking_library_advanced import Qthick\n",
    "\n",
    "# Your code here, after having developed the necessary function..."
   ]
  },
  {
   "cell_type": "markdown",
   "metadata": {},
   "source": [
    "### Exercise 1.2Ph: Imaging equation\n",
    "Recall that the **imaging equation** for a lens is $1/b+1/g=1/f,$ which corresponds to a system of one focusing lens with focal length $f,$ sandwiched between drift spaces with lengths $b$ and $g$.\n",
    "\n",
    "1. Write a beamline description that corresponds to this system, with, for example, $b=3$ m and $g=2$ m.\n",
    "2. Prove that the particles starting with a random angle $x'_0$ and zero position $x$ are focused back to the end of such a system.\n",
    "   \n",
    "   > 👀 **HINT**: you can create a random ensample of particles with such properties as\n",
    "   >\n",
    "   > `X = np.array([np.zeros(n_particles),np.random.randn(n_particles)])`\n",
    "   >\n",
    "   > where `n_particles` is the numbers of particles you want to generate.\n",
    "\n",
    "4. (Optional) Try to change the position of the quadrupole, i.e. $b$, while keeping fixed the total length of the imaging system (i.e. $b+g=5$ m). Plot both position and angle trajectory for one particle with $x=0$ and $x'_0=1$ mrad for different values of $b$, and show that, with an approriate change of $f$, this particle is always focused back to $x=0$ at the end of system, but what happens to the angle?\n",
    "\n",
    "    > 👀 **HINT**: for this exercise it is useful to make a small animation with the `interactive` package. "
   ]
  },
  {
   "cell_type": "code",
   "execution_count": 1,
   "metadata": {},
   "outputs": [],
   "source": [
    "# your code here"
   ]
  }
 ],
 "metadata": {
  "celltoolbar": "Slideshow",
  "kernelspec": {
   "display_name": "Python 3 (ipykernel)",
   "language": "python",
   "name": "python3"
  },
  "language_info": {
   "codemirror_mode": {
    "name": "ipython",
    "version": 3
   },
   "file_extension": ".py",
   "mimetype": "text/x-python",
   "name": "python",
   "nbconvert_exporter": "python",
   "pygments_lexer": "ipython3",
   "version": "3.13.5"
  },
  "vscode": {
   "interpreter": {
    "hash": "fbec5cc8bb1f13e0584b60d171916a07df7bc30ce2ee62338372c9d5be648ecd"
   }
  }
 },
 "nbformat": 4,
 "nbformat_minor": 4
}
