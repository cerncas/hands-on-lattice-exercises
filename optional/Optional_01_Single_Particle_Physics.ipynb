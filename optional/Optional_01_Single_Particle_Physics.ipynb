{
 "cells": [
  {
   "cell_type": "markdown",
   "metadata": {
    "editable": true,
    "slideshow": {
     "slide_type": "slide"
    },
    "tags": []
   },
   "source": [
    "\n",
    "# Optional 1: Physics\n",
    "---\n",
    "- If you want to (and have time for) a more complete modelling of a beamline, explore the following exercises to extend the capabilities of our simple toolbox. \n",
    "- **Note 1:** A basic knowledge of Python and some programming experience is required!\n",
    "- **Note 2:** We suggest to extend your library by filling the gaps of [tracking_library_advanced.py](./tracking_library_advanced.py) after having tested your functions inside the notebook...\n",
    "---"
   ]
  },
  {
   "cell_type": "markdown",
   "metadata": {},
   "source": [
    "#### Setup of your Python kernel\n",
    "Let's load the basic library functions, and setup matplotlib for nice inline plots"
   ]
  },
  {
   "cell_type": "code",
   "execution_count": null,
   "metadata": {},
   "outputs": [],
   "source": [
    "# Import custom tracking functions and useful libraries\n",
    "from tracking_library import *\n",
    "\n",
    "# Set up plotting\n",
    "params = {\n",
    "    \"legend.fontsize\": \"x-large\",\n",
    "    \"figure.figsize\": (15, 5),\n",
    "    \"axes.labelsize\": \"x-large\",\n",
    "    \"axes.titlesize\": \"x-large\",\n",
    "    \"xtick.labelsize\": \"x-large\",\n",
    "    \"ytick.labelsize\": \"x-large\",\n",
    "}\n",
    "plt.rcParams.update(params)"
   ]
  },
  {
   "cell_type": "markdown",
   "metadata": {},
   "source": [
    "### Exercise 1.1Ph\n",
    "\n",
    "1. Extend the library toolbox by implementing a **thick quadrupole** element (call it `Qthick`), to be build as a function of its normalised strength $K1$ and length $L$.\n",
    "2. Build again a simple beamline made by a **thick** quadrupole of **20 cm length** of focal length $f = 2$ m followed by a drift of length $L=f=2$ m. Track again a few particles with zero angles and different offsets. Do all particles still end with $x=0$?\n",
    "\n",
    "- **Hint:** Remember that the relationship between focal length $f$ and integrated quadrupoles strenght $K1 L$ is:\n",
    "\n",
    "\\begin{equation}\n",
    "f = \\frac{1}{K1 \\times L}\n",
    "\\end{equation}\n",
    "\n",
    "- **Python Hint:**: develop/copy your `Qthick` element into `tracking_library_advanced.py` so to have it available for later\n"
   ]
  },
  {
   "cell_type": "markdown",
   "metadata": {},
   "source": [
    "#### SOLUTION"
   ]
  },
  {
   "cell_type": "code",
   "execution_count": null,
   "metadata": {},
   "outputs": [],
   "source": [
    "from tracking_library_advanced import Qthick\n",
    "\n",
    "# Your code here, after having developed the necessary function..."
   ]
  }
 ],
 "metadata": {
  "celltoolbar": "Slideshow",
  "kernelspec": {
   "display_name": "Python 3 (ipykernel)",
   "language": "python",
   "name": "python3"
  },
  "language_info": {
   "codemirror_mode": {
    "name": "ipython",
    "version": 3
   },
   "file_extension": ".py",
   "mimetype": "text/x-python",
   "name": "python",
   "nbconvert_exporter": "python",
   "pygments_lexer": "ipython3",
   "version": "3.12.5"
  },
  "vscode": {
   "interpreter": {
    "hash": "fbec5cc8bb1f13e0584b60d171916a07df7bc30ce2ee62338372c9d5be648ecd"
   }
  }
 },
 "nbformat": 4,
 "nbformat_minor": 4
}
