{
 "cells": [
  {
   "cell_type": "markdown",
   "metadata": {
    "editable": true,
    "slideshow": {
     "slide_type": "slide"
    },
    "tags": []
   },
   "source": [
    "# Optional 2 - Physics: \n",
    "---\n",
    "- How many particles to obtain stable results?\n",
    "- Testing area preservation of the transport matrices\n",
    "- Converging beam through a drift\n",
    "---"
   ]
  },
  {
   "cell_type": "markdown",
   "metadata": {},
   "source": [
    "##### First, Let's import standard packages and settings..."
   ]
  },
  {
   "cell_type": "code",
   "execution_count": null,
   "metadata": {
    "editable": true,
    "slideshow": {
     "slide_type": "slide"
    },
    "tags": []
   },
   "outputs": [],
   "source": [
    "# Import custom tracking functions and useful libraries\n",
    "from tracking_library import *\n",
    "\n",
    "# Set up plotting\n",
    "params = {\n",
    "    \"legend.fontsize\": \"x-large\",\n",
    "    \"figure.figsize\": (15, 5),\n",
    "    \"axes.labelsize\": \"x-large\",\n",
    "    \"axes.titlesize\": \"x-large\",\n",
    "    \"xtick.labelsize\": \"x-large\",\n",
    "    \"ytick.labelsize\": \"x-large\",\n",
    "}\n",
    "plt.rcParams.update(params)"
   ]
  },
  {
   "cell_type": "markdown",
   "metadata": {
    "slideshow": {
     "slide_type": "slide"
    }
   },
   "source": [
    "### Exercise 2.1Ph\n",
    "\n",
    "Explore the dependence of the statistical error with on the beam divergence by a numerical simulation:\n",
    "- Generate $N$ particle coordinates, for varying $N$ (e.g. [10, 100, 1000, 10000, ...]), with some offset/divergence spread \n",
    "   (e.g.  $<x> = 0.2$, $<x'> = 1$, $\\sigma_{x} = 1.5$, $\\sigma_{x'} = 0.5$)\n",
    "- Compute the particle distribution angular divergence for each $N$\n",
    "- Show, e.g. visually with a plot, that only for high $N$ one obtains a divergence which is \"close\" to the input \n",
    "\n",
    "**Hint:** Remember that you can create a Normal distributed 2xN 2D array of numbers as `np.random.randn(2, N)`. One can then \"stretch\" and \"offset\" (and eventually \"rotate\", but this is not requested here) this distribution to obtain any desired 2D normal distribution in phase space."
   ]
  },
  {
   "cell_type": "code",
   "execution_count": null,
   "metadata": {},
   "outputs": [],
   "source": [
    "# your code here"
   ]
  },
  {
   "cell_type": "markdown",
   "metadata": {},
   "source": [
    "> **Depending on the required precision we need to select a convenient number of particles to model our beams!**"
   ]
  },
  {
   "cell_type": "markdown",
   "metadata": {
    "slideshow": {
     "slide_type": "slide"
    }
   },
   "source": [
    "### Exercise 2.2Ph\n",
    "\n",
    "Consider any simple beamline (e.g. a drift + quadrupole + drift).\n",
    "\n",
    "- Consider 3 random particles in phase space such that they define a triangle of surface A. Verify that this linear transport preserve the area of the triangle.\n",
    "\n",
    "    **IMPORTANT**: the area preservation is a condition stronger than the linearity. It is possible only for special matrices, the so-called symplectic matrices.\n",
    "    A $2\\times2$ matrix is symplectic if and only if its determinant is one.\n",
    "\n",
    "    **Hint 1:** the area of a triangle in phase space can be computed using linear algebra:\n",
    "    ```\n",
    "    from numpy.linalg import norm\n",
    "    def area(a, b, c) :\n",
    "        '''a,b,c are the phase-space coordinates of three particles'''\n",
    "        return 0.5 * norm( np.cross( b-a, c-a ) )\n",
    "    ```"
   ]
  },
  {
   "cell_type": "markdown",
   "metadata": {
    "slideshow": {
     "slide_type": "subslide"
    }
   },
   "source": [
    "#### SOLUTION"
   ]
  },
  {
   "cell_type": "code",
   "execution_count": null,
   "metadata": {},
   "outputs": [],
   "source": [
    "# this is the formula of the area of a triangle\n",
    "from numpy.linalg import norm\n",
    "\n",
    "\n",
    "def area(a, b, c):\n",
    "    \"\"\"a,b,c are the phase-space coordinates of three particles\"\"\"\n",
    "    return 0.5 * norm(np.cross(b - a, c - a))"
   ]
  },
  {
   "cell_type": "code",
   "execution_count": null,
   "metadata": {},
   "outputs": [],
   "source": [
    "# your code here"
   ]
  },
  {
   "cell_type": "markdown",
   "metadata": {},
   "source": [
    "### Exercise 2.3Ph\n",
    "\n",
    "Consider a simple 10 m long drift, split in many short drifts (say 0.1 m-long each). Create an ensamble of 10000 particles matched to the following Twiss parameters: $(\\beta = 10; \\alpha=-0.1; \\epsilon=1)$ using the function `beam` element from `tracking_library_advanced.py`.\n",
    "\n",
    "1. Track the particles along the beamline using `transportParticles()` function\n",
    "2. Track the Sigma matrix build from the input parameter using `transportSigmas()` function\n",
    "3. Plot the sigma along s, and verify that \n",
    "\n",
    "**Note:** Can you explain why one obtains a non-linear behavior of the beam size?\n"
   ]
  },
  {
   "cell_type": "markdown",
   "metadata": {},
   "source": [
    "#### SOLUTION"
   ]
  },
  {
   "cell_type": "code",
   "execution_count": null,
   "metadata": {},
   "outputs": [],
   "source": [
    "# Let's look at at the `beam()` function from `tracking_library_advanced`\n",
    "from tracking_library_advanced import beam\n",
    "\n",
    "help(beam)"
   ]
  },
  {
   "cell_type": "code",
   "execution_count": null,
   "metadata": {},
   "outputs": [],
   "source": [
    "# your code here"
   ]
  }
 ],
 "metadata": {
  "celltoolbar": "Slideshow",
  "kernelspec": {
   "display_name": "Python 3 (ipykernel)",
   "language": "python",
   "name": "python3"
  },
  "language_info": {
   "codemirror_mode": {
    "name": "ipython",
    "version": 3
   },
   "file_extension": ".py",
   "mimetype": "text/x-python",
   "name": "python",
   "nbconvert_exporter": "python",
   "pygments_lexer": "ipython3",
   "version": "3.12.5"
  },
  "vscode": {
   "interpreter": {
    "hash": "fbec5cc8bb1f13e0584b60d171916a07df7bc30ce2ee62338372c9d5be648ecd"
   }
  }
 },
 "nbformat": 4,
 "nbformat_minor": 4
}
