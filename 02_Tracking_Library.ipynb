{
 "cells": [
  {
   "cell_type": "code",
   "execution_count": 2,
   "metadata": {},
   "outputs": [],
   "source": [
    "import numpy as np"
   ]
  },
  {
   "cell_type": "code",
   "execution_count": 3,
   "metadata": {},
   "outputs": [],
   "source": [
    "# Modelling of a drift\n",
    "def D(L):\n",
    "    '''Returns the list of a L-long drift'''\n",
    "    # NB: we return a list with a dict\n",
    "    # the dict contains the matrix (the transformation)\n",
    "    # and the element length \n",
    "    return [{'matrix':np.array([[1, L],[0, 1]]), 'length':L}] "
   ]
  },
  {
   "cell_type": "code",
   "execution_count": 4,
   "metadata": {},
   "outputs": [],
   "source": [
    "# Modelling of a quadrupole\n",
    "def Q(f):\n",
    "    '''Returns the list of a quadrupole with focal length f'''\n",
    "    # NB: we return a list with a dict\n",
    "    # the dict contains the matrix (the transformation)\n",
    "    # and the element length \n",
    "    return [{'matrix':np.array([[1, 0],[-1/f, 1]]), 'length':0}]"
   ]
  },
  {
   "cell_type": "code",
   "execution_count": 5,
   "metadata": {},
   "outputs": [],
   "source": [
    "# From a list of elements - or beamline - to an equivalent single element\n",
    "def getEquivalentElement(beamline):\n",
    "    '''Returns the equivalent single element of a beamline'''\n",
    "    # we start from an identity matrix (np.eye)\n",
    "    # with the same dimension of the matrix of the\n",
    "    # first element of the beamline\n",
    "    equivalentElement = np.eye(beamline[0]['matrix'].shape[0])\n",
    "    length = 0\n",
    "    # NB: we reverse the order of the beamline ([-1::-1])\n",
    "    for elements in beamline[-1::-1]:\n",
    "        # we multiply the matrices \n",
    "        equivalentElement = equivalentElement @ elements['matrix']\n",
    "        # and we add the lengths\n",
    "        length = length + elements['length']\n",
    "    # we return the dict with the \"usual\" keys (matrix and length)\n",
    "    # as for the definition of the D and Q functions\n",
    "    return [{'matrix':equivalentElement, 'length':length}]"
   ]
  },
  {
   "cell_type": "code",
   "execution_count": 6,
   "metadata": {},
   "outputs": [],
   "source": [
    "# Tracking particles along a beamline\n",
    "def transportParticles(x0,beamline,s0=0):\n",
    "    '''Track the particle(s) x0 along the given beamline. \n",
    "    If needed, one can specify an initial longitudinal position s0, otherwise set to 0.\n",
    "    '''\n",
    "    coords = [x0]\n",
    "    s = [s0]\n",
    "    for elements in beamline:\n",
    "        coords.append(elements['matrix'] @ coords[-1])\n",
    "        s.append(s[-1] + elements['length']) \n",
    "    coords = np.array(coords).transpose()\n",
    "    return {'x':  coords[:,0,:], # [particle_idx, s_idx]\n",
    "            'px': coords[:,1,:], # [particle_idx, s_idx]\n",
    "            's':  np.array(s), # [s_idx]\n",
    "            'coords': coords,} # [particle_idx, coord_idx, s_idx]"
   ]
  }
 ],
 "metadata": {
  "kernelspec": {
   "display_name": "base",
   "language": "python",
   "name": "python3"
  },
  "language_info": {
   "codemirror_mode": {
    "name": "ipython",
    "version": 3
   },
   "file_extension": ".py",
   "mimetype": "text/x-python",
   "name": "python",
   "nbconvert_exporter": "python",
   "pygments_lexer": "ipython3",
   "version": "3.7.6"
  },
  "orig_nbformat": 4
 },
 "nbformat": 4,
 "nbformat_minor": 2
}
