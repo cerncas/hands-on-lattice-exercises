{
 "cells": [
  {
   "cell_type": "markdown",
   "metadata": {
    "editable": true,
    "slideshow": {
     "slide_type": "slide"
    },
    "tags": []
   },
   "source": [
    "---\n",
    "\n",
    "# Third Hands-On Session\n",
    "\n",
    "- Implemeneting and studying the properties of a FODO cell/lattice\n",
    "\n",
    "---"
   ]
  },
  {
   "cell_type": "markdown",
   "metadata": {},
   "source": [
    "#### Setup of your Python kernel\n",
    "Let's load our standard library functions, and setup matplotlib for nice inline plots"
   ]
  },
  {
   "cell_type": "code",
   "execution_count": 14,
   "metadata": {},
   "outputs": [],
   "source": [
    "# Import custom tracking functions and useful libraries\n",
    "from tracking_library import *\n",
    "\n",
    "# Set up plotting\n",
    "params = {'legend.fontsize': 'x-large',\n",
    "          'figure.figsize': (15, 5),\n",
    "         'axes.labelsize': 'x-large',\n",
    "         'axes.titlesize':'x-large',\n",
    "         'xtick.labelsize':'x-large',\n",
    "         'ytick.labelsize':'x-large'}\n",
    "plt.rcParams.update(params)"
   ]
  },
  {
   "cell_type": "markdown",
   "metadata": {
    "slideshow": {
     "slide_type": "slide"
    }
   },
   "source": [
    "### Exercise 7\n",
    "\n",
    "Let's start working with FODO cells. This is one of the most fundamental lattice topologies. Look back at [Wolfgan's lecture](https://indico.cern.ch/event/1117526/contributions/4978192/). \n",
    "As in [Wolfgan's lecture](https://indico.cern.ch/event/1117526/contributions/4978192/), we define $L$ as the length of one drift, i.e. the total length of the cell ($L_{FODO}$) is $2L$. \n",
    "\n",
    "<p align=\"center\">\n",
    "<img src=./_img_exercises/slide_fodo.png width=\"60%\">\n",
    "</p>\n",
    "\n",
    "1. Define a **FODO beamline** that **starts and ends in the middle of a focusing quadrupole**. \n",
    "    \n",
    "    For the moment, we can define arbitrarily the $f$ and $L$ parameters: we chose 2.5 m and 1 m, respectively. \n",
    "2. Track a particle that has an initial offset $x = 1$ mm and no angle $x' = -0.1$ mrad, and plot its position $x$ and angle $x'$ along the beam line.\n",
    "\n",
    "**Hint 1:** A half-quadrupole has double the focal length than a full quadrupole.\n",
    "\n",
    "**Hint 2:** To better visualize the trajectory of the particle(s), always split the drifts in several shorter drifts (e.g. $10$ drifts, each $L/10$ long).\n",
    "\n",
    "**Hint 3:** After having plotted $x$ trajectory on a plot, one can create a second vertical axis that shares the same horizontal axis with `plt.twinx()`"
   ]
  },
  {
   "cell_type": "markdown",
   "metadata": {
    "slideshow": {
     "slide_type": "subslide"
    }
   },
   "source": [
    "#### SOLUTION \n",
    "The first part of the exercise is to define a FODO cell structure.  In its simpler version, it consists on two thin quadrupoles of opposite focal length, f, spaced by two drifts of length L (2*L is the total length of the cell). \n",
    "\n",
    "We could start the FODO from an arbitrary point inside it, but we decided to start describing it from the center of a focusing quadrupole.\n",
    "\n",
    "We also suggest to split the drift in small drifts, say 0.1 m long each."
   ]
  },
  {
   "cell_type": "code",
   "execution_count": 2,
   "metadata": {},
   "outputs": [],
   "source": [
    "# build your beamline here...\n",
    "f = 2.5\n",
    "L = 1\n",
    "beamline = Q(2*f) + 10*D(L/10) + Q(-f) + 10*D(L/10) + Q(2*f)"
   ]
  },
  {
   "cell_type": "markdown",
   "metadata": {},
   "source": [
    "We can now proceed to generate a particle and transport it along the beamline:"
   ]
  },
  {
   "cell_type": "code",
   "execution_count": null,
   "metadata": {},
   "outputs": [],
   "source": [
    "# track and plot the particle trajectory here...\n",
    "X = np.array([[1],\n",
    "              [-0.1]])\n",
    "\n",
    "transported_particles = transportParticles(X, beamline)\n",
    "plt.plot(transported_particles['s'], transported_particles['x'], 'o-b', lw=3)\n",
    "plt.grid(True)\n",
    "plt.xlabel('s [m]')\n",
    "plt.ylabel('x [mm]', color='b')\n",
    "plt.tick_params(axis='y', labelcolor='b')\n",
    "plt.ylim([-1.5, 1.5])\n",
    "\n",
    "ax2 = plt.twinx()  # instantiate a second axes that shares the same x-axis\n",
    "plt.tick_params(axis='y', labelcolor='r')\n",
    "plt.plot(transported_particles['s'], transported_particles['xp'], 's-r', lw=3)\n",
    "plt.ylabel(\"x' [mrad]\", color='r')\n",
    "plt.ylim([-0.5, 0.5])\n"
   ]
  },
  {
   "cell_type": "markdown",
   "metadata": {
    "slideshow": {
     "slide_type": "slide"
    }
   },
   "source": [
    "### Exercise 10\n",
    "\n",
    "Plot the position $x$ and angle $x'$ through $N=100$ equal FODO cells, play with different values of the focal length $f$ and explore whether you can make the oscillations grow.\n",
    "\n",
    "**Hint:** Look back at [Wolfgan's lecture](https://indico.cern.ch/event/1117526/contributions/4978192/):\n",
    "\n",
    "<p align=\"center\">\n",
    "<img src=./_img_exercises/slide_stability.png width=\"60%\">\n",
    "</p>"
   ]
  },
  {
   "cell_type": "markdown",
   "metadata": {
    "slideshow": {
     "slide_type": "subslide"
    }
   },
   "source": [
    "#### SOLUTION"
   ]
  },
  {
   "cell_type": "code",
   "execution_count": null,
   "metadata": {},
   "outputs": [],
   "source": [
    "# code here your solution...\n",
    "f = .5001\n",
    "L = 1\n",
    "beamline = Q(2*f) + 10*D(L/10) + Q(-f) + 10*D(L/10) + Q(2*f)\n",
    "\n",
    "X = np.array([[1],\n",
    "              [-0.1]])\n",
    "transported_particles = transportParticles(X, 100*beamline)\n",
    "\n",
    "plt.plot(transported_particles['s'], transported_particles['x'], 'o-b', lw=3)\n",
    "plt.grid(True)\n",
    "plt.xlabel('s [m]')\n",
    "plt.ylabel('x [mm]', color='b')\n",
    "plt.tick_params(axis='y', labelcolor='b')\n",
    "\n",
    "# instantiate a second axes that shares the same x-axis\n",
    "ax2 = plt.twinx()\n",
    "plt.ylabel(\"x' [mrad]\", color='r')\n",
    "plt.tick_params(axis='y', labelcolor='r')\n",
    "plt.plot(transported_particles['s'], transported_particles['xp'], 's-r', lw=3)\n"
   ]
  },
  {
   "cell_type": "markdown",
   "metadata": {
    "slideshow": {
     "slide_type": "subslide"
    }
   },
   "source": [
    "It it important to observe that when the focal length approaches the stability limit (only for $f>L_{FODO}/4$ the machine is stable), then the oscillation starts to grow during the transport in the lattice."
   ]
  },
  {
   "cell_type": "markdown",
   "metadata": {},
   "source": [
    "### Exercise 18\n",
    "\n",
    "1. Transport a sigma matrix (e.g.$\\beta$ = 3 [m], $\\gamma$ = 0.5 [1/m], $\\epsilon$ = 1 [$\\mu$ m]) through a beamline made of 8 FODO cells (with, for example, $f=2.5$ and $L=1$ as before), and plot the evolution of the sigma matrix elements ($\\sigma_{11}$, $\\sigma_{22}$, $\\sigma_{12}$) along the beamline. Do you see a periodic structure?\n",
    "\n",
    "2. Try to vary the initial sigma matrix parameter by **try and error** that reproduces itself at the end of the beam line (8 FODO cells). You will quickly realise that this is extremely difficult if not impossible. \n",
    "\n",
    "**Hint 1**: (optional) you might want to use an **interactive plot** - see in the previous exercises how to make one\n",
    "\n",
    "**Hint 2**: **try!**, but **don't waist to much time with try and error** approaches (that's not your job as accelerator physicist!), and **move on** to the next exercise..."
   ]
  },
  {
   "cell_type": "markdown",
   "metadata": {},
   "source": [
    "### SOLUTION 1"
   ]
  },
  {
   "cell_type": "code",
   "execution_count": null,
   "metadata": {},
   "outputs": [],
   "source": [
    "# define the basic FODO cell\n",
    "f = 2.5\n",
    "L = 1\n",
    "fodo_cell = Q(2*f) + 10*D(L/10) + Q(-f) + 10*D(L/10) + Q(2*f)\n",
    "fodo_lattice = 8*fodo_cell\n",
    "\n",
    "# define the initial sigma matrix\n",
    "beta0 = 3\n",
    "gamma0 = 0.5\n",
    "epsilon0 = 1\n",
    "# alfa must be:\n",
    "alfa0 = np.sqrt(beta0*gamma0 - 1)\n",
    "sigma_0 = epsilon0 * np.array([[beta0, -alfa0], [-alfa0, gamma0]])\n",
    "\n",
    "\n",
    "# transport the sigma matrix:\n",
    "transported_sigmas = transportSigmas(sigma_0, fodo_lattice)\n",
    "plt.figure(figsize=(15,6))\n",
    "plt.subplot(311)\n",
    "plt.plot(transported_sigmas['s'], transported_sigmas['sigma11'], '-b', lw=3)\n",
    "plt.ylabel('sigma11')\n",
    "plt.subplot(312)\n",
    "plt.plot(transported_sigmas['s'], transported_sigmas['sigma22'], '-r', lw=3)\n",
    "plt.ylabel('sigma22')\n",
    "plt.subplot(313)    \n",
    "plt.plot(transported_sigmas['s'], transported_sigmas['sigma12'], '-k', lw=3)\n",
    "plt.ylabel('sigma12')"
   ]
  },
  {
   "cell_type": "markdown",
   "metadata": {},
   "source": [
    "### SOLUTION 2"
   ]
  },
  {
   "cell_type": "code",
   "execution_count": null,
   "metadata": {},
   "outputs": [],
   "source": [
    "# This problem is not so simple: there are three parameters to fix so it can be quite cumbersome... \n",
    "# We can still try with an animated plot....\n",
    "# Define the function to be executed for the animated plots...\n",
    "def plotIt(sigma11, sigma22, sigma12):\n",
    "    #prepare the sigma matrix\n",
    "    sigma0 = np.array([[sigma11, sigma12 ],[sigma12, sigma22]])\n",
    "\n",
    "    output_b = transportSigmas(sigma0, fodo_lattice)\n",
    "    plt.figure(figsize=(15,6))\n",
    "    plt.subplot(311)\n",
    "    plt.plot(output_b['s'], output_b['sigma11'], '-b', lw=3)\n",
    "    plt.ylabel('sigma11')\n",
    "    plt.grid(True)\n",
    "    plt.subplot(312)\n",
    "    plt.plot(output_b['s'], output_b['sigma22'], '-r', lw=3)\n",
    "    plt.ylabel('sigma22')\n",
    "    plt.grid(True)\n",
    "    plt.subplot(313)    \n",
    "    plt.plot(output_b['s'], output_b['sigma12'], '-k', lw=3)\n",
    "    plt.ylabel('sigma12')\n",
    "    plt.grid(True)\n",
    "    \n",
    "interactive_plot = interactive(plotIt,sigma11=(10,20,.1),sigma22=(0,4,.1),sigma12=(-5,5,.1),continuous_update=True)\n",
    "output = interactive_plot.children[-1]\n",
    "output.layout.height = '450px'\n",
    "interactive_plot"
   ]
  },
  {
   "cell_type": "code",
   "execution_count": null,
   "metadata": {},
   "outputs": [],
   "source": [
    "# **approximate** solution found by hand:\n",
    "plotIt(15.5, 0.4, 0)"
   ]
  },
  {
   "cell_type": "markdown",
   "metadata": {},
   "source": [
    "### Exercise 19\n",
    "\n",
    "To simplify the problem, **recall** [Wolfgan's lecture](https://indico.cern.ch/event/1117526/contributions/4978192/):\n",
    "\n",
    "<p align=\"center\">\n",
    "<img src=./_img_exercises/slide_fodo_periodic.png width=\"60%\">\n",
    "</p>\n",
    "\n",
    "In a FODO cell the $\\beta$ function reaches a maximum (or a minimum) in the middle of the quadrupoles, i.e. the $\\alpha$ function is zero.\n",
    "If one models the FODO cell starting from the middle of a quadrupole (as we do), then at least one parameter is fixed!\n",
    "\n",
    "Even better: one can use the equation form [Wolfgan's lecture](https://indico.cern.ch/event/1117526/contributions/4978192/) to find the theoretical solution."
   ]
  },
  {
   "cell_type": "markdown",
   "metadata": {},
   "source": [
    "#### SOLUTION 1"
   ]
  },
  {
   "cell_type": "code",
   "execution_count": null,
   "metadata": {},
   "outputs": [],
   "source": [
    "# We can then proceed again by try and error...\n",
    "# define the basic FODO cell\n",
    "f = 2.5\n",
    "L = 1\n",
    "fodo_cell = Q(2*f) + 10*D(L/10) + Q(-f) + 10*D(L/10) + Q(2*f)\n",
    "fodo_lattice = 8*fodo_cell\n",
    "\n",
    "def plotIt(sigma11, sigma22):\n",
    "    #prepare the sigma matrix\n",
    "    sigma0 = np.array([[sigma11, 0 ],[0, sigma22]])\n",
    "\n",
    "    output_b = transportSigmas(sigma0, fodo_lattice)\n",
    "    plt.figure(figsize=(15,6))\n",
    "    plt.subplot(311)\n",
    "    plt.plot(output_b['s'], output_b['sigma11'], '-b', lw=3)\n",
    "    plt.ylabel('sigma11')\n",
    "    plt.grid(True)\n",
    "    plt.subplot(312)\n",
    "    plt.plot(output_b['s'], output_b['sigma22'], '-r', lw=3)\n",
    "    plt.ylabel('sigma22')\n",
    "    plt.grid(True)\n",
    "    plt.subplot(313)    \n",
    "    plt.plot(output_b['s'], output_b['sigma12'], '-k', lw=3)\n",
    "    plt.ylabel('sigma12')\n",
    "    plt.grid(True)\n",
    "\n",
    "interactive_plot = interactive(plotIt,sigma11=(0,25,.1),sigma22=(0,4,.1),continuous_update=True)\n",
    "output = interactive_plot.children[-1]\n",
    "output.layout.height = '350px'\n",
    "interactive_plot"
   ]
  },
  {
   "cell_type": "markdown",
   "metadata": {},
   "source": [
    "#### SOLUTION 2\n",
    "\n",
    "We can use the learned during [Wolfgan's lecture](https://indico.cern.ch/event/1117526/contributions/4978192/) for this particular configuration:"
   ]
  },
  {
   "cell_type": "code",
   "execution_count": null,
   "metadata": {},
   "outputs": [],
   "source": [
    "# get the one turn matrix:\n",
    "fodo_lattice_reduced = getEquivalentElement(fodo_lattice)\n",
    "# extract the matched initial conditions\n",
    "sigma11 = fodo_lattice_reduced[0]['matrix'][0,1]/np.sqrt(1-(fodo_lattice_reduced[0]['matrix'][0,0])**2)\n",
    "sigma22 = 1/sigma11\n",
    "sigma12 = 0\n",
    "# plot the solution (using function from previous exercise)\n",
    "plotIt(sigma11, sigma22)\n",
    "\n",
    "# print values\n",
    "sigma11"
   ]
  },
  {
   "cell_type": "markdown",
   "metadata": {},
   "source": [
    "## General Solution (NOT limited to FODO cells!)\n",
    "\n",
    "**Recall** [Wolfgan's lecture](https://indico.cern.ch/event/1117526/contributions/4978192/). In a periodic beam line, the transfer matrix assumes the form:\n",
    "\n",
    "\\begin{equation}\n",
    "M = \n",
    "    \\left[\n",
    "    \\begin{array}{cc}\n",
    "    \\cos(\\mu) + \\alpha_0 \\sin(\\mu)  & \\beta_0 \\sin(\\mu)\\\\\n",
    "    - \\gamma_0 \\sin(\\mu) & \\cos(\\mu) - \\alpha_0 \\sin(\\mu)\n",
    "    \\end{array}\n",
    "    \\right]\n",
    "\\end{equation}\n",
    "\n",
    "where $\\alpha_0$, $\\beta_0$, $\\gamma_0$ are the initial (and final) **Twiss values** and $\\mu$ is the phase advance (or **tune**, if we talk about a whole ring) of the associated beamline.\n",
    "From this expression, one can extract the periodic solution of any beamline, assuming it exists!\n",
    "\n",
    "**Note:** Since the determinant of $M$ must be one, then one can verify that the trace of the matrix R must be $|\\mathrm{Tr}(M)| \\le 2$ to ensure the existence of such a solution!\n",
    "\n",
    "Those concepts are implemented in the function `twiss()` from our toolbox:"
   ]
  },
  {
   "cell_type": "code",
   "execution_count": null,
   "metadata": {},
   "outputs": [],
   "source": [
    "from tracking_library import twiss\n",
    "\n",
    "help(twiss)"
   ]
  },
  {
   "cell_type": "markdown",
   "metadata": {},
   "source": [
    "**Note:** We can apply this function to any beamline, e.g. a series of quadrupoles and drifts, e.g.:"
   ]
  },
  {
   "cell_type": "code",
   "execution_count": null,
   "metadata": {},
   "outputs": [],
   "source": [
    "# create a random beamline of many elements\n",
    "beamline = 5*(10*D(0.5/10) + Q(1) + 10*D(2/10) + Q(-0.8) + 10*D(1.5/10) + Q(0.3) + 10*D(1.5/10))\n",
    "\n",
    "# compute the closed solution\n",
    "(tune, beta, alpha, gamma) = twiss(beamline)\n",
    "\n",
    "# assemble the sigma matrix\n",
    "sigma_matrix = np.array([[beta, -alpha],[-alpha, gamma]])\n",
    "\n",
    "# print out the values\n",
    "print(f\"The total phase advance (or tune) of the beamline is {tune}.\")\n",
    "print(f\"The sigma matrix is:\\n {sigma_matrix}\")\n",
    "print(f\"which has determinant equal to: {np.linalg.det(sigma_matrix):.3f}.\")"
   ]
  },
  {
   "cell_type": "markdown",
   "metadata": {},
   "source": [
    "- **Can you comment why the determinant of the obtained sigma matrix is equal to 1?**"
   ]
  },
  {
   "cell_type": "markdown",
   "metadata": {},
   "source": [
    "### Exercise 20\n",
    "\n",
    "Let's go back to our FODO cell (or series of equal FODO cells).\n",
    "Find the range of focal lengths $f$ for which the FODO cells permit stable oscillations based on the newly introduced condition (i.e. $|Tr(R)| \\le 2$)"
   ]
  },
  {
   "cell_type": "markdown",
   "metadata": {},
   "source": [
    "#### SOLUTION\n"
   ]
  },
  {
   "cell_type": "code",
   "execution_count": null,
   "metadata": {},
   "outputs": [],
   "source": [
    "# define a simple function that returns the trace of the equivalent matrix of a FODO cell as a function of L and f\n",
    "def myOTM_trace(L, f):\n",
    "    fodo_lattice = Q(2*f) + 10*D(L/10) + Q(-f) + 10*D(L/10) + Q(2*f)\n",
    "    OTM = getEquivalentElement(fodo_lattice)\n",
    "    return np.trace(OTM[0]['matrix'])\n",
    "\n",
    "# define a small function to highlight some portion of a plot [optional]\n",
    "def setShadedRegion(ax,color='g' ,xLimit=[0,1], yLimit='FullRange',alpha=.1):\n",
    "    \"\"\"\n",
    "    setShadedRegion(ax,color='g' ,xLimit=[0,1],alpha=.1)\n",
    "    ax: plot axis to use\n",
    "    color: color of the shaded region\n",
    "    xLimit: vector with two scalars, the start and the end point\n",
    "    alpha: transparency settings\n",
    "    yLimit: if set to \"FullRange\" shaded the entire plot in the y direction\n",
    "    If you want to specify an intervall, please enter a two scalar vector as xLimit\n",
    "    \"\"\"\n",
    "    if yLimit == 'FullRange':\n",
    "        aux = ax.get_ylim()\n",
    "        plt.gca().fill_between(xLimit, [aux[0],aux[0]],  [aux[1],aux[1]],color=color, alpha=alpha)\n",
    "        ax.set_ylim(aux)\n",
    "    else:\n",
    "        plt.gca().fill_between(xLimit, \n",
    "                    [yLimit[0],yLimit[0]],  [yLimit[1],yLimit[1]],color=color, alpha=alpha)\n",
    "\n",
    "\n",
    "# assume L=2, and then vary f....\n",
    "L = 2\n",
    "f_range = np.linspace(.5,5)\n",
    "plt.plot(f_range/(L*2), [myOTM_trace(L, f) for f in f_range],'-bo')\n",
    "plt.xlim([0,1.2])\n",
    "my_xlim = plt.xlim()\n",
    "setShadedRegion(plt.gca(),xLimit=my_xlim,yLimit=[-2,2])\n",
    "plt.ylim(-4,4)\n",
    "plt.xlim(my_xlim);\n",
    "plt.xticks([0, .25, .5, .75,1])\n",
    "plt.xlabel('f [L_FODO]')\n",
    "plt.ylabel('trace(OTM)')\n",
    "plt.grid(True)"
   ]
  },
  {
   "cell_type": "markdown",
   "metadata": {},
   "source": [
    "### Exercise 21\n",
    "\n",
    "Consider again a FODO cell, and choose $f$ and $L$ making sure it allows for having a periodic solution (i.e. $f > L_{FODO}/4$). \n",
    "This time, **model the FODO cell starting from the middle of a drift**, i.e. `D(L/2) + Q(f) + D + Q(-f) + D(L/2)`.\n",
    "\n",
    "1. Compute the periodic $\\Sigma_0$ matrix using the Twiss parameters obtain for the newly defined `twiss` function (assuming $\\epsilon=1$).\n",
    "2. Transport the periodic $\\Sigma$ matrix along the FODO and convince yourself that the $\\Sigma_s$ matrix at the end of the FODO is indeed equal to the one at the start, $\\Sigma_0$."
   ]
  },
  {
   "cell_type": "markdown",
   "metadata": {},
   "source": [
    "#### SOLUTION"
   ]
  },
  {
   "cell_type": "code",
   "execution_count": null,
   "metadata": {},
   "outputs": [],
   "source": [
    "f = 2.5\n",
    "L = 2\n",
    "fodo_cell = 5*D(L/10) + Q(f) + 10*D(L/10) + Q(-f) + 5*D(L/10)\n",
    "\n",
    "# compute closed solution\n",
    "tune, beta, alpha, gamma = twiss(fodo_cell)\n",
    "# build sigma matrix\n",
    "sigma_0 = np.array([[beta, -alpha],[-alpha, gamma]])\n",
    "# transport it\n",
    "transported_sigmas = transportSigmas(sigma_0, fodo_cell)\n",
    "\n",
    "plt.plot(transported_sigmas['s'],  transported_sigmas['sigma11'], 'o-b', lw=3, label='$\\\\beta_x\\ [m]$')\n",
    "plt.plot(transported_sigmas['s'], -transported_sigmas['sigma12'], 's-r', lw=3, label='$\\\\alpha_x$')\n",
    "    \n",
    "plt.grid(True)\n",
    "plt.legend(loc='best')\n",
    "plt.xlabel('s [m]')\n",
    "plt.ylabel('n.a.')"
   ]
  },
  {
   "cell_type": "code",
   "execution_count": null,
   "metadata": {},
   "outputs": [],
   "source": [
    "print(f\"Initial Sigma: \\n{transported_sigmas['sigmas'][0,:,:]}\")\n",
    "print(f\"Final Sigma: \\n{transported_sigmas['sigmas'][-1,:,:]}\")"
   ]
  },
  {
   "cell_type": "markdown",
   "metadata": {},
   "source": [
    "> Indeed, initial and final Sigma matrices are identical (within numerical precision)!"
   ]
  },
  {
   "cell_type": "markdown",
   "metadata": {},
   "source": [
    "### Exercise 22\n",
    "Write down the numerical values of initial beam matrix $\\Sigma_0$, then build a beam line made of $15$ consecutive cells by changing the definition of the lattice and then, using $\\Sigma_0$ with the noted-down numbers, prepare a plot of the beam sizes along the $15$ cells. \n",
    "Is this also periodic?"
   ]
  },
  {
   "cell_type": "markdown",
   "metadata": {},
   "source": [
    "#### SOLUTION"
   ]
  },
  {
   "cell_type": "code",
   "execution_count": null,
   "metadata": {},
   "outputs": [],
   "source": [
    "# as before:\n",
    "f = 2.5\n",
    "L = 2\n",
    "fodo_cell = 5*D(L/10) + Q(f) + 10*D(L/10) + Q(-f) + 5*D(L/10)\n",
    "tune, beta, alpha, gamma = twiss(fodo_cell)\n",
    "sigma_0 = np.array([[beta, -alpha],[-alpha, gamma]])\n",
    "\n",
    "# transport the solution found on a single cell over 15 cells\n",
    "transported_sigmas = transportSigmas(sigma_0, 15*fodo_cell)\n",
    "\n",
    "plt.plot(transported_sigmas['s'],  transported_sigmas['sigma11'], '-b', lw=3, label='$\\\\beta_x\\ [m]$')\n",
    "plt.plot(transported_sigmas['s'], -transported_sigmas['sigma12'], '-r', lw=3, label='$\\\\alpha_x$')\n",
    "plt.grid(True)\n",
    "plt.legend(loc='best')\n",
    "plt.xlabel('s [m]')"
   ]
  },
  {
   "cell_type": "markdown",
   "metadata": {},
   "source": [
    "### Exercise 23\n",
    "\n",
    "Consider our usual FODO cell.\n",
    "Consider a single particle with some non-zero initial $x_0$ and/or $x_0'$, and plot the $x$, $x'$ coordinates at the end of each FODO cell for a beamline made of 100 cells. \n",
    "\n",
    "**Hint:** You should use both `getEquivalentElement` to obtain the single FODO cell element, and `transportParticles` function to track the particle over several of such a cell.\n",
    "\n",
    "**Hint:** use `plt.scatter(output['x'], output['px'])` to plot all phase-space coordinates."
   ]
  },
  {
   "cell_type": "markdown",
   "metadata": {},
   "source": [
    "#### SOLUTIONS\n",
    "For plotting the trace space evolution of a particle we need to observe it turn-after-turn. The natural way to do that is to compress the beam line (in general composed by more than one element) in a single transformation: the one-turn-matrix, which can be computed using the `getEquivalentElement` function previously introduced."
   ]
  },
  {
   "cell_type": "code",
   "execution_count": null,
   "metadata": {},
   "outputs": [],
   "source": [
    "# create the cell\n",
    "f = 2.5\n",
    "L = 2\n",
    "fodo_cell = 5*D(L/10) + Q(f) + 10*D(L/10) + Q(-f) + 5*D(L/10)\n",
    "\n",
    "# compute the one turn map:\n",
    "OTM = getEquivalentElement(fodo_cell)\n",
    "def plotIt(x, xp):\n",
    "    particle = [[x],[xp]]\n",
    "    transported_particles = transportParticles(particle,100*OTM)\n",
    "    plt.scatter(transported_particles['x'], transported_particles['xp'], c = transported_particles['s']/(L*2))\n",
    "    cb=plt.colorbar()\n",
    "    cb.set_label('Turns')\n",
    "    plt.xlabel('x [mm]')\n",
    "    plt.ylabel(\"x' [mrad]\")\n",
    "    plt.xlim(-13,13)\n",
    "    plt.ylim(-5,5)\n",
    "    plt.grid(True)\n",
    "    \n",
    "\n",
    "interactive_plot = interactive(plotIt,x=(-2,2,.1),xp=(-2,2,.1),continuous_update=True)\n",
    "output = interactive_plot.children[-1]\n",
    "output.layout.height = '350px'\n",
    "interactive_plot"
   ]
  },
  {
   "cell_type": "code",
   "execution_count": null,
   "metadata": {},
   "outputs": [],
   "source": [
    "#  An example of static plot for saving...\n",
    "x =.24\n",
    "px = 2.3\n",
    "plotIt(x, px)\n",
    "plt.plot(x, px,'+r', ms=50)"
   ]
  },
  {
   "cell_type": "markdown",
   "metadata": {},
   "source": [
    "### Exercise 24 (optional)\n",
    "In the definition of FODO of the previous exercise, reverse the polarity of both quadrupoles and prepare a phase-space plot. How does it differ from the one in Exercise 18?"
   ]
  },
  {
   "cell_type": "markdown",
   "metadata": {},
   "source": [
    "#### SOLUTION"
   ]
  },
  {
   "cell_type": "code",
   "execution_count": null,
   "metadata": {},
   "outputs": [],
   "source": [
    "f = -2.5\n",
    "L = 2\n",
    "fodo_cell = 5*D(L/10) + Q(f) + 10*D(L/10) + Q(-f) + 5*D(L/10)\n",
    "OTM = getEquivalentElement(fodo_cell)\n",
    "def plotIt(x, xp):\n",
    "    particle = [[x],[xp]]\n",
    "    transported_particles = transportParticles(particle,100*OTM)\n",
    "    plt.scatter(transported_particles['x'], transported_particles['xp'], c = transported_particles['s']/(L*2))\n",
    "    cb=plt.colorbar()\n",
    "    cb.set_label('Turns')\n",
    "    plt.xlabel('x [mm]')\n",
    "    plt.ylabel(\"x' [mrad]\")\n",
    "    plt.xlim(-13,13)\n",
    "    plt.ylim(-5,5)\n",
    "    plt.grid(True)\n",
    "\n",
    "# a single case\n",
    "x =.24\n",
    "px = 2.3\n",
    "plotIt(x, px)\n",
    "plt.plot(x, px,'+r', ms=50)"
   ]
  },
  {
   "cell_type": "markdown",
   "metadata": {},
   "source": [
    "---\n",
    "\n",
    "## Ellipses ans Single Particle Emittance\n",
    "\n",
    "It turns out that our particle turn-after-turn stays on an ellipses: \n",
    "\n",
    "\\begin{equation}\n",
    "\\epsilon = \\gamma x^2 + 2 \\alpha x x' + \\beta x{'\\,}^2\n",
    "\\end{equation}\n",
    "\n",
    "where $(\\alpha, \\beta, \\gamma)$ are the periodic Twiss parameter! and $\\epsilon$, in this case, is the **single particle emittance**.\n",
    "\n",
    "Without entering in the implementation details, let's define two useful functions that can give us the single particle emittance (`particle_emittance(x, xp, beta, alpha)`) or to give us the coordinate in phase space for an ellipse with the given Twiss and emittance (`ellipse_points(emittance, beta, alpha, n_points = 100)`)"
   ]
  },
  {
   "cell_type": "code",
   "execution_count": null,
   "metadata": {},
   "outputs": [],
   "source": [
    "def particle_emittance(x, xp, beta, alpha):\n",
    "    '''Returns the single particle emittance for a given \n",
    "       x, xp particle coordinates and assumed beta and alpha parameters\n",
    "    '''\n",
    "    # compute gamma\n",
    "    gamma = (alpha**2 + 1)/beta\n",
    "    # compute and return the associated single particle emittance\n",
    "    epsilon = gamma*x**2 + 2*alpha*x*xp + beta*xp**2\n",
    "    return epsilon\n",
    "\n",
    "def ellipse_points(emittance, beta, alpha, n_points = 100):\n",
    "    ''' Returns the x,x' coordinates of an ellipse in phase space for \n",
    "        the given Twiss parameters (beta, gamma, emittance)\n",
    "    '''\n",
    "    # generate a uniform sampling of phases:\n",
    "    thetas = np.linspace(0, 2*np.pi, n_points)\n",
    "    # generate coordinates\n",
    "    x  = np.sqrt(emittance*beta)*np.cos(thetas)\n",
    "    xp = -np.sqrt(emittance/beta)*(alpha*np.cos(thetas)-np.sin(thetas))\n",
    "    # return them in our usual form\n",
    "    return np.array([x, xp])\n"
   ]
  },
  {
   "cell_type": "markdown",
   "metadata": {},
   "source": [
    "### Exercise 25\n",
    "\n",
    "Consider the usual FODO cell, repeated 100 times.\n",
    "Plot the trajectory, in phase space, of a particle with x=1 mm and xp=0 cell after cell.\n",
    "\n",
    "Using the functions you have now available, compute the expected periodic solution of our cell, and use this information to:\n",
    "\n",
    "- compute the single particle emittance\n",
    "- produce the coordinates in phase space of an ellipse with such an emittance\n",
    "\n",
    "Plot both the tracked particle coordinates and the ellipse in phase space: what do you observe?\n",
    "\n",
    "**Optional:** would you be able to predict the exact tracked particle coordinates only from the single cell?\n",
    "\n",
    "**Hint:** for this latter question, one needs to look carefully at the functions implementation details...\n"
   ]
  },
  {
   "cell_type": "code",
   "execution_count": null,
   "metadata": {},
   "outputs": [],
   "source": [
    "# define our usual FODO cell\n",
    "f = 2.5\n",
    "L = 2\n",
    "fodo_lattice = 5*D(L/10) + Q(f) + 10*D(L/10) + Q(-f) + 5*D(L/10)\n",
    "\n",
    "# compute the periodic solution\n",
    "tune, beta, alpha, gamma = twiss(fodo_lattice)\n",
    "\n",
    "# generate a particle\n",
    "x = 1\n",
    "xp = 0\n",
    "particle = [[x],[xp]]\n",
    "\n",
    "# compute the associate single-particle emittance of this particle\n",
    "single_part_emit = particle_emittance(x, xp, beta, alpha)\n",
    "# get coordinate of an ellipse in phase space with the given parameters\n",
    "ellipse_coordinates = ellipse_points(single_part_emit, beta, alpha)\n",
    "\n",
    "# track the particle over 100 cells\n",
    "OTM = getEquivalentElement(fodo_lattice)\n",
    "transported_particles = transportParticles(particle,100*OTM)\n",
    "\n",
    "# plot tracked particles as well as ellipse\n",
    "plt.plot(ellipse_coordinates[0,:], ellipse_coordinates[1,:],'r--', lw=2)\n",
    "plt.scatter(transported_particles['x'], transported_particles['xp'], c = transported_particles['s']/(L*2))\n",
    "cb=plt.colorbar()\n",
    "cb.set_label('Turns')\n",
    "plt.xlabel('x [mm]')\n",
    "plt.ylabel(\"x' [mrad]\")\n",
    "plt.grid(True)\n",
    "    \n"
   ]
  },
  {
   "cell_type": "markdown",
   "metadata": {},
   "source": [
    "### Exercise 26\n",
    "Plot the position of the particle vs the number of turns. \n",
    "\n",
    "1. What do you observe?\n",
    "2. Can you infer the tune? \n",
    "3. How many turns (or FODO cells) are needed for the particle to complete one full oscillation?\n",
    "4. What changes if you start from a different initial coordinate?"
   ]
  },
  {
   "cell_type": "markdown",
   "metadata": {},
   "source": [
    "#### SOLUTION"
   ]
  },
  {
   "cell_type": "code",
   "execution_count": null,
   "metadata": {},
   "outputs": [],
   "source": [
    "f = 2.5\n",
    "L_2 = 2\n",
    "n_turns = 100\n",
    "fodo_lattice = 5*D(L/10) + Q(f) + 10*D(L/10) + Q(-f) + 5*D(L/10)\n",
    "OTM = getEquivalentElement(fodo_lattice)\n",
    "particle = [[1],[.3]]\n",
    "transported_particles = transportParticles(particle,n_turns*OTM)\n",
    "\n",
    "plt.plot(transported_particles['s']/(L*2), transported_particles['x'] ,'o-b')\n",
    "plt.xlabel('Turns')\n",
    "plt.ylabel('x [mm]')\n",
    "plt.grid(True)\n",
    "\n",
    "# let's compute the tune from the OTM\n",
    "tune, beta, alpha, gamma = twiss(OTM)\n",
    "print(f'The expected single-cell tune is {tune:.3f}.')\n",
    "print(f' => Over {n_turns} one expects to see {n_turns*tune:.3f} oscillations!')"
   ]
  },
  {
   "cell_type": "markdown",
   "metadata": {},
   "source": [
    "We clearly see a betatronic oscillation. And this is true also for x' (se below, and note the different amplitude and phase)."
   ]
  },
  {
   "cell_type": "code",
   "execution_count": null,
   "metadata": {},
   "outputs": [],
   "source": [
    "plt.plot(transported_particles['s']/(L_2*2), transported_particles['xp'] ,'o-r')\n",
    "plt.xlabel('Turns')\n",
    "plt.ylabel(\"x' [mrad]\")\n",
    "plt.grid(True)"
   ]
  },
  {
   "cell_type": "markdown",
   "metadata": {},
   "source": [
    "### Exercise 27\n",
    "\n",
    "Consider a single FODO cell of total length $L_{FODO}=2$ m. \n",
    "\n",
    "1. Can you find $f$ such that the FODO cell phase advance is $\\mu = \\pi/2$, i.e. 90 deg phase-advance?\n",
    "2. Repeat this cell 100 times, and plot the trajectory, in phase space, of a particle with x=1 mm and xp=0 cell after cell: what do you observe?\n",
    "3. (Optional) Show that the similar results are obtained irrespectively if you start your FODO from the middle of a quadrupole or of a drift.\n",
    "\n",
    "**Hint:** Look back at [Wolfgan's lecture](https://indico.cern.ch/event/1117526/contributions/4978192/):\n",
    "\n",
    "<p align=\"center\">\n",
    "<img src=./_img_exercises/slide_fodo_phase.png width=\"60%\">\n",
    "</p>\n",
    "\n",
    "and recall that $\\mathrm{Tr}(M) = 2 \\cos(\\mu)$. \n",
    "With some math, one can prove that:\n",
    "\n",
    "\\begin{equation}\n",
    "\\sin(\\mu/2) = \\frac{L_{FODO}}{4f}\n",
    "\\end{equation}\n",
    "\n"
   ]
  },
  {
   "cell_type": "markdown",
   "metadata": {},
   "source": [
    "#### SOLUTION"
   ]
  },
  {
   "cell_type": "code",
   "execution_count": null,
   "metadata": {},
   "outputs": [],
   "source": [
    "# let's build up the FODO cell using the provided inputs\n",
    "L_2 = 2\n",
    "desired_mu = np.pi/2\n",
    "\n",
    "f = L_2/(4*np.sin(desired_mu/2))\n",
    "L = L_2/2\n",
    "\n",
    "# fodo starting from the middle of a quad\n",
    "fodo_lattice_1 = Q(2*f) + 10*D(L/10) + Q(-f) + 10*D(L/10) + Q(2*f)\n",
    "# or drift\n",
    "fodo_lattice_2 = 5*D(L/10) + Q(f) + 10*D(L/10) + Q(-f) + 5*D(L/10)\n",
    "\n",
    "tune, beta, alpha, gamma = twiss(fodo_lattice_1)\n",
    "print(f'Fodo starting in the quad: tune is {tune}.')\n",
    "tune, beta, alpha, gamma = twiss(fodo_lattice_2)\n",
    "print(f'Fodo starting in the drift: tune is {tune}.')"
   ]
  },
  {
   "cell_type": "code",
   "execution_count": null,
   "metadata": {},
   "outputs": [],
   "source": [
    "# generate a particle\n",
    "x = 1\n",
    "xp = 0\n",
    "particle = [[x],[xp]]\n",
    "\n",
    "# track the particle over 100 cells\n",
    "OTM = getEquivalentElement(fodo_lattice_1)\n",
    "transported_particles = transportParticles(particle,100*OTM)\n",
    "\n",
    "# plot tracked particles as well as ellipse\n",
    "plt.scatter(transported_particles['x'], transported_particles['xp'], c = transported_particles['s']/(L*2))\n",
    "cb=plt.colorbar()\n",
    "cb.set_label('Turns')\n",
    "plt.xlabel('x [mm]')\n",
    "plt.ylabel(\"x' [mrad]\")\n",
    "plt.grid(True)\n",
    "    "
   ]
  },
  {
   "cell_type": "markdown",
   "metadata": {},
   "source": [
    "> This time only 4 points in phase-space are shown, as the phase advance is 1/4 in units of 2*pi!, hence the particle does \"1/4\" of a turn in phase space after each FODO cell..."
   ]
  },
  {
   "cell_type": "code",
   "execution_count": null,
   "metadata": {},
   "outputs": [],
   "source": []
  },
  {
   "cell_type": "markdown",
   "metadata": {},
   "source": []
  },
  {
   "cell_type": "markdown",
   "metadata": {},
   "source": []
  },
  {
   "cell_type": "markdown",
   "metadata": {},
   "source": []
  },
  {
   "cell_type": "markdown",
   "metadata": {},
   "source": [
    "- (Optional) Start introducing sector bends instead in the middle of drift...\n"
   ]
  }
 ],
 "metadata": {
  "celltoolbar": "Slideshow",
  "kernelspec": {
   "display_name": "Python 3 (ipykernel)",
   "language": "python",
   "name": "python3"
  },
  "language_info": {
   "codemirror_mode": {
    "name": "ipython",
    "version": 3
   },
   "file_extension": ".py",
   "mimetype": "text/x-python",
   "name": "python",
   "nbconvert_exporter": "python",
   "pygments_lexer": "ipython3",
   "version": "3.9.18"
  },
  "vscode": {
   "interpreter": {
    "hash": "fbec5cc8bb1f13e0584b60d171916a07df7bc30ce2ee62338372c9d5be648ecd"
   }
  }
 },
 "nbformat": 4,
 "nbformat_minor": 4
}
