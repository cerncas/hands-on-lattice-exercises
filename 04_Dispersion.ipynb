{
 "cells": [
  {
   "cell_type": "markdown",
   "metadata": {},
   "source": [
    "# Fourth Hands-On Session\n",
    "---\n",
    "- Energy effects: intruducing dispersion\n",
    "---\n",
    "\n",
    "The following exercises might not be addressed during the course, but we encourage you to explore them after the course.\n",
    "They are examples that show how one can extend our simple tools to investigate and better understand more complex systems."
   ]
  },
  {
   "cell_type": "code",
   "execution_count": null,
   "metadata": {},
   "outputs": [],
   "source": [
    "# Import custom tracking functions and useful libraries\n",
    "from tracking_library import *\n",
    "\n",
    "# Set up plotting\n",
    "params = {\n",
    "    \"legend.fontsize\": \"x-large\",\n",
    "    \"figure.figsize\": (15, 5),\n",
    "    \"axes.labelsize\": \"x-large\",\n",
    "    \"axes.titlesize\": \"x-large\",\n",
    "    \"xtick.labelsize\": \"x-large\",\n",
    "    \"ytick.labelsize\": \"x-large\",\n",
    "}\n",
    "plt.rcParams.update(params)"
   ]
  },
  {
   "cell_type": "markdown",
   "metadata": {
    "slideshow": {
     "slide_type": "slide"
    }
   },
   "source": [
    "## Introducing 3x3 elements\n",
    "\n",
    "In order to consider energy effects we need to introduce at least $3\\times3$ matrices for drift space, quadrupoles, and sector dipoles, where the third coordinate corresponds to the particle energy deviation $\\mathrm{d}p/p_0$. Recall [Wolfgan's lecture](https://indico.cern.ch/event/1356988/contributions/5713241/):\n",
    " \n",
    "<p align=\"center\">\n",
    "<img src=./_img_exercises/slide_3x3matrices.png width=\"60%\">\n",
    "</p>\n",
    "\n",
    "- **These elements are already provided in our `tracking_library` toolbox:**"
   ]
  },
  {
   "cell_type": "code",
   "execution_count": null,
   "metadata": {},
   "outputs": [],
   "source": [
    "from tracking_library import B3, D3, Q3\n",
    "\n",
    "help(D3)\n",
    "help(Q3)\n",
    "help(B3)"
   ]
  },
  {
   "cell_type": "markdown",
   "metadata": {
    "slideshow": {
     "slide_type": "slide"
    }
   },
   "source": [
    "### Exercise 25\n",
    "\n",
    "Setting the scene: build a beam line of 6 FODO cells (e.g., L_cell = 4 m) with a phase advance of 60 degrees/cell (using 3x3 thin quadrupoles just introduced). \n",
    "Add a sector bending magnet (3x3 version) with length 1 m and bending angle $\\phi=10$ degrees in the center of each drift. \n",
    "At this point, it is not too important where you start your FODO cell.\n",
    "\n",
    "Verify nothing changes with respect to the same beamline made of 2x2 matrices.\n",
    "\n",
    "- **Note:** You may have to play with the quadrupole focal length to make the phase advance close to 60 degrees. You should have done this in earlier exercises. "
   ]
  },
  {
   "cell_type": "markdown",
   "metadata": {
    "slideshow": {
     "slide_type": "fragment"
    }
   },
   "source": [
    "#### SOLUTION"
   ]
  },
  {
   "cell_type": "code",
   "execution_count": null,
   "metadata": {
    "slideshow": {
     "slide_type": "-"
    }
   },
   "outputs": [],
   "source": [
    "# 3x3 case: code here your solution..."
   ]
  },
  {
   "cell_type": "code",
   "execution_count": null,
   "metadata": {},
   "outputs": [],
   "source": [
    "# 2x2 case: code here your solution..."
   ]
  },
  {
   "cell_type": "markdown",
   "metadata": {
    "slideshow": {
     "slide_type": "slide"
    }
   },
   "source": [
    "### Exercise 26\n",
    "\n",
    "Consider the previously defined beamline (3x3 case).\n",
    "Use the starting conditions $(x_0,x_0',\\delta)=(0,0,0)$ and plot the position along the beam line. Repeat this for $\\delta=10^{-3}$ and for $\\delta=3\\times 10^{-3}$. Plot all three traces in the same graph. Discuss what you observe and explain."
   ]
  },
  {
   "cell_type": "markdown",
   "metadata": {
    "slideshow": {
     "slide_type": "subslide"
    }
   },
   "source": [
    "#### SOLUTION"
   ]
  },
  {
   "cell_type": "code",
   "execution_count": null,
   "metadata": {},
   "outputs": [],
   "source": [
    "# code here your solution..."
   ]
  },
  {
   "cell_type": "markdown",
   "metadata": {
    "slideshow": {
     "slide_type": "slide"
    }
   },
   "source": [
    "### Exercise 27\n",
    "Work out the transverse components of the periodic beam matrix $\\sigma_0$. Assume that the geometrical emittance is $\\epsilon_0=10^{-6}$ m rad. Furthermore, assume that the momentum spread $\\sigma_0(3,3)=\\sigma_p^2$ is zero and plot the beam size along the beam line."
   ]
  },
  {
   "cell_type": "markdown",
   "metadata": {
    "slideshow": {
     "slide_type": "subslide"
    }
   },
   "source": [
    "#### SOLUTION"
   ]
  },
  {
   "cell_type": "code",
   "execution_count": null,
   "metadata": {},
   "outputs": [],
   "source": [
    "# code here your solution..."
   ]
  },
  {
   "cell_type": "markdown",
   "metadata": {
    "slideshow": {
     "slide_type": "slide"
    }
   },
   "source": [
    "### Exercise 28\n",
    "Plot the beam size for for $\\sigma_p^2=10^{-3}$ and for $\\sigma_p^2=3\\times 10^{-3}$. What happens if you change the phase advance of the cell? Try out by slightly changing the focal lengths."
   ]
  },
  {
   "cell_type": "markdown",
   "metadata": {
    "slideshow": {
     "slide_type": "subslide"
    }
   },
   "source": [
    "#### SOLUTION"
   ]
  },
  {
   "cell_type": "code",
   "execution_count": null,
   "metadata": {},
   "outputs": [],
   "source": [
    "# code here your solution..."
   ]
  },
  {
   "cell_type": "markdown",
   "metadata": {
    "slideshow": {
     "slide_type": "slide"
    }
   },
   "source": [
    "### Exercise 29 (guided)\n",
    "\n",
    "Determine the periodic dispersion at the start of the cell. Then plot the dispersion in the cell."
   ]
  },
  {
   "cell_type": "markdown",
   "metadata": {
    "editable": true,
    "slideshow": {
     "slide_type": "slide"
    },
    "tags": []
   },
   "source": [
    "#### SOLUTION\n",
    "\n",
    "For that we need to find the *real* periodic solution of the 3x3 one turn matrix"
   ]
  },
  {
   "cell_type": "code",
   "execution_count": null,
   "metadata": {},
   "outputs": [],
   "source": [
    "OTM = getEquivalentElement(beamline)\n",
    "eigenvalues, eigenvectors = np.linalg.eig(OTM[0][\"matrix\"])\n",
    "print(eigenvalues)\n",
    "print(eigenvectors[:, 2])"
   ]
  },
  {
   "cell_type": "markdown",
   "metadata": {},
   "source": [
    "Note that the third eigenvalue is real, i.e. is associated to a real eigenvector, which is our solution:"
   ]
  },
  {
   "cell_type": "code",
   "execution_count": null,
   "metadata": {},
   "outputs": [],
   "source": [
    "dispersion = np.real(eigenvectors[:, 2] / eigenvectors[2, 2])\n",
    "print(dispersion)"
   ]
  },
  {
   "cell_type": "markdown",
   "metadata": {},
   "source": [
    "Sanity check: one can see that indeeed is a periodic solution!"
   ]
  },
  {
   "cell_type": "code",
   "execution_count": null,
   "metadata": {
    "slideshow": {
     "slide_type": "subslide"
    },
    "tags": []
   },
   "outputs": [],
   "source": [
    "OTM[0][\"matrix\"] @ dispersion"
   ]
  },
  {
   "cell_type": "markdown",
   "metadata": {},
   "source": [
    "And track it along our lattice:"
   ]
  },
  {
   "cell_type": "code",
   "execution_count": null,
   "metadata": {},
   "outputs": [],
   "source": [
    "# need to make dispersion array compatible with our transportParticles function\n",
    "dispersion = np.reshape(dispersion, (3, 1))\n",
    "transported_particles = transportParticles(dispersion, beamline)\n",
    "\n",
    "plt.plot(transported_particles[\"s\"], transported_particles[\"x\"], \"o-b\", lw=3)\n",
    "plt.grid(True)\n",
    "plt.xlabel(\"s [m]\")\n",
    "plt.ylabel(\"Dx [m]\", color=\"b\")\n",
    "plt.tick_params(axis=\"y\", labelcolor=\"b\")"
   ]
  },
  {
   "cell_type": "markdown",
   "metadata": {},
   "source": [
    "## Well done !!\n",
    "\n",
    "=> **If you still have time, continue your learning with the following [notebook](./05_4D_Systems.ipynb)**..."
   ]
  }
 ],
 "metadata": {
  "celltoolbar": "Slideshow",
  "kernelspec": {
   "display_name": "Python 3 (ipykernel)",
   "language": "python",
   "name": "python3"
  },
  "language_info": {
   "codemirror_mode": {
    "name": "ipython",
    "version": 3
   },
   "file_extension": ".py",
   "mimetype": "text/x-python",
   "name": "python",
   "nbconvert_exporter": "python",
   "pygments_lexer": "ipython3",
   "version": "3.12.5"
  },
  "vscode": {
   "interpreter": {
    "hash": "fbec5cc8bb1f13e0584b60d171916a07df7bc30ce2ee62338372c9d5be648ecd"
   }
  }
 },
 "nbformat": 4,
 "nbformat_minor": 4
}
